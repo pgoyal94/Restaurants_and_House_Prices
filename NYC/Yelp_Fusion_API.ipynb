{
 "cells": [
  {
   "cell_type": "markdown",
   "id": "f9e15290",
   "metadata": {},
   "source": [
    "# Yelp Fusion API\n",
    "\n",
    "With millions of business updates every month, Yelp Fusion delivers the most current and most accurate local data available. Choose from dozens of attributes per business, and as millions of new reviews and photos are added by active Yelp users, the Yelp data set remains unparalleled in its rich detail, freshness, and accuracy.\n",
    "\n",
    "For our project, we will be pulling restaurant data for New York City based on the zip codes for the 5 boroughs of New York City : Manhattan, Bronx, Brooklyn, Queens and Staten Island. These zip codes correspond to the housing price data downloaded from [NYC Department of Finance](https://www1.nyc.gov/site/finance/taxes/property-annualized-sales-update.page). \n",
    "\n",
    "The following code for API was repeated 5 times for each borough and saved as a pickle file. \n",
    "\n",
    "**Data Source** : [Yelp Fusion API](https://www.yelp.com/developers/v3/manage_app)\n",
    "Note: This needs an authorized API key from Yelp Fusion. \n",
    "\n",
    "##### Yelp Fusion API limitations\n",
    "Yelp API data limits - Yelp allows you to pull only 1,000 results at a time and only 50 per request with 5000 API pulls approved every 24 hours. \n",
    "\n",
    "##### Method\n",
    "We created a list of zip codes for each borough from the housing price dataset. To get around the Yelp API limitation of 1,000 results at a time and only 50 per request, we adapted a function written by \"rspiro9 on Yelp vs Inspection Analysis for NYC\". We pulled 250 restaurants per zip code. \n",
    "\n",
    "\n",
    "### This notebook was run 5 times per NYC borough"
   ]
  },
  {
   "cell_type": "code",
   "execution_count": 4,
   "id": "9d079cfc",
   "metadata": {},
   "outputs": [],
   "source": [
    "import requests\n",
    "import pandas as pd\n",
    "import pickle"
   ]
  },
  {
   "cell_type": "code",
   "execution_count": 5,
   "id": "c2b7c7f7",
   "metadata": {},
   "outputs": [],
   "source": [
    "api_key = 'enter API key'"
   ]
  },
  {
   "cell_type": "code",
   "execution_count": 6,
   "id": "f1225c54",
   "metadata": {},
   "outputs": [],
   "source": [
    "# Using the yelp business search API: https://www.yelp.com/developers/documentation/v3/business_search\n",
    "\n",
    "# headers contain the api key.\n",
    "headers = {'Authorization': 'Bearer {}'.format(api_key)}\n",
    "url = 'https://api.yelp.com/v3/businesses/search'"
   ]
  },
  {
   "cell_type": "code",
   "execution_count": 165,
   "id": "86f7b52d",
   "metadata": {},
   "outputs": [],
   "source": [
    "## List of zip codes per NYC borough. Change this list for every borough. \n",
    "neighborhoods = [\"10314\",\t\"10312\",\t\"10306\",\t\"10305\",\t\"10309\",\t\"10304\",\t\"10308\",\t\"10301\",\t\"10310\",\t\"10303\",\t\"10307\",\t\"10302\",]"
   ]
  },
  {
   "cell_type": "code",
   "execution_count": 166,
   "id": "1f2b8858",
   "metadata": {},
   "outputs": [],
   "source": [
    "## Create temporary dataframe to hold data:\n",
    "nyc = [[] for i in range(len(neighborhoods))] "
   ]
  },
  {
   "cell_type": "code",
   "execution_count": 167,
   "id": "319f3d26",
   "metadata": {},
   "outputs": [
    {
     "name": "stdout",
     "output_type": "stream",
     "text": [
      "---------------------------------------------\n",
      "Gathering Data for 10314\n",
      "---------------------------------------------\n",
      "***** 10314 Restaurants #1 - #50 ....<Response [200]>\n",
      "***** 10314 Restaurants #51 - #100 ....<Response [200]>\n",
      "***** 10314 Restaurants #101 - #150 ....<Response [200]>\n",
      "***** 10314 Restaurants #151 - #200 ....<Response [200]>\n",
      "***** 10314 Restaurants #201 - #250 ....<Response [200]>\n",
      "---------------------------------------------\n",
      "Gathering Data for 10312\n",
      "---------------------------------------------\n",
      "***** 10312 Restaurants #1 - #50 ....<Response [200]>\n",
      "***** 10312 Restaurants #51 - #100 ....<Response [200]>\n",
      "***** 10312 Restaurants #101 - #150 ....<Response [200]>\n",
      "***** 10312 Restaurants #151 - #200 ....<Response [200]>\n",
      "***** 10312 Restaurants #201 - #250 ....<Response [200]>\n",
      "---------------------------------------------\n",
      "Gathering Data for 10306\n",
      "---------------------------------------------\n",
      "***** 10306 Restaurants #1 - #50 ....<Response [200]>\n",
      "***** 10306 Restaurants #51 - #100 ....<Response [200]>\n",
      "***** 10306 Restaurants #101 - #150 ....<Response [200]>\n",
      "***** 10306 Restaurants #151 - #200 ....<Response [200]>\n",
      "***** 10306 Restaurants #201 - #250 ....<Response [200]>\n",
      "---------------------------------------------\n",
      "Gathering Data for 10305\n",
      "---------------------------------------------\n",
      "***** 10305 Restaurants #1 - #50 ....<Response [200]>\n",
      "***** 10305 Restaurants #51 - #100 ....<Response [200]>\n",
      "***** 10305 Restaurants #101 - #150 ....<Response [200]>\n",
      "***** 10305 Restaurants #151 - #200 ....<Response [200]>\n",
      "***** 10305 Restaurants #201 - #250 ....<Response [200]>\n",
      "---------------------------------------------\n",
      "Gathering Data for 10309\n",
      "---------------------------------------------\n",
      "***** 10309 Restaurants #1 - #50 ....<Response [200]>\n",
      "***** 10309 Restaurants #51 - #100 ....<Response [200]>\n",
      "***** 10309 Restaurants #101 - #150 ....<Response [200]>\n",
      "***** 10309 Restaurants #151 - #200 ....<Response [200]>\n",
      "***** 10309 Restaurants #201 - #250 ....<Response [200]>\n",
      "---------------------------------------------\n",
      "Gathering Data for 10304\n",
      "---------------------------------------------\n",
      "***** 10304 Restaurants #1 - #50 ....<Response [200]>\n",
      "***** 10304 Restaurants #51 - #100 ....<Response [200]>\n",
      "***** 10304 Restaurants #101 - #150 ....<Response [200]>\n",
      "***** 10304 Restaurants #151 - #200 ....<Response [200]>\n",
      "***** 10304 Restaurants #201 - #250 ....<Response [200]>\n",
      "---------------------------------------------\n",
      "Gathering Data for 10308\n",
      "---------------------------------------------\n",
      "***** 10308 Restaurants #1 - #50 ....<Response [200]>\n",
      "***** 10308 Restaurants #51 - #100 ....<Response [200]>\n",
      "***** 10308 Restaurants #101 - #150 ....<Response [200]>\n",
      "***** 10308 Restaurants #151 - #200 ....<Response [200]>\n",
      "***** 10308 Restaurants #201 - #250 ....<Response [200]>\n",
      "---------------------------------------------\n",
      "Gathering Data for 10301\n",
      "---------------------------------------------\n",
      "***** 10301 Restaurants #1 - #50 ....<Response [200]>\n",
      "***** 10301 Restaurants #51 - #100 ....<Response [200]>\n",
      "***** 10301 Restaurants #101 - #150 ....<Response [200]>\n",
      "***** 10301 Restaurants #151 - #200 ....<Response [200]>\n",
      "***** 10301 Restaurants #201 - #250 ....<Response [200]>\n",
      "---------------------------------------------\n",
      "Gathering Data for 10310\n",
      "---------------------------------------------\n",
      "***** 10310 Restaurants #1 - #50 ....<Response [200]>\n",
      "***** 10310 Restaurants #51 - #100 ....<Response [200]>\n",
      "***** 10310 Restaurants #101 - #150 ....<Response [200]>\n",
      "***** 10310 Restaurants #151 - #200 ....<Response [200]>\n",
      "***** 10310 Restaurants #201 - #250 ....<Response [200]>\n",
      "---------------------------------------------\n",
      "Gathering Data for 10303\n",
      "---------------------------------------------\n",
      "***** 10303 Restaurants #1 - #50 ....<Response [200]>\n",
      "***** 10303 Restaurants #51 - #100 ....<Response [200]>\n",
      "***** 10303 Restaurants #101 - #150 ....<Response [200]>\n",
      "***** 10303 Restaurants #151 - #200 ....<Response [200]>\n",
      "***** 10303 Restaurants #201 - #250 ....<Response [200]>\n",
      "---------------------------------------------\n",
      "Gathering Data for 10307\n",
      "---------------------------------------------\n",
      "***** 10307 Restaurants #1 - #50 ....<Response [200]>\n",
      "***** 10307 Restaurants #51 - #100 ....<Response [200]>\n",
      "***** 10307 Restaurants #101 - #150 ....<Response [200]>\n",
      "***** 10307 Restaurants #151 - #200 ....<Response [200]>\n",
      "***** 10307 Restaurants #201 - #250 ....<Response [200]>\n",
      "---------------------------------------------\n",
      "Gathering Data for 10302\n",
      "---------------------------------------------\n",
      "***** 10302 Restaurants #1 - #50 ....<Response [200]>\n",
      "***** 10302 Restaurants #51 - #100 ....<Response [200]>\n",
      "***** 10302 Restaurants #101 - #150 ....<Response [200]>\n",
      "***** 10302 Restaurants #151 - #200 ....<Response [200]>\n",
      "***** 10302 Restaurants #201 - #250 ....<Response [200]>\n",
      "<Response [200]>\n",
      "<class 'str'>\n",
      "dict_keys(['businesses', 'total', 'region'])\n",
      "{\"businesses\": [{\"id\": \"3bi8Z9rTymbSjwNvqlxrQQ\", \"alias\": \"north-shore-pizzeria-staten-island\", \"name\": \"North Shore Pizzeria\", \"image_url\": \"https://s3-media3.fl.yelpcdn.com/bphoto/hCicqbU75URb5EIoU_u3hg/o.jpg\", \"is_closed\": false, \"url\": \"https://www.yelp.com/biz/north-shore-pizzeria-staten-island?adjust_creative=UAiRW2alNdPn0MB0SXZMcQ&utm_campaign=yelp_api_v3&utm_medium=api_v3_business_search&utm_source=UAiRW2alNdPn0MB0SXZMcQ\", \"review_count\": 22, \"categories\": [{\"alias\": \"pizza\", \"title\": \"Pizza\"}, {\"alias\": \"italian\", \"title\": \"Italian\"}], \"rating\": 3.5, \"coordinates\": {\"latitude\": 40.625304765842, \"longitude\": -74.1350018978119}, \"transactions\": [\"delivery\", \"pickup\"], \"price\": \"$\", \"location\": {\"address1\": \"1376 Forest Ave\", \"address2\": \"\", \"address3\": \"\", \"city\": \"Staten Island\", \"zip_code\": \"10302\", \"country\": \"US\", \"state\": \"NY\", \"display_address\": [\"1376 Forest Ave\", \"Staten Island, NY 10302\"]}, \"phone\": \"+17184471600\", \"display_phone\": \"(718) 447-1600\", \"distance\": 535.6049\n"
     ]
    }
   ],
   "source": [
    "#Function to draw in data for each neighborhood:\n",
    "for x in range(len(neighborhoods)):\n",
    "    print('---------------------------------------------')\n",
    "    print('Gathering Data for {}'.format(neighborhoods[x]))\n",
    "    print('---------------------------------------------')\n",
    "    \n",
    "    for y in range(5):\n",
    "        location = neighborhoods[x]\n",
    "        term = \"Restaurants\"\n",
    "        search_limit = 50\n",
    "        offset = 50 * y\n",
    "        categories = \"(restaurants, All)\"\n",
    "        sort_by = 'distance'\n",
    "        url_params = {\n",
    "                     'location': location.replace(' ', '+'),\n",
    "                     'term' : term,\n",
    "                      'limit': search_limit,\n",
    "                     'offset': offset,\n",
    "                     'categories': categories,\n",
    "                     'sorty_by': sort_by\n",
    "                     }\n",
    "        \n",
    "        response = requests.get(url, headers=headers, params=url_params)\n",
    "        print('***** {} Restaurants #{} - #{} ....{}'.format(neighborhoods[x], \n",
    "                                                             offset+1, offset+search_limit,\n",
    "                                                             response))\n",
    "        nyc[x].append(response)\n",
    "\n",
    "print(response)\n",
    "print(type(response.text))\n",
    "print(response.json().keys())\n",
    "print(response.text[:1000])"
   ]
  },
  {
   "cell_type": "code",
   "execution_count": 168,
   "id": "9953e0e8",
   "metadata": {},
   "outputs": [
    {
     "name": "stdout",
     "output_type": "stream",
     "text": [
      "Invalid data. Skipping entry...\n",
      "Invalid data. Skipping entry...\n",
      "Invalid data. Skipping entry...\n",
      "Invalid data. Skipping entry...\n",
      "Invalid data. Skipping entry...\n",
      "Invalid data. Skipping entry...\n",
      "Invalid data. Skipping entry...\n",
      "Invalid data. Skipping entry...\n",
      "Invalid data. Skipping entry...\n",
      "Invalid data. Skipping entry...\n",
      "10307 1 5\n",
      "10307 2 0\n",
      "10307 3 0\n",
      "10307 4 0\n",
      "Invalid data. Skipping entry...\n",
      "Invalid data. Skipping entry...\n"
     ]
    }
   ],
   "source": [
    "## Check for any empty business lists:\n",
    "for x in range(len(neighborhoods)):\n",
    "    try: \n",
    "        for y in range(20):\n",
    "            num = len(nyc[x][y].json()['businesses'])\n",
    "            if num != 50:\n",
    "                print(neighborhoods[x], y, num)\n",
    "    except:\n",
    "        print(\"Invalid data. Skipping entry...\")\n",
    "        pass"
   ]
  },
  {
   "cell_type": "code",
   "execution_count": 169,
   "id": "4d53a708",
   "metadata": {},
   "outputs": [
    {
     "name": "stdout",
     "output_type": "stream",
     "text": [
      "Invalid data. Skipping entry...\n",
      "Invalid data. Skipping entry...\n",
      "Invalid data. Skipping entry...\n",
      "Invalid data. Skipping entry...\n",
      "Invalid data. Skipping entry...\n",
      "Invalid data. Skipping entry...\n",
      "Invalid data. Skipping entry...\n",
      "Invalid data. Skipping entry...\n",
      "Invalid data. Skipping entry...\n",
      "Invalid data. Skipping entry...\n",
      "Invalid data. Skipping entry...\n",
      "Invalid data. Skipping entry...\n"
     ]
    }
   ],
   "source": [
    "## Save the compiled data into dataframe and remove any empty data:\n",
    "df = pd.DataFrame()\n",
    "for x in range(len(neighborhoods)):\n",
    "    try:\n",
    "        for y in range(20):\n",
    "            df_temp = pd.DataFrame.from_dict(nyc[x][y].json()['businesses'])\n",
    "            if not df_temp.empty:\n",
    "                df_temp.loc[:,'neighborhood'] = neighborhoods[x]\n",
    "                df = df.append(df_temp)\n",
    "    except:\n",
    "        print(\"Invalid data. Skipping entry...\")\n",
    "        pass"
   ]
  },
  {
   "cell_type": "markdown",
   "id": "1afe2001",
   "metadata": {},
   "source": [
    "#### Saving file as pickle\n",
    "* The pickle module keeps track of the objects it has already serialized, so that later references to the same object won’t be serialized again, thus allowing for faster execution time.\n",
    "* Allows saving model in very little time.\n",
    "* Good For small models with fewer parameters like the one we used.\n"
   ]
  },
  {
   "cell_type": "code",
   "execution_count": 170,
   "id": "a67dc943",
   "metadata": {},
   "outputs": [],
   "source": [
    "# Save Dataset: (data pulled 8/25/20)\n",
    "with open ('NYC_API/data_staten_island.pickle','wb')as f:\n",
    "    pickle.dump(df, f)"
   ]
  }
 ],
 "metadata": {
  "kernelspec": {
   "display_name": "mlenv",
   "language": "python",
   "name": "mlenv"
  },
  "language_info": {
   "codemirror_mode": {
    "name": "ipython",
    "version": 3
   },
   "file_extension": ".py",
   "mimetype": "text/x-python",
   "name": "python",
   "nbconvert_exporter": "python",
   "pygments_lexer": "ipython3",
   "version": "3.7.11"
  }
 },
 "nbformat": 4,
 "nbformat_minor": 5
}
