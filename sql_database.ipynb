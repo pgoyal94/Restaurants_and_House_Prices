{
 "cells": [
  {
   "cell_type": "code",
   "execution_count": 1,
   "id": "ce844306",
   "metadata": {},
   "outputs": [],
   "source": [
    "import sqlalchemy as db\n",
    "import pandas as pd\n",
    "import numpy as np\n",
    "import psycopg2 as p"
   ]
  },
  {
   "cell_type": "code",
   "execution_count": 2,
   "id": "e39903f8",
   "metadata": {},
   "outputs": [],
   "source": [
    "df = pd.read_csv('resources/neighborhood_tier.csv')"
   ]
  },
  {
   "cell_type": "code",
   "execution_count": 3,
   "id": "18ce94ce",
   "metadata": {},
   "outputs": [
    {
     "data": {
      "text/plain": [
       "postal_code                int64\n",
       "Mexican                    int64\n",
       "Chinese                    int64\n",
       "Italian                    int64\n",
       "Cafe                       int64\n",
       "Fastfood                   int64\n",
       "Mexican_stars            float64\n",
       "Chinese_stars            float64\n",
       "Italian_stars            float64\n",
       "Cafe_stars               float64\n",
       "Fastfood_stars           float64\n",
       "Mexican_review_count       int64\n",
       "Chinese_review_count       int64\n",
       "Italian__review_count      int64\n",
       "Cafe_review_count          int64\n",
       "Fastfood_review_count      int64\n",
       "Neighborhood_Tiers        object\n",
       "dtype: object"
      ]
     },
     "execution_count": 3,
     "metadata": {},
     "output_type": "execute_result"
    }
   ],
   "source": [
    "df.dtypes"
   ]
  },
  {
   "cell_type": "code",
   "execution_count": 4,
   "id": "e8985574",
   "metadata": {},
   "outputs": [
    {
     "data": {
      "text/plain": [
       "postal_code              0\n",
       "Mexican                  0\n",
       "Chinese                  0\n",
       "Italian                  0\n",
       "Cafe                     0\n",
       "Fastfood                 0\n",
       "Mexican_stars            0\n",
       "Chinese_stars            0\n",
       "Italian_stars            0\n",
       "Cafe_stars               0\n",
       "Fastfood_stars           0\n",
       "Mexican_review_count     0\n",
       "Chinese_review_count     0\n",
       "Italian__review_count    0\n",
       "Cafe_review_count        0\n",
       "Fastfood_review_count    0\n",
       "Neighborhood_Tiers       0\n",
       "dtype: int64"
      ]
     },
     "execution_count": 4,
     "metadata": {},
     "output_type": "execute_result"
    }
   ],
   "source": [
    "df.isna().sum()"
   ]
  },
  {
   "cell_type": "code",
   "execution_count": 5,
   "id": "07947a1c",
   "metadata": {},
   "outputs": [
    {
     "data": {
      "text/plain": [
       "Index(['postal_code', 'Mexican', 'Chinese', 'Italian', 'Cafe', 'Fastfood',\n",
       "       'Mexican_stars', 'Chinese_stars', 'Italian_stars', 'Cafe_stars',\n",
       "       'Fastfood_stars', 'Mexican_review_count', 'Chinese_review_count',\n",
       "       'Italian__review_count', 'Cafe_review_count', 'Fastfood_review_count',\n",
       "       'Neighborhood_Tiers'],\n",
       "      dtype='object')"
      ]
     },
     "execution_count": 5,
     "metadata": {},
     "output_type": "execute_result"
    }
   ],
   "source": [
    "df.columns"
   ]
  },
  {
   "cell_type": "code",
   "execution_count": 6,
   "id": "af8891a3",
   "metadata": {},
   "outputs": [
    {
     "data": {
      "text/plain": [
       "postal_code                int64\n",
       "Mexican                    int64\n",
       "Chinese                    int64\n",
       "Italian                    int64\n",
       "Cafe                       int64\n",
       "Fastfood                   int64\n",
       "Mexican_stars            float64\n",
       "Chinese_stars            float64\n",
       "Italian_stars            float64\n",
       "Cafe_stars               float64\n",
       "Fastfood_stars           float64\n",
       "Mexican_review_count       int64\n",
       "Chinese_review_count       int64\n",
       "Italian__review_count      int64\n",
       "Cafe_review_count          int64\n",
       "Fastfood_review_count      int64\n",
       "Neighborhood_Tiers        object\n",
       "dtype: object"
      ]
     },
     "execution_count": 6,
     "metadata": {},
     "output_type": "execute_result"
    }
   ],
   "source": [
    "df.dtypes"
   ]
  },
  {
   "cell_type": "code",
   "execution_count": 7,
   "id": "bb2640da",
   "metadata": {},
   "outputs": [],
   "source": [
    "# Connecting to PostgreSQL server at localhost using psycopg2 DBAPI \n",
    "connection = p.connect(\n",
    "    host = \"database-1.cx3jpmtuzudq.us-west-1.rds.amazonaws.com\",\n",
    "    port = '5432',\n",
    "    user = \"postgres\",\n",
    "    password = \"\",\n",
    "    database = \"postgres\"\n",
    ")\n",
    "cursor=connection.cursor()"
   ]
  },
  {
   "cell_type": "code",
   "execution_count": null,
   "id": "8b3c28d4",
   "metadata": {},
   "outputs": [],
   "source": [
    "cursor.execute(\"\"\" CREATE TABLE neighborhood_tier(\n",
    "postal_code integer PRIMARY KEY,\n",
    "Mexican integer,\n",
    "Chinese integer,\n",
    "Italian integer,\n",
    "Cafe integer,\n",
    "Fastfood integer,\n",
    "Mexican_stars float,\n",
    "Chinese_stars float,\n",
    "Italian_stars float,\n",
    "Cafe_stars float,\n",
    "Fastfood_stars float,\n",
    "Mexican_review_count integer,\n",
    "Chinese_review_count integer,\n",
    "Italian__review_count integer,\n",
    "Cafe_review_count integer,\n",
    "Fastfood_review_count integer,\n",
    "Neighborhood_Tiers text)\"\"\")\n",
    "\n",
    "connection.commit()"
   ]
  },
  {
   "cell_type": "code",
   "execution_count": 8,
   "id": "fc0ea68b",
   "metadata": {},
   "outputs": [],
   "source": []
  },
  {
   "cell_type": "code",
   "execution_count": 9,
   "id": "16c311e6",
   "metadata": {},
   "outputs": [],
   "source": []
  },
  {
   "cell_type": "code",
   "execution_count": null,
   "id": "303eac4e",
   "metadata": {},
   "outputs": [],
   "source": []
  }
 ],
 "metadata": {
  "kernelspec": {
   "display_name": "Python 3",
   "language": "python",
   "name": "python3"
  },
  "language_info": {
   "codemirror_mode": {
    "name": "ipython",
    "version": 3
   },
   "file_extension": ".py",
   "mimetype": "text/x-python",
   "name": "python",
   "nbconvert_exporter": "python",
   "pygments_lexer": "ipython3",
   "version": "3.7.10"
  }
 },
 "nbformat": 4,
 "nbformat_minor": 5
}
