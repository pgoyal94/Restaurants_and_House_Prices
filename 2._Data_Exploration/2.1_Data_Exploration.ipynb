{
    "cells": [
        {
            "cell_type": "markdown",
            "id": "c6fea5f0",
            "metadata": {},
            "source": [
                "# Part 2.1 : Data Exploration\n",
                "\n",
                "This notebook explores the data cleaned from the raw Yelp and Housing datasets to find patterns and trends. This data will be used for the Machine Learning Models to predict the type of neighborhoods : Above average Neighborhood tier\n",
                "or Below average neighborhood tier defined by the States median house price. \n",
                "\n",
                "Other data exploration was done on Tableau : [Link](https://public.tableau.com/app/profile/ryan.morin/viz/tableau_restaurants/RestaurantsHousePrices?publish=yes) where you can see our interactive map based on neighborhood tiers and our project analysis. "
            ]
        },
        {
            "cell_type": "code",
            "execution_count": 1,
            "id": "6cf941c8",
            "metadata": {},
            "outputs": [],
            "source": [
                "# Import dependencies\n",
                "\n",
                "import json \n",
                "import requests \n",
                "import pickle\n",
                "\n",
                "# Importing libraries to work with/explore data:\n",
                "import pandas as pd\n",
                "import numpy as np\n",
                "import datetime, time\n",
                "from sklearn import preprocessing\n",
                "from functools import reduce\n",
                "\n",
                "# Importing libraries to create visualizations:\n",
                "import matplotlib.pyplot as plt\n",
                "%matplotlib inline\n",
                "import seaborn as sns\n",
                "import matplotlib.cm as cm\n",
                "import matplotlib.patches as mpatches\n",
                "\n",
                "# import itertools\n",
                "import warnings\n",
                "warnings.filterwarnings('ignore')\n",
                "pd.set_option('display.max_rows', None)"
            ]
        },
        {
            "cell_type": "code",
            "execution_count": 2,
            "id": "8fc692e5",
            "metadata": {},
            "outputs": [
                {
                    "name": "stdout",
                    "output_type": "stream",
                    "text": [
                        "(13988, 451)\n"
                    ]
                },
                {
                    "data": {
                        "text/html": [
                            "<div>\n",
                            "<style scoped>\n",
                            "    .dataframe tbody tr th:only-of-type {\n",
                            "        vertical-align: middle;\n",
                            "    }\n",
                            "\n",
                            "    .dataframe tbody tr th {\n",
                            "        vertical-align: top;\n",
                            "    }\n",
                            "\n",
                            "    .dataframe thead th {\n",
                            "        text-align: right;\n",
                            "    }\n",
                            "</style>\n",
                            "<table border=\"1\" class=\"dataframe\">\n",
                            "  <thead>\n",
                            "    <tr style=\"text-align: right;\">\n",
                            "      <th></th>\n",
                            "      <th>postal_code</th>\n",
                            "      <th>City</th>\n",
                            "      <th>State</th>\n",
                            "      <th>CountyName</th>\n",
                            "      <th>2021</th>\n",
                            "      <th>total_restaurants</th>\n",
                            "      <th>total_reviews</th>\n",
                            "      <th>avg_rating</th>\n",
                            "      <th>total_delivery</th>\n",
                            "      <th>total_pickup</th>\n",
                            "      <th>...</th>\n",
                            "      <th>vermouthbars</th>\n",
                            "      <th>shavedsnow</th>\n",
                            "      <th>pubfood</th>\n",
                            "      <th>bistros</th>\n",
                            "      <th>modern_australian</th>\n",
                            "      <th>rotisserie_chicken</th>\n",
                            "      <th>slovakian</th>\n",
                            "      <th>Average County House Price</th>\n",
                            "      <th>Neighborhood Indicator</th>\n",
                            "      <th>Neighborhood Tiers</th>\n",
                            "    </tr>\n",
                            "  </thead>\n",
                            "  <tbody>\n",
                            "    <tr>\n",
                            "      <th>0</th>\n",
                            "      <td>1267.0</td>\n",
                            "      <td>Williamstown</td>\n",
                            "      <td>MA</td>\n",
                            "      <td>Berkshire County</td>\n",
                            "      <td>357029.0</td>\n",
                            "      <td>23</td>\n",
                            "      <td>1347.0</td>\n",
                            "      <td>3.782609</td>\n",
                            "      <td>1.0</td>\n",
                            "      <td>2.0</td>\n",
                            "      <td>...</td>\n",
                            "      <td>0.0</td>\n",
                            "      <td>0.0</td>\n",
                            "      <td>0.0</td>\n",
                            "      <td>0.0</td>\n",
                            "      <td>0.0</td>\n",
                            "      <td>0.0</td>\n",
                            "      <td>0.0</td>\n",
                            "      <td>357029.0</td>\n",
                            "      <td>1.000000</td>\n",
                            "      <td>1</td>\n",
                            "    </tr>\n",
                            "    <tr>\n",
                            "      <th>1</th>\n",
                            "      <td>2134.0</td>\n",
                            "      <td>Boston</td>\n",
                            "      <td>MA</td>\n",
                            "      <td>Suffolk County</td>\n",
                            "      <td>620830.0</td>\n",
                            "      <td>1</td>\n",
                            "      <td>2.0</td>\n",
                            "      <td>4.500000</td>\n",
                            "      <td>0.0</td>\n",
                            "      <td>0.0</td>\n",
                            "      <td>...</td>\n",
                            "      <td>0.0</td>\n",
                            "      <td>0.0</td>\n",
                            "      <td>0.0</td>\n",
                            "      <td>0.0</td>\n",
                            "      <td>0.0</td>\n",
                            "      <td>0.0</td>\n",
                            "      <td>0.0</td>\n",
                            "      <td>619403.0</td>\n",
                            "      <td>1.002304</td>\n",
                            "      <td>1</td>\n",
                            "    </tr>\n",
                            "    <tr>\n",
                            "      <th>2</th>\n",
                            "      <td>11702.0</td>\n",
                            "      <td>Babylon</td>\n",
                            "      <td>NY</td>\n",
                            "      <td>Suffolk County</td>\n",
                            "      <td>612637.0</td>\n",
                            "      <td>34</td>\n",
                            "      <td>6364.0</td>\n",
                            "      <td>3.926471</td>\n",
                            "      <td>31.0</td>\n",
                            "      <td>20.0</td>\n",
                            "      <td>...</td>\n",
                            "      <td>0.0</td>\n",
                            "      <td>0.0</td>\n",
                            "      <td>0.0</td>\n",
                            "      <td>0.0</td>\n",
                            "      <td>0.0</td>\n",
                            "      <td>0.0</td>\n",
                            "      <td>0.0</td>\n",
                            "      <td>619403.0</td>\n",
                            "      <td>0.989077</td>\n",
                            "      <td>1</td>\n",
                            "    </tr>\n",
                            "    <tr>\n",
                            "      <th>3</th>\n",
                            "      <td>11703.0</td>\n",
                            "      <td>North Babylon</td>\n",
                            "      <td>NY</td>\n",
                            "      <td>Suffolk County</td>\n",
                            "      <td>501250.0</td>\n",
                            "      <td>5</td>\n",
                            "      <td>708.0</td>\n",
                            "      <td>4.200000</td>\n",
                            "      <td>4.0</td>\n",
                            "      <td>3.0</td>\n",
                            "      <td>...</td>\n",
                            "      <td>0.0</td>\n",
                            "      <td>0.0</td>\n",
                            "      <td>0.0</td>\n",
                            "      <td>0.0</td>\n",
                            "      <td>0.0</td>\n",
                            "      <td>0.0</td>\n",
                            "      <td>0.0</td>\n",
                            "      <td>619403.0</td>\n",
                            "      <td>0.809247</td>\n",
                            "      <td>2</td>\n",
                            "    </tr>\n",
                            "    <tr>\n",
                            "      <th>4</th>\n",
                            "      <td>11704.0</td>\n",
                            "      <td>West Babylon</td>\n",
                            "      <td>NY</td>\n",
                            "      <td>Suffolk County</td>\n",
                            "      <td>501198.0</td>\n",
                            "      <td>3</td>\n",
                            "      <td>231.0</td>\n",
                            "      <td>4.000000</td>\n",
                            "      <td>3.0</td>\n",
                            "      <td>3.0</td>\n",
                            "      <td>...</td>\n",
                            "      <td>0.0</td>\n",
                            "      <td>0.0</td>\n",
                            "      <td>0.0</td>\n",
                            "      <td>0.0</td>\n",
                            "      <td>0.0</td>\n",
                            "      <td>0.0</td>\n",
                            "      <td>0.0</td>\n",
                            "      <td>619403.0</td>\n",
                            "      <td>0.809163</td>\n",
                            "      <td>2</td>\n",
                            "    </tr>\n",
                            "  </tbody>\n",
                            "</table>\n",
                            "<p>5 rows × 451 columns</p>\n",
                            "</div>"
                        ],
                        "text/plain": [
                            "   postal_code           City State        CountyName      2021  \\\n",
                            "0       1267.0   Williamstown    MA  Berkshire County  357029.0   \n",
                            "1       2134.0         Boston    MA    Suffolk County  620830.0   \n",
                            "2      11702.0        Babylon    NY    Suffolk County  612637.0   \n",
                            "3      11703.0  North Babylon    NY    Suffolk County  501250.0   \n",
                            "4      11704.0   West Babylon    NY    Suffolk County  501198.0   \n",
                            "\n",
                            "   total_restaurants  total_reviews  avg_rating  total_delivery  total_pickup  \\\n",
                            "0                 23         1347.0    3.782609             1.0           2.0   \n",
                            "1                  1            2.0    4.500000             0.0           0.0   \n",
                            "2                 34         6364.0    3.926471            31.0          20.0   \n",
                            "3                  5          708.0    4.200000             4.0           3.0   \n",
                            "4                  3          231.0    4.000000             3.0           3.0   \n",
                            "\n",
                            "   ...  vermouthbars  shavedsnow  pubfood  bistros  modern_australian  \\\n",
                            "0  ...           0.0         0.0      0.0      0.0                0.0   \n",
                            "1  ...           0.0         0.0      0.0      0.0                0.0   \n",
                            "2  ...           0.0         0.0      0.0      0.0                0.0   \n",
                            "3  ...           0.0         0.0      0.0      0.0                0.0   \n",
                            "4  ...           0.0         0.0      0.0      0.0                0.0   \n",
                            "\n",
                            "   rotisserie_chicken  slovakian  Average County House Price  \\\n",
                            "0                 0.0        0.0                    357029.0   \n",
                            "1                 0.0        0.0                    619403.0   \n",
                            "2                 0.0        0.0                    619403.0   \n",
                            "3                 0.0        0.0                    619403.0   \n",
                            "4                 0.0        0.0                    619403.0   \n",
                            "\n",
                            "   Neighborhood Indicator  Neighborhood Tiers  \n",
                            "0                1.000000                   1  \n",
                            "1                1.002304                   1  \n",
                            "2                0.989077                   1  \n",
                            "3                0.809247                   2  \n",
                            "4                0.809163                   2  \n",
                            "\n",
                            "[5 rows x 451 columns]"
                        ]
                    },
                    "execution_count": 2,
                    "metadata": {},
                    "output_type": "execute_result"
                }
            ],
            "source": [
                "#read in file from AWS\n",
                "\n",
                "from config import aws_password\n",
                "\n",
                "import sqlalchemy as db\n",
                "import psycopg2 as p\n",
                "connection = p.connect(\n",
                "    host = \"database-1.cx3jpmtuzudq.us-west-1.rds.amazonaws.com\",\n",
                "    port = '5432',\n",
                "    user = \"postgres\",\n",
                "    password = aws_password,\n",
                "    database = \"postgres\"\n",
                ")\n",
                "sql = '''\n",
                "SELECT *\n",
                "FROM public.neighborhood_tier\n",
                "'''\n",
                "#Read in the data and create a dataframe\n",
                "df = pd.read_sql(sql, con=connection)\n",
                "\n",
                "print(df.shape)\n",
                "df.head()"
            ]
        },
        {
            "cell_type": "markdown",
            "id": "530610f3",
            "metadata": {},
            "source": [
                "#  Tiers  per Restaurant categories"
            ]
        },
        {
            "cell_type": "code",
            "execution_count": 3,
            "id": "f0cda919",
            "metadata": {},
            "outputs": [
                {
                    "data": {
                        "text/html": [
                            "<div>\n",
                            "<style scoped>\n",
                            "    .dataframe tbody tr th:only-of-type {\n",
                            "        vertical-align: middle;\n",
                            "    }\n",
                            "\n",
                            "    .dataframe tbody tr th {\n",
                            "        vertical-align: top;\n",
                            "    }\n",
                            "\n",
                            "    .dataframe thead th {\n",
                            "        text-align: right;\n",
                            "    }\n",
                            "</style>\n",
                            "<table border=\"1\" class=\"dataframe\">\n",
                            "  <thead>\n",
                            "    <tr style=\"text-align: right;\">\n",
                            "      <th></th>\n",
                            "      <th>bars</th>\n",
                            "      <th>newamerican</th>\n",
                            "      <th>wine_bars</th>\n",
                            "      <th>italian</th>\n",
                            "      <th>tapasmallplates</th>\n",
                            "      <th>pizza</th>\n",
                            "      <th>breakfast_brunch</th>\n",
                            "      <th>mexican</th>\n",
                            "      <th>mediterranean</th>\n",
                            "      <th>sandwiches</th>\n",
                            "      <th>...</th>\n",
                            "      <th>kombucha</th>\n",
                            "      <th>iberian</th>\n",
                            "      <th>piadina</th>\n",
                            "      <th>vermouthbars</th>\n",
                            "      <th>shavedsnow</th>\n",
                            "      <th>pubfood</th>\n",
                            "      <th>bistros</th>\n",
                            "      <th>modern_australian</th>\n",
                            "      <th>rotisserie_chicken</th>\n",
                            "      <th>slovakian</th>\n",
                            "    </tr>\n",
                            "  </thead>\n",
                            "  <tbody>\n",
                            "    <tr>\n",
                            "      <th>0</th>\n",
                            "      <td>2.0</td>\n",
                            "      <td>0.0</td>\n",
                            "      <td>0.0</td>\n",
                            "      <td>0.0</td>\n",
                            "      <td>0.0</td>\n",
                            "      <td>4.0</td>\n",
                            "      <td>3.0</td>\n",
                            "      <td>3.0</td>\n",
                            "      <td>2.0</td>\n",
                            "      <td>1.0</td>\n",
                            "      <td>...</td>\n",
                            "      <td>0.0</td>\n",
                            "      <td>0.0</td>\n",
                            "      <td>0.0</td>\n",
                            "      <td>0.0</td>\n",
                            "      <td>0.0</td>\n",
                            "      <td>0.0</td>\n",
                            "      <td>0.0</td>\n",
                            "      <td>0.0</td>\n",
                            "      <td>0.0</td>\n",
                            "      <td>0.0</td>\n",
                            "    </tr>\n",
                            "    <tr>\n",
                            "      <th>1</th>\n",
                            "      <td>0.0</td>\n",
                            "      <td>0.0</td>\n",
                            "      <td>0.0</td>\n",
                            "      <td>0.0</td>\n",
                            "      <td>0.0</td>\n",
                            "      <td>0.0</td>\n",
                            "      <td>0.0</td>\n",
                            "      <td>0.0</td>\n",
                            "      <td>0.0</td>\n",
                            "      <td>0.0</td>\n",
                            "      <td>...</td>\n",
                            "      <td>0.0</td>\n",
                            "      <td>0.0</td>\n",
                            "      <td>0.0</td>\n",
                            "      <td>0.0</td>\n",
                            "      <td>0.0</td>\n",
                            "      <td>0.0</td>\n",
                            "      <td>0.0</td>\n",
                            "      <td>0.0</td>\n",
                            "      <td>0.0</td>\n",
                            "      <td>0.0</td>\n",
                            "    </tr>\n",
                            "    <tr>\n",
                            "      <th>2</th>\n",
                            "      <td>2.0</td>\n",
                            "      <td>6.0</td>\n",
                            "      <td>2.0</td>\n",
                            "      <td>5.0</td>\n",
                            "      <td>0.0</td>\n",
                            "      <td>3.0</td>\n",
                            "      <td>1.0</td>\n",
                            "      <td>2.0</td>\n",
                            "      <td>0.0</td>\n",
                            "      <td>2.0</td>\n",
                            "      <td>...</td>\n",
                            "      <td>0.0</td>\n",
                            "      <td>1.0</td>\n",
                            "      <td>0.0</td>\n",
                            "      <td>0.0</td>\n",
                            "      <td>0.0</td>\n",
                            "      <td>0.0</td>\n",
                            "      <td>0.0</td>\n",
                            "      <td>0.0</td>\n",
                            "      <td>0.0</td>\n",
                            "      <td>0.0</td>\n",
                            "    </tr>\n",
                            "    <tr>\n",
                            "      <th>3</th>\n",
                            "      <td>0.0</td>\n",
                            "      <td>0.0</td>\n",
                            "      <td>0.0</td>\n",
                            "      <td>0.0</td>\n",
                            "      <td>0.0</td>\n",
                            "      <td>0.0</td>\n",
                            "      <td>0.0</td>\n",
                            "      <td>1.0</td>\n",
                            "      <td>1.0</td>\n",
                            "      <td>0.0</td>\n",
                            "      <td>...</td>\n",
                            "      <td>0.0</td>\n",
                            "      <td>0.0</td>\n",
                            "      <td>0.0</td>\n",
                            "      <td>0.0</td>\n",
                            "      <td>0.0</td>\n",
                            "      <td>0.0</td>\n",
                            "      <td>0.0</td>\n",
                            "      <td>0.0</td>\n",
                            "      <td>0.0</td>\n",
                            "      <td>0.0</td>\n",
                            "    </tr>\n",
                            "    <tr>\n",
                            "      <th>4</th>\n",
                            "      <td>1.0</td>\n",
                            "      <td>0.0</td>\n",
                            "      <td>0.0</td>\n",
                            "      <td>0.0</td>\n",
                            "      <td>0.0</td>\n",
                            "      <td>0.0</td>\n",
                            "      <td>0.0</td>\n",
                            "      <td>0.0</td>\n",
                            "      <td>1.0</td>\n",
                            "      <td>0.0</td>\n",
                            "      <td>...</td>\n",
                            "      <td>0.0</td>\n",
                            "      <td>0.0</td>\n",
                            "      <td>0.0</td>\n",
                            "      <td>0.0</td>\n",
                            "      <td>0.0</td>\n",
                            "      <td>0.0</td>\n",
                            "      <td>0.0</td>\n",
                            "      <td>0.0</td>\n",
                            "      <td>0.0</td>\n",
                            "      <td>0.0</td>\n",
                            "    </tr>\n",
                            "  </tbody>\n",
                            "</table>\n",
                            "<p>5 rows × 211 columns</p>\n",
                            "</div>"
                        ],
                        "text/plain": [
                            "   bars  newamerican  wine_bars  italian  tapasmallplates  pizza  \\\n",
                            "0   2.0          0.0        0.0      0.0              0.0    4.0   \n",
                            "1   0.0          0.0        0.0      0.0              0.0    0.0   \n",
                            "2   2.0          6.0        2.0      5.0              0.0    3.0   \n",
                            "3   0.0          0.0        0.0      0.0              0.0    0.0   \n",
                            "4   1.0          0.0        0.0      0.0              0.0    0.0   \n",
                            "\n",
                            "   breakfast_brunch  mexican  mediterranean  sandwiches  ...  kombucha  \\\n",
                            "0               3.0      3.0            2.0         1.0  ...       0.0   \n",
                            "1               0.0      0.0            0.0         0.0  ...       0.0   \n",
                            "2               1.0      2.0            0.0         2.0  ...       0.0   \n",
                            "3               0.0      1.0            1.0         0.0  ...       0.0   \n",
                            "4               0.0      0.0            1.0         0.0  ...       0.0   \n",
                            "\n",
                            "   iberian  piadina  vermouthbars  shavedsnow  pubfood  bistros  \\\n",
                            "0      0.0      0.0           0.0         0.0      0.0      0.0   \n",
                            "1      0.0      0.0           0.0         0.0      0.0      0.0   \n",
                            "2      1.0      0.0           0.0         0.0      0.0      0.0   \n",
                            "3      0.0      0.0           0.0         0.0      0.0      0.0   \n",
                            "4      0.0      0.0           0.0         0.0      0.0      0.0   \n",
                            "\n",
                            "   modern_australian  rotisserie_chicken  slovakian  \n",
                            "0                0.0                 0.0        0.0  \n",
                            "1                0.0                 0.0        0.0  \n",
                            "2                0.0                 0.0        0.0  \n",
                            "3                0.0                 0.0        0.0  \n",
                            "4                0.0                 0.0        0.0  \n",
                            "\n",
                            "[5 rows x 211 columns]"
                        ]
                    },
                    "execution_count": 3,
                    "metadata": {},
                    "output_type": "execute_result"
                }
            ],
            "source": [
                "#Extract only category columns\n",
                "cols = df.columns[237:448]\n",
                "cat_df = df[cols]\n",
                "cat_df.head()"
            ]
        },
        {
            "cell_type": "code",
            "execution_count": 4,
            "id": "80aff82a",
            "metadata": {},
            "outputs": [
                {
                    "name": "stdout",
                    "output_type": "stream",
                    "text": [
                        "(13988, 212)\n"
                    ]
                },
                {
                    "data": {
                        "text/html": [
                            "<div>\n",
                            "<style scoped>\n",
                            "    .dataframe tbody tr th:only-of-type {\n",
                            "        vertical-align: middle;\n",
                            "    }\n",
                            "\n",
                            "    .dataframe tbody tr th {\n",
                            "        vertical-align: top;\n",
                            "    }\n",
                            "\n",
                            "    .dataframe thead th {\n",
                            "        text-align: right;\n",
                            "    }\n",
                            "</style>\n",
                            "<table border=\"1\" class=\"dataframe\">\n",
                            "  <thead>\n",
                            "    <tr style=\"text-align: right;\">\n",
                            "      <th></th>\n",
                            "      <th>Neighborhood Tiers</th>\n",
                            "      <th>bars</th>\n",
                            "      <th>newamerican</th>\n",
                            "      <th>wine_bars</th>\n",
                            "      <th>italian</th>\n",
                            "      <th>tapasmallplates</th>\n",
                            "      <th>pizza</th>\n",
                            "      <th>breakfast_brunch</th>\n",
                            "      <th>mexican</th>\n",
                            "      <th>mediterranean</th>\n",
                            "      <th>...</th>\n",
                            "      <th>kombucha</th>\n",
                            "      <th>iberian</th>\n",
                            "      <th>piadina</th>\n",
                            "      <th>vermouthbars</th>\n",
                            "      <th>shavedsnow</th>\n",
                            "      <th>pubfood</th>\n",
                            "      <th>bistros</th>\n",
                            "      <th>modern_australian</th>\n",
                            "      <th>rotisserie_chicken</th>\n",
                            "      <th>slovakian</th>\n",
                            "    </tr>\n",
                            "  </thead>\n",
                            "  <tbody>\n",
                            "    <tr>\n",
                            "      <th>0</th>\n",
                            "      <td>1</td>\n",
                            "      <td>2.0</td>\n",
                            "      <td>0.0</td>\n",
                            "      <td>0.0</td>\n",
                            "      <td>0.0</td>\n",
                            "      <td>0.0</td>\n",
                            "      <td>4.0</td>\n",
                            "      <td>3.0</td>\n",
                            "      <td>3.0</td>\n",
                            "      <td>2.0</td>\n",
                            "      <td>...</td>\n",
                            "      <td>0.0</td>\n",
                            "      <td>0.0</td>\n",
                            "      <td>0.0</td>\n",
                            "      <td>0.0</td>\n",
                            "      <td>0.0</td>\n",
                            "      <td>0.0</td>\n",
                            "      <td>0.0</td>\n",
                            "      <td>0.0</td>\n",
                            "      <td>0.0</td>\n",
                            "      <td>0.0</td>\n",
                            "    </tr>\n",
                            "    <tr>\n",
                            "      <th>1</th>\n",
                            "      <td>1</td>\n",
                            "      <td>0.0</td>\n",
                            "      <td>0.0</td>\n",
                            "      <td>0.0</td>\n",
                            "      <td>0.0</td>\n",
                            "      <td>0.0</td>\n",
                            "      <td>0.0</td>\n",
                            "      <td>0.0</td>\n",
                            "      <td>0.0</td>\n",
                            "      <td>0.0</td>\n",
                            "      <td>...</td>\n",
                            "      <td>0.0</td>\n",
                            "      <td>0.0</td>\n",
                            "      <td>0.0</td>\n",
                            "      <td>0.0</td>\n",
                            "      <td>0.0</td>\n",
                            "      <td>0.0</td>\n",
                            "      <td>0.0</td>\n",
                            "      <td>0.0</td>\n",
                            "      <td>0.0</td>\n",
                            "      <td>0.0</td>\n",
                            "    </tr>\n",
                            "    <tr>\n",
                            "      <th>2</th>\n",
                            "      <td>1</td>\n",
                            "      <td>2.0</td>\n",
                            "      <td>6.0</td>\n",
                            "      <td>2.0</td>\n",
                            "      <td>5.0</td>\n",
                            "      <td>0.0</td>\n",
                            "      <td>3.0</td>\n",
                            "      <td>1.0</td>\n",
                            "      <td>2.0</td>\n",
                            "      <td>0.0</td>\n",
                            "      <td>...</td>\n",
                            "      <td>0.0</td>\n",
                            "      <td>1.0</td>\n",
                            "      <td>0.0</td>\n",
                            "      <td>0.0</td>\n",
                            "      <td>0.0</td>\n",
                            "      <td>0.0</td>\n",
                            "      <td>0.0</td>\n",
                            "      <td>0.0</td>\n",
                            "      <td>0.0</td>\n",
                            "      <td>0.0</td>\n",
                            "    </tr>\n",
                            "    <tr>\n",
                            "      <th>3</th>\n",
                            "      <td>2</td>\n",
                            "      <td>0.0</td>\n",
                            "      <td>0.0</td>\n",
                            "      <td>0.0</td>\n",
                            "      <td>0.0</td>\n",
                            "      <td>0.0</td>\n",
                            "      <td>0.0</td>\n",
                            "      <td>0.0</td>\n",
                            "      <td>1.0</td>\n",
                            "      <td>1.0</td>\n",
                            "      <td>...</td>\n",
                            "      <td>0.0</td>\n",
                            "      <td>0.0</td>\n",
                            "      <td>0.0</td>\n",
                            "      <td>0.0</td>\n",
                            "      <td>0.0</td>\n",
                            "      <td>0.0</td>\n",
                            "      <td>0.0</td>\n",
                            "      <td>0.0</td>\n",
                            "      <td>0.0</td>\n",
                            "      <td>0.0</td>\n",
                            "    </tr>\n",
                            "    <tr>\n",
                            "      <th>4</th>\n",
                            "      <td>2</td>\n",
                            "      <td>1.0</td>\n",
                            "      <td>0.0</td>\n",
                            "      <td>0.0</td>\n",
                            "      <td>0.0</td>\n",
                            "      <td>0.0</td>\n",
                            "      <td>0.0</td>\n",
                            "      <td>0.0</td>\n",
                            "      <td>0.0</td>\n",
                            "      <td>1.0</td>\n",
                            "      <td>...</td>\n",
                            "      <td>0.0</td>\n",
                            "      <td>0.0</td>\n",
                            "      <td>0.0</td>\n",
                            "      <td>0.0</td>\n",
                            "      <td>0.0</td>\n",
                            "      <td>0.0</td>\n",
                            "      <td>0.0</td>\n",
                            "      <td>0.0</td>\n",
                            "      <td>0.0</td>\n",
                            "      <td>0.0</td>\n",
                            "    </tr>\n",
                            "  </tbody>\n",
                            "</table>\n",
                            "<p>5 rows × 212 columns</p>\n",
                            "</div>"
                        ],
                        "text/plain": [
                            "   Neighborhood Tiers  bars  newamerican  wine_bars  italian  tapasmallplates  \\\n",
                            "0                   1   2.0          0.0        0.0      0.0              0.0   \n",
                            "1                   1   0.0          0.0        0.0      0.0              0.0   \n",
                            "2                   1   2.0          6.0        2.0      5.0              0.0   \n",
                            "3                   2   0.0          0.0        0.0      0.0              0.0   \n",
                            "4                   2   1.0          0.0        0.0      0.0              0.0   \n",
                            "\n",
                            "   pizza  breakfast_brunch  mexican  mediterranean  ...  kombucha  iberian  \\\n",
                            "0    4.0               3.0      3.0            2.0  ...       0.0      0.0   \n",
                            "1    0.0               0.0      0.0            0.0  ...       0.0      0.0   \n",
                            "2    3.0               1.0      2.0            0.0  ...       0.0      1.0   \n",
                            "3    0.0               0.0      1.0            1.0  ...       0.0      0.0   \n",
                            "4    0.0               0.0      0.0            1.0  ...       0.0      0.0   \n",
                            "\n",
                            "   piadina  vermouthbars  shavedsnow  pubfood  bistros  modern_australian  \\\n",
                            "0      0.0           0.0         0.0      0.0      0.0                0.0   \n",
                            "1      0.0           0.0         0.0      0.0      0.0                0.0   \n",
                            "2      0.0           0.0         0.0      0.0      0.0                0.0   \n",
                            "3      0.0           0.0         0.0      0.0      0.0                0.0   \n",
                            "4      0.0           0.0         0.0      0.0      0.0                0.0   \n",
                            "\n",
                            "   rotisserie_chicken  slovakian  \n",
                            "0                 0.0        0.0  \n",
                            "1                 0.0        0.0  \n",
                            "2                 0.0        0.0  \n",
                            "3                 0.0        0.0  \n",
                            "4                 0.0        0.0  \n",
                            "\n",
                            "[5 rows x 212 columns]"
                        ]
                    },
                    "execution_count": 4,
                    "metadata": {},
                    "output_type": "execute_result"
                }
            ],
            "source": [
                "#Extract only Neighborhood Tiers from dataframe df\n",
                "tier_df = df[\"Neighborhood Tiers\"]\n",
                "\n",
                "#Merge dataframes cat_df and tier_df to create a dataframe with only categories and neighborhood tiers. \n",
                "df_tiers_cat = pd.merge(tier_df, cat_df, left_index=True, right_index=True)\n",
                "print(df_tiers_cat.shape)\n",
                "df_tiers_cat.head()"
            ]
        },
        {
            "cell_type": "markdown",
            "id": "22e01511",
            "metadata": {},
            "source": [
                "###### Tier1 vs Tier2"
            ]
        },
        {
            "cell_type": "code",
            "execution_count": 5,
            "id": "2319383e",
            "metadata": {},
            "outputs": [
                {
                    "data": {
                        "text/html": [
                            "<div>\n",
                            "<style scoped>\n",
                            "    .dataframe tbody tr th:only-of-type {\n",
                            "        vertical-align: middle;\n",
                            "    }\n",
                            "\n",
                            "    .dataframe tbody tr th {\n",
                            "        vertical-align: top;\n",
                            "    }\n",
                            "\n",
                            "    .dataframe thead th {\n",
                            "        text-align: right;\n",
                            "    }\n",
                            "</style>\n",
                            "<table border=\"1\" class=\"dataframe\">\n",
                            "  <thead>\n",
                            "    <tr style=\"text-align: right;\">\n",
                            "      <th></th>\n",
                            "      <th>Neighborhood Tiers</th>\n",
                            "      <th>bars</th>\n",
                            "      <th>newamerican</th>\n",
                            "      <th>wine_bars</th>\n",
                            "      <th>italian</th>\n",
                            "      <th>tapasmallplates</th>\n",
                            "      <th>pizza</th>\n",
                            "      <th>breakfast_brunch</th>\n",
                            "      <th>mexican</th>\n",
                            "      <th>mediterranean</th>\n",
                            "      <th>...</th>\n",
                            "      <th>kombucha</th>\n",
                            "      <th>iberian</th>\n",
                            "      <th>piadina</th>\n",
                            "      <th>vermouthbars</th>\n",
                            "      <th>shavedsnow</th>\n",
                            "      <th>pubfood</th>\n",
                            "      <th>bistros</th>\n",
                            "      <th>modern_australian</th>\n",
                            "      <th>rotisserie_chicken</th>\n",
                            "      <th>slovakian</th>\n",
                            "    </tr>\n",
                            "    <tr>\n",
                            "      <th>Neighborhood Tiers</th>\n",
                            "      <th></th>\n",
                            "      <th></th>\n",
                            "      <th></th>\n",
                            "      <th></th>\n",
                            "      <th></th>\n",
                            "      <th></th>\n",
                            "      <th></th>\n",
                            "      <th></th>\n",
                            "      <th></th>\n",
                            "      <th></th>\n",
                            "      <th></th>\n",
                            "      <th></th>\n",
                            "      <th></th>\n",
                            "      <th></th>\n",
                            "      <th></th>\n",
                            "      <th></th>\n",
                            "      <th></th>\n",
                            "      <th></th>\n",
                            "      <th></th>\n",
                            "      <th></th>\n",
                            "      <th></th>\n",
                            "    </tr>\n",
                            "  </thead>\n",
                            "  <tbody>\n",
                            "    <tr>\n",
                            "      <th>False</th>\n",
                            "      <td>13922</td>\n",
                            "      <td>5419.0</td>\n",
                            "      <td>6155.0</td>\n",
                            "      <td>1208.0</td>\n",
                            "      <td>5340.0</td>\n",
                            "      <td>570.0</td>\n",
                            "      <td>12205.0</td>\n",
                            "      <td>10397.0</td>\n",
                            "      <td>13563.0</td>\n",
                            "      <td>1776.0</td>\n",
                            "      <td>...</td>\n",
                            "      <td>5.0</td>\n",
                            "      <td>4.0</td>\n",
                            "      <td>0.0</td>\n",
                            "      <td>0.0</td>\n",
                            "      <td>5.0</td>\n",
                            "      <td>2.0</td>\n",
                            "      <td>3.0</td>\n",
                            "      <td>5.0</td>\n",
                            "      <td>0.0</td>\n",
                            "      <td>2.0</td>\n",
                            "    </tr>\n",
                            "    <tr>\n",
                            "      <th>True</th>\n",
                            "      <td>7027</td>\n",
                            "      <td>7747.0</td>\n",
                            "      <td>9825.0</td>\n",
                            "      <td>2533.0</td>\n",
                            "      <td>8100.0</td>\n",
                            "      <td>998.0</td>\n",
                            "      <td>14437.0</td>\n",
                            "      <td>13238.0</td>\n",
                            "      <td>11438.0</td>\n",
                            "      <td>2619.0</td>\n",
                            "      <td>...</td>\n",
                            "      <td>8.0</td>\n",
                            "      <td>4.0</td>\n",
                            "      <td>4.0</td>\n",
                            "      <td>1.0</td>\n",
                            "      <td>3.0</td>\n",
                            "      <td>2.0</td>\n",
                            "      <td>3.0</td>\n",
                            "      <td>8.0</td>\n",
                            "      <td>1.0</td>\n",
                            "      <td>1.0</td>\n",
                            "    </tr>\n",
                            "  </tbody>\n",
                            "</table>\n",
                            "<p>2 rows × 212 columns</p>\n",
                            "</div>"
                        ],
                        "text/plain": [
                            "                    Neighborhood Tiers    bars  newamerican  wine_bars  \\\n",
                            "Neighborhood Tiers                                                       \n",
                            "False                            13922  5419.0       6155.0     1208.0   \n",
                            "True                              7027  7747.0       9825.0     2533.0   \n",
                            "\n",
                            "                    italian  tapasmallplates    pizza  breakfast_brunch  \\\n",
                            "Neighborhood Tiers                                                        \n",
                            "False                5340.0            570.0  12205.0           10397.0   \n",
                            "True                 8100.0            998.0  14437.0           13238.0   \n",
                            "\n",
                            "                    mexican  mediterranean  ...  kombucha  iberian  piadina  \\\n",
                            "Neighborhood Tiers                          ...                               \n",
                            "False               13563.0         1776.0  ...       5.0      4.0      0.0   \n",
                            "True                11438.0         2619.0  ...       8.0      4.0      4.0   \n",
                            "\n",
                            "                    vermouthbars  shavedsnow  pubfood  bistros  \\\n",
                            "Neighborhood Tiers                                               \n",
                            "False                        0.0         5.0      2.0      3.0   \n",
                            "True                         1.0         3.0      2.0      3.0   \n",
                            "\n",
                            "                    modern_australian  rotisserie_chicken  slovakian  \n",
                            "Neighborhood Tiers                                                    \n",
                            "False                             5.0                 0.0        2.0  \n",
                            "True                              8.0                 1.0        1.0  \n",
                            "\n",
                            "[2 rows x 212 columns]"
                        ]
                    },
                    "execution_count": 5,
                    "metadata": {},
                    "output_type": "execute_result"
                }
            ],
            "source": [
                "# Sum all the categories. You will get True for Tier1 and False for Tier2\n",
                "\n",
                "df_cat = df_tiers_cat.groupby(df_tiers_cat[\"Neighborhood Tiers\"]==1).sum()\n",
                "df_cat.head()"
            ]
        },
        {
            "cell_type": "code",
            "execution_count": 6,
            "id": "82e2f840",
            "metadata": {},
            "outputs": [],
            "source": [
                "#Insert a column Tier2 and Tier1 corresponding to False and True\n",
                "df_cat.insert(1,\"Neighborhood_Tiers\", [\"Tier2\",\"Tier1\"])"
            ]
        },
        {
            "cell_type": "code",
            "execution_count": 7,
            "id": "8839ce17",
            "metadata": {},
            "outputs": [
                {
                    "data": {
                        "text/html": [
                            "<div>\n",
                            "<style scoped>\n",
                            "    .dataframe tbody tr th:only-of-type {\n",
                            "        vertical-align: middle;\n",
                            "    }\n",
                            "\n",
                            "    .dataframe tbody tr th {\n",
                            "        vertical-align: top;\n",
                            "    }\n",
                            "\n",
                            "    .dataframe thead th {\n",
                            "        text-align: right;\n",
                            "    }\n",
                            "</style>\n",
                            "<table border=\"1\" class=\"dataframe\">\n",
                            "  <thead>\n",
                            "    <tr style=\"text-align: right;\">\n",
                            "      <th></th>\n",
                            "      <th>Neighborhood Tiers</th>\n",
                            "      <th>Neighborhood_Tiers</th>\n",
                            "      <th>bars</th>\n",
                            "      <th>newamerican</th>\n",
                            "      <th>wine_bars</th>\n",
                            "      <th>italian</th>\n",
                            "      <th>tapasmallplates</th>\n",
                            "      <th>pizza</th>\n",
                            "      <th>breakfast_brunch</th>\n",
                            "      <th>mexican</th>\n",
                            "      <th>...</th>\n",
                            "      <th>kombucha</th>\n",
                            "      <th>iberian</th>\n",
                            "      <th>piadina</th>\n",
                            "      <th>vermouthbars</th>\n",
                            "      <th>shavedsnow</th>\n",
                            "      <th>pubfood</th>\n",
                            "      <th>bistros</th>\n",
                            "      <th>modern_australian</th>\n",
                            "      <th>rotisserie_chicken</th>\n",
                            "      <th>slovakian</th>\n",
                            "    </tr>\n",
                            "    <tr>\n",
                            "      <th>Neighborhood Tiers</th>\n",
                            "      <th></th>\n",
                            "      <th></th>\n",
                            "      <th></th>\n",
                            "      <th></th>\n",
                            "      <th></th>\n",
                            "      <th></th>\n",
                            "      <th></th>\n",
                            "      <th></th>\n",
                            "      <th></th>\n",
                            "      <th></th>\n",
                            "      <th></th>\n",
                            "      <th></th>\n",
                            "      <th></th>\n",
                            "      <th></th>\n",
                            "      <th></th>\n",
                            "      <th></th>\n",
                            "      <th></th>\n",
                            "      <th></th>\n",
                            "      <th></th>\n",
                            "      <th></th>\n",
                            "      <th></th>\n",
                            "    </tr>\n",
                            "  </thead>\n",
                            "  <tbody>\n",
                            "    <tr>\n",
                            "      <th>False</th>\n",
                            "      <td>13922</td>\n",
                            "      <td>Tier2</td>\n",
                            "      <td>5419.0</td>\n",
                            "      <td>6155.0</td>\n",
                            "      <td>1208.0</td>\n",
                            "      <td>5340.0</td>\n",
                            "      <td>570.0</td>\n",
                            "      <td>12205.0</td>\n",
                            "      <td>10397.0</td>\n",
                            "      <td>13563.0</td>\n",
                            "      <td>...</td>\n",
                            "      <td>5.0</td>\n",
                            "      <td>4.0</td>\n",
                            "      <td>0.0</td>\n",
                            "      <td>0.0</td>\n",
                            "      <td>5.0</td>\n",
                            "      <td>2.0</td>\n",
                            "      <td>3.0</td>\n",
                            "      <td>5.0</td>\n",
                            "      <td>0.0</td>\n",
                            "      <td>2.0</td>\n",
                            "    </tr>\n",
                            "    <tr>\n",
                            "      <th>True</th>\n",
                            "      <td>7027</td>\n",
                            "      <td>Tier1</td>\n",
                            "      <td>7747.0</td>\n",
                            "      <td>9825.0</td>\n",
                            "      <td>2533.0</td>\n",
                            "      <td>8100.0</td>\n",
                            "      <td>998.0</td>\n",
                            "      <td>14437.0</td>\n",
                            "      <td>13238.0</td>\n",
                            "      <td>11438.0</td>\n",
                            "      <td>...</td>\n",
                            "      <td>8.0</td>\n",
                            "      <td>4.0</td>\n",
                            "      <td>4.0</td>\n",
                            "      <td>1.0</td>\n",
                            "      <td>3.0</td>\n",
                            "      <td>2.0</td>\n",
                            "      <td>3.0</td>\n",
                            "      <td>8.0</td>\n",
                            "      <td>1.0</td>\n",
                            "      <td>1.0</td>\n",
                            "    </tr>\n",
                            "  </tbody>\n",
                            "</table>\n",
                            "<p>2 rows × 213 columns</p>\n",
                            "</div>"
                        ],
                        "text/plain": [
                            "                    Neighborhood Tiers Neighborhood_Tiers    bars  \\\n",
                            "Neighborhood Tiers                                                  \n",
                            "False                            13922              Tier2  5419.0   \n",
                            "True                              7027              Tier1  7747.0   \n",
                            "\n",
                            "                    newamerican  wine_bars  italian  tapasmallplates    pizza  \\\n",
                            "Neighborhood Tiers                                                              \n",
                            "False                    6155.0     1208.0   5340.0            570.0  12205.0   \n",
                            "True                     9825.0     2533.0   8100.0            998.0  14437.0   \n",
                            "\n",
                            "                    breakfast_brunch  mexican  ...  kombucha  iberian  \\\n",
                            "Neighborhood Tiers                             ...                      \n",
                            "False                        10397.0  13563.0  ...       5.0      4.0   \n",
                            "True                         13238.0  11438.0  ...       8.0      4.0   \n",
                            "\n",
                            "                    piadina  vermouthbars  shavedsnow  pubfood  bistros  \\\n",
                            "Neighborhood Tiers                                                        \n",
                            "False                   0.0           0.0         5.0      2.0      3.0   \n",
                            "True                    4.0           1.0         3.0      2.0      3.0   \n",
                            "\n",
                            "                    modern_australian  rotisserie_chicken  slovakian  \n",
                            "Neighborhood Tiers                                                    \n",
                            "False                             5.0                 0.0        2.0  \n",
                            "True                              8.0                 1.0        1.0  \n",
                            "\n",
                            "[2 rows x 213 columns]"
                        ]
                    },
                    "execution_count": 7,
                    "metadata": {},
                    "output_type": "execute_result"
                }
            ],
            "source": [
                "df_cat.head()"
            ]
        },
        {
            "cell_type": "code",
            "execution_count": 8,
            "id": "6cb92249",
            "metadata": {},
            "outputs": [],
            "source": [
                "#drop \"Neighborhood Tiers\" columns\n",
                "df_cat = df_cat.drop(columns=[\"Neighborhood Tiers\"], axis=1)"
            ]
        },
        {
            "cell_type": "code",
            "execution_count": 9,
            "id": "2e32b997",
            "metadata": {},
            "outputs": [
                {
                    "data": {
                        "text/html": [
                            "<div>\n",
                            "<style scoped>\n",
                            "    .dataframe tbody tr th:only-of-type {\n",
                            "        vertical-align: middle;\n",
                            "    }\n",
                            "\n",
                            "    .dataframe tbody tr th {\n",
                            "        vertical-align: top;\n",
                            "    }\n",
                            "\n",
                            "    .dataframe thead th {\n",
                            "        text-align: right;\n",
                            "    }\n",
                            "</style>\n",
                            "<table border=\"1\" class=\"dataframe\">\n",
                            "  <thead>\n",
                            "    <tr style=\"text-align: right;\">\n",
                            "      <th></th>\n",
                            "      <th>Neighborhood Tiers</th>\n",
                            "      <th>Neighborhood_Tiers</th>\n",
                            "      <th>bars</th>\n",
                            "      <th>newamerican</th>\n",
                            "      <th>wine_bars</th>\n",
                            "      <th>italian</th>\n",
                            "      <th>tapasmallplates</th>\n",
                            "      <th>pizza</th>\n",
                            "      <th>breakfast_brunch</th>\n",
                            "      <th>mexican</th>\n",
                            "      <th>...</th>\n",
                            "      <th>kombucha</th>\n",
                            "      <th>iberian</th>\n",
                            "      <th>piadina</th>\n",
                            "      <th>vermouthbars</th>\n",
                            "      <th>shavedsnow</th>\n",
                            "      <th>pubfood</th>\n",
                            "      <th>bistros</th>\n",
                            "      <th>modern_australian</th>\n",
                            "      <th>rotisserie_chicken</th>\n",
                            "      <th>slovakian</th>\n",
                            "    </tr>\n",
                            "  </thead>\n",
                            "  <tbody>\n",
                            "    <tr>\n",
                            "      <th>0</th>\n",
                            "      <td>False</td>\n",
                            "      <td>Tier2</td>\n",
                            "      <td>5419.0</td>\n",
                            "      <td>6155.0</td>\n",
                            "      <td>1208.0</td>\n",
                            "      <td>5340.0</td>\n",
                            "      <td>570.0</td>\n",
                            "      <td>12205.0</td>\n",
                            "      <td>10397.0</td>\n",
                            "      <td>13563.0</td>\n",
                            "      <td>...</td>\n",
                            "      <td>5.0</td>\n",
                            "      <td>4.0</td>\n",
                            "      <td>0.0</td>\n",
                            "      <td>0.0</td>\n",
                            "      <td>5.0</td>\n",
                            "      <td>2.0</td>\n",
                            "      <td>3.0</td>\n",
                            "      <td>5.0</td>\n",
                            "      <td>0.0</td>\n",
                            "      <td>2.0</td>\n",
                            "    </tr>\n",
                            "    <tr>\n",
                            "      <th>1</th>\n",
                            "      <td>True</td>\n",
                            "      <td>Tier1</td>\n",
                            "      <td>7747.0</td>\n",
                            "      <td>9825.0</td>\n",
                            "      <td>2533.0</td>\n",
                            "      <td>8100.0</td>\n",
                            "      <td>998.0</td>\n",
                            "      <td>14437.0</td>\n",
                            "      <td>13238.0</td>\n",
                            "      <td>11438.0</td>\n",
                            "      <td>...</td>\n",
                            "      <td>8.0</td>\n",
                            "      <td>4.0</td>\n",
                            "      <td>4.0</td>\n",
                            "      <td>1.0</td>\n",
                            "      <td>3.0</td>\n",
                            "      <td>2.0</td>\n",
                            "      <td>3.0</td>\n",
                            "      <td>8.0</td>\n",
                            "      <td>1.0</td>\n",
                            "      <td>1.0</td>\n",
                            "    </tr>\n",
                            "  </tbody>\n",
                            "</table>\n",
                            "<p>2 rows × 213 columns</p>\n",
                            "</div>"
                        ],
                        "text/plain": [
                            "   Neighborhood Tiers Neighborhood_Tiers    bars  newamerican  wine_bars  \\\n",
                            "0               False              Tier2  5419.0       6155.0     1208.0   \n",
                            "1                True              Tier1  7747.0       9825.0     2533.0   \n",
                            "\n",
                            "   italian  tapasmallplates    pizza  breakfast_brunch  mexican  ...  \\\n",
                            "0   5340.0            570.0  12205.0           10397.0  13563.0  ...   \n",
                            "1   8100.0            998.0  14437.0           13238.0  11438.0  ...   \n",
                            "\n",
                            "   kombucha  iberian  piadina  vermouthbars  shavedsnow  pubfood  bistros  \\\n",
                            "0       5.0      4.0      0.0           0.0         5.0      2.0      3.0   \n",
                            "1       8.0      4.0      4.0           1.0         3.0      2.0      3.0   \n",
                            "\n",
                            "   modern_australian  rotisserie_chicken  slovakian  \n",
                            "0                5.0                 0.0        2.0  \n",
                            "1                8.0                 1.0        1.0  \n",
                            "\n",
                            "[2 rows x 213 columns]"
                        ]
                    },
                    "execution_count": 9,
                    "metadata": {},
                    "output_type": "execute_result"
                }
            ],
            "source": [
                "#reset index\n",
                "df_cat = df_cat.reset_index()\n",
                "df_cat.head()"
            ]
        },
        {
            "cell_type": "code",
            "execution_count": 10,
            "id": "a5f1f104",
            "metadata": {},
            "outputs": [
                {
                    "data": {
                        "text/html": [
                            "<div>\n",
                            "<style scoped>\n",
                            "    .dataframe tbody tr th:only-of-type {\n",
                            "        vertical-align: middle;\n",
                            "    }\n",
                            "\n",
                            "    .dataframe tbody tr th {\n",
                            "        vertical-align: top;\n",
                            "    }\n",
                            "\n",
                            "    .dataframe thead th {\n",
                            "        text-align: right;\n",
                            "    }\n",
                            "</style>\n",
                            "<table border=\"1\" class=\"dataframe\">\n",
                            "  <thead>\n",
                            "    <tr style=\"text-align: right;\">\n",
                            "      <th></th>\n",
                            "      <th>Neighborhood_Tiers</th>\n",
                            "      <th>bars</th>\n",
                            "      <th>newamerican</th>\n",
                            "      <th>wine_bars</th>\n",
                            "      <th>italian</th>\n",
                            "      <th>tapasmallplates</th>\n",
                            "      <th>pizza</th>\n",
                            "      <th>breakfast_brunch</th>\n",
                            "      <th>mexican</th>\n",
                            "      <th>mediterranean</th>\n",
                            "      <th>...</th>\n",
                            "      <th>kombucha</th>\n",
                            "      <th>iberian</th>\n",
                            "      <th>piadina</th>\n",
                            "      <th>vermouthbars</th>\n",
                            "      <th>shavedsnow</th>\n",
                            "      <th>pubfood</th>\n",
                            "      <th>bistros</th>\n",
                            "      <th>modern_australian</th>\n",
                            "      <th>rotisserie_chicken</th>\n",
                            "      <th>slovakian</th>\n",
                            "    </tr>\n",
                            "  </thead>\n",
                            "  <tbody>\n",
                            "    <tr>\n",
                            "      <th>0</th>\n",
                            "      <td>Tier2</td>\n",
                            "      <td>5419.0</td>\n",
                            "      <td>6155.0</td>\n",
                            "      <td>1208.0</td>\n",
                            "      <td>5340.0</td>\n",
                            "      <td>570.0</td>\n",
                            "      <td>12205.0</td>\n",
                            "      <td>10397.0</td>\n",
                            "      <td>13563.0</td>\n",
                            "      <td>1776.0</td>\n",
                            "      <td>...</td>\n",
                            "      <td>5.0</td>\n",
                            "      <td>4.0</td>\n",
                            "      <td>0.0</td>\n",
                            "      <td>0.0</td>\n",
                            "      <td>5.0</td>\n",
                            "      <td>2.0</td>\n",
                            "      <td>3.0</td>\n",
                            "      <td>5.0</td>\n",
                            "      <td>0.0</td>\n",
                            "      <td>2.0</td>\n",
                            "    </tr>\n",
                            "    <tr>\n",
                            "      <th>1</th>\n",
                            "      <td>Tier1</td>\n",
                            "      <td>7747.0</td>\n",
                            "      <td>9825.0</td>\n",
                            "      <td>2533.0</td>\n",
                            "      <td>8100.0</td>\n",
                            "      <td>998.0</td>\n",
                            "      <td>14437.0</td>\n",
                            "      <td>13238.0</td>\n",
                            "      <td>11438.0</td>\n",
                            "      <td>2619.0</td>\n",
                            "      <td>...</td>\n",
                            "      <td>8.0</td>\n",
                            "      <td>4.0</td>\n",
                            "      <td>4.0</td>\n",
                            "      <td>1.0</td>\n",
                            "      <td>3.0</td>\n",
                            "      <td>2.0</td>\n",
                            "      <td>3.0</td>\n",
                            "      <td>8.0</td>\n",
                            "      <td>1.0</td>\n",
                            "      <td>1.0</td>\n",
                            "    </tr>\n",
                            "  </tbody>\n",
                            "</table>\n",
                            "<p>2 rows × 212 columns</p>\n",
                            "</div>"
                        ],
                        "text/plain": [
                            "  Neighborhood_Tiers    bars  newamerican  wine_bars  italian  \\\n",
                            "0              Tier2  5419.0       6155.0     1208.0   5340.0   \n",
                            "1              Tier1  7747.0       9825.0     2533.0   8100.0   \n",
                            "\n",
                            "   tapasmallplates    pizza  breakfast_brunch  mexican  mediterranean  ...  \\\n",
                            "0            570.0  12205.0           10397.0  13563.0         1776.0  ...   \n",
                            "1            998.0  14437.0           13238.0  11438.0         2619.0  ...   \n",
                            "\n",
                            "   kombucha  iberian  piadina  vermouthbars  shavedsnow  pubfood  bistros  \\\n",
                            "0       5.0      4.0      0.0           0.0         5.0      2.0      3.0   \n",
                            "1       8.0      4.0      4.0           1.0         3.0      2.0      3.0   \n",
                            "\n",
                            "   modern_australian  rotisserie_chicken  slovakian  \n",
                            "0                5.0                 0.0        2.0  \n",
                            "1                8.0                 1.0        1.0  \n",
                            "\n",
                            "[2 rows x 212 columns]"
                        ]
                    },
                    "execution_count": 10,
                    "metadata": {},
                    "output_type": "execute_result"
                }
            ],
            "source": [
                "#drop \"Neighborhood Tiers\" column again\n",
                "df_cat = df_cat.drop(columns=[\"Neighborhood Tiers\"], axis=1)\n",
                "df_cat.head()"
            ]
        },
        {
            "cell_type": "code",
            "execution_count": 11,
            "id": "e32f43a2",
            "metadata": {},
            "outputs": [
                {
                    "data": {
                        "text/html": [
                            "<div>\n",
                            "<style scoped>\n",
                            "    .dataframe tbody tr th:only-of-type {\n",
                            "        vertical-align: middle;\n",
                            "    }\n",
                            "\n",
                            "    .dataframe tbody tr th {\n",
                            "        vertical-align: top;\n",
                            "    }\n",
                            "\n",
                            "    .dataframe thead th {\n",
                            "        text-align: right;\n",
                            "    }\n",
                            "</style>\n",
                            "<table border=\"1\" class=\"dataframe\">\n",
                            "  <thead>\n",
                            "    <tr style=\"text-align: right;\">\n",
                            "      <th></th>\n",
                            "      <th>Categories</th>\n",
                            "      <th>Tier2</th>\n",
                            "      <th>Tier1</th>\n",
                            "    </tr>\n",
                            "  </thead>\n",
                            "  <tbody>\n",
                            "    <tr>\n",
                            "      <th>0</th>\n",
                            "      <td>bars</td>\n",
                            "      <td>5419.0</td>\n",
                            "      <td>7747.0</td>\n",
                            "    </tr>\n",
                            "    <tr>\n",
                            "      <th>1</th>\n",
                            "      <td>newamerican</td>\n",
                            "      <td>6155.0</td>\n",
                            "      <td>9825.0</td>\n",
                            "    </tr>\n",
                            "    <tr>\n",
                            "      <th>2</th>\n",
                            "      <td>wine_bars</td>\n",
                            "      <td>1208.0</td>\n",
                            "      <td>2533.0</td>\n",
                            "    </tr>\n",
                            "    <tr>\n",
                            "      <th>3</th>\n",
                            "      <td>italian</td>\n",
                            "      <td>5340.0</td>\n",
                            "      <td>8100.0</td>\n",
                            "    </tr>\n",
                            "    <tr>\n",
                            "      <th>4</th>\n",
                            "      <td>tapasmallplates</td>\n",
                            "      <td>570.0</td>\n",
                            "      <td>998.0</td>\n",
                            "    </tr>\n",
                            "  </tbody>\n",
                            "</table>\n",
                            "</div>"
                        ],
                        "text/plain": [
                            "        Categories   Tier2   Tier1\n",
                            "0             bars  5419.0  7747.0\n",
                            "1      newamerican  6155.0  9825.0\n",
                            "2        wine_bars  1208.0  2533.0\n",
                            "3          italian  5340.0  8100.0\n",
                            "4  tapasmallplates   570.0   998.0"
                        ]
                    },
                    "execution_count": 11,
                    "metadata": {},
                    "output_type": "execute_result"
                }
            ],
            "source": [
                "#Transpose the Categories column\n",
                "df_T = df_cat.set_index('Neighborhood_Tiers').T.rename_axis('Categories').reset_index().rename_axis(None, axis=1)\n",
                "df_T.head()\n"
            ]
        },
        {
            "cell_type": "code",
            "execution_count": 12,
            "id": "6c1ccd4f",
            "metadata": {},
            "outputs": [
                {
                    "data": {
                        "text/plain": [
                            "Neighborhood Tiers\n",
                            "False    106812\n",
                            "True     120451\n",
                            "Name: num_rest_types, dtype: int64"
                        ]
                    },
                    "execution_count": 12,
                    "metadata": {},
                    "output_type": "execute_result"
                }
            ],
            "source": [
                "#Total number of Tier2 restaurants\n",
                "total_tier2 = df.groupby(df[\"Neighborhood Tiers\"]==2).sum()[\"num_rest_types\"]\n",
                "total_tier2\n",
                "\n",
                "#Total number of Tier1 restaurants\n",
                "total_tier1 = df.groupby(df[\"Neighborhood Tiers\"]==1).sum()[\"num_rest_types\"]\n",
                "total_tier1\n"
            ]
        },
        {
            "cell_type": "code",
            "execution_count": 13,
            "id": "8bac0d3f",
            "metadata": {},
            "outputs": [],
            "source": [
                "#Filter the top 30 Tier2 categories\n",
                "df1 = df_T.nlargest(30, \"Tier2\")\n"
            ]
        },
        {
            "cell_type": "code",
            "execution_count": 31,
            "id": "d3f1f49b",
            "metadata": {},
            "outputs": [
                {
                    "data": {
                        "image/png": "[encoded data removed]",
                        "text/plain": [
                            "<Figure size 1800x1080 with 1 Axes>"
                        ]
                    },
                    "metadata": {
                        "needs_background": "light"
                    },
                    "output_type": "display_data"
                }
            ],
            "source": [
                "# plotting graph\n",
                "\n",
                "df1.plot(x=\"Categories\", y=[\"Tier2\", \"Tier1\"], \n",
                "         kind=\"barh\",color = ['olive', 'lightblue'], figsize=(25, 15), width=0.85).invert_yaxis()\n",
                "plt.title(\"Tier1 vs Tier2 Restaurant Categories\")\n",
                "plt.yticks()\n",
                "\n",
                "plt.show()"
            ]
        },
        {
            "cell_type": "markdown",
            "id": "57adea73",
            "metadata": {},
            "source": [
                "The top Tier1 Neighborhood Restaurant categories is comapared to Tier2 Neighborhood. We can see that Tier1 Neighborhoods have significantly more Cafes (includes coffeeshops), Sandwiches Bars(cocktail bars, sports bars etc), Brunch, Italian, French, Japanese and Mediterranean restaurant categories. Whereas Tier2 Neighborhoods have more Latin American, Mexican, Chinese Fastfood(burgers, chickenwings, hotdogs etc). Interestingly Pizza which is considered fast food in United States is in larger numbers in Tier1 Neighborhoods. "
            ]
        },
        {
            "cell_type": "markdown",
            "id": "85bef206",
            "metadata": {},
            "source": [
                "# Trend Analysis with Scatterplots"
            ]
        },
        {
            "cell_type": "markdown",
            "id": "59f1d82b",
            "metadata": {},
            "source": [
                "#### Total Restaurants vs Neighborhood Tiers"
            ]
        },
        {
            "cell_type": "code",
            "execution_count": 17,
            "id": "4bd96b38",
            "metadata": {},
            "outputs": [
                {
                    "data": {
                        "text/plain": [
                            "[<matplotlib.lines.Line2D at 0x7fec90675150>]"
                        ]
                    },
                    "execution_count": 17,
                    "metadata": {},
                    "output_type": "execute_result"
                },
                {
                    "data": {
                        "image/png": "[encoded data removed]",
                        "text/plain": [
                            "<Figure size 432x288 with 1 Axes>"
                        ]
                    },
                    "metadata": {
                        "needs_background": "light"
                    },
                    "output_type": "display_data"
                }
            ],
            "source": [
                "plt.figure(1)\n",
                "plt.plot(df.total_restaurants,df[\"Neighborhood Tiers\"],'o')\n"
            ]
        },
        {
            "cell_type": "markdown",
            "id": "edc67f84",
            "metadata": {},
            "source": [
                "We do not see an obvious trend between the total number of restaurants and neighborhood tiers. "
            ]
        },
        {
            "cell_type": "markdown",
            "id": "725a5b8a",
            "metadata": {},
            "source": [
                "#### Total Reviews vs Neighborhood Tiers"
            ]
        },
        {
            "cell_type": "code",
            "execution_count": 18,
            "id": "99cada99",
            "metadata": {},
            "outputs": [
                {
                    "data": {
                        "image/png": "[encoded data removed]",
                        "text/plain": [
                            "<Figure size 432x288 with 1 Axes>"
                        ]
                    },
                    "metadata": {
                        "needs_background": "light"
                    },
                    "output_type": "display_data"
                }
            ],
            "source": [
                "plt.plot(df[\"total_reviews\"], df[\"Neighborhood Tiers\"],'o')\n",
                "plt.show()"
            ]
        },
        {
            "cell_type": "markdown",
            "id": "3f3f66a9",
            "metadata": {},
            "source": [
                "We do not see an obvious trend between the total reviews of restaurants and neighborhood tiers."
            ]
        },
        {
            "cell_type": "markdown",
            "id": "c99990d9",
            "metadata": {},
            "source": [
                "#### Coffee categories vs Neighborhood Tiers"
            ]
        },
        {
            "cell_type": "code",
            "execution_count": 19,
            "id": "0291cb88",
            "metadata": {},
            "outputs": [
                {
                    "data": {
                        "image/png": "[encoded data removed]",
                        "text/plain": [
                            "<Figure size 432x288 with 1 Axes>"
                        ]
                    },
                    "metadata": {
                        "needs_background": "light"
                    },
                    "output_type": "display_data"
                }
            ],
            "source": [
                "y = df[[\"coffee\",\t\"coffeeroasteries\", \"cafes\",\t\"brasseries\",\t\"hkcafe\"\n",
                "        ,\t\"themedcafes\",\t\"bistros\"]].sum(axis=1)\n",
                "\n",
                "plt.plot(y, df[\"Neighborhood Tiers\"],'o')\n",
                "plt.show()"
            ]
        },
        {
            "cell_type": "markdown",
            "id": "44458954",
            "metadata": {},
            "source": [
                "We do see an slight trend in Tier1 neighborhoods having more cafes and coffee shops"
            ]
        },
        {
            "cell_type": "markdown",
            "id": "50e283d3",
            "metadata": {},
            "source": [
                "#### Beer categories vs Neighborhood Tiers"
            ]
        },
        {
            "cell_type": "code",
            "execution_count": 20,
            "id": "f97f01ad",
            "metadata": {},
            "outputs": [
                {
                    "data": {
                        "image/png": "[encoded data removed]",
                        "text/plain": [
                            "<Figure size 432x288 with 1 Axes>"
                        ]
                    },
                    "metadata": {
                        "needs_background": "light"
                    },
                    "output_type": "display_data"
                }
            ],
            "source": [
                "y = df[[ \"beer_and_wine\",\t\"beerbar\",\t\"beergardens\",\t\"breweries\",\t\"brewpubs\",\"champagne_bars\",\n",
                "        \"distilleries\",\t\"meaderies\",\t\"wineries\"]].sum(axis=1)\n",
                "\n",
                "plt.plot(y, df[\"Neighborhood Tiers\"],'o')\n",
                "plt.show()"
            ]
        },
        {
            "cell_type": "markdown",
            "id": "624fea95",
            "metadata": {},
            "source": [
                "We see an slight trend in Tier2 neighborhoods having more bars and beer and wine establishments"
            ]
        },
        {
            "cell_type": "markdown",
            "id": "f58eacdb",
            "metadata": {},
            "source": [
                "#### African categories vs Neighborhood Tiers"
            ]
        },
        {
            "cell_type": "code",
            "execution_count": 22,
            "id": "1d6d8710",
            "metadata": {},
            "outputs": [
                {
                    "data": {
                        "image/png": "[encoded data removed]",
                        "text/plain": [
                            "<Figure size 432x288 with 1 Axes>"
                        ]
                    },
                    "metadata": {
                        "needs_background": "light"
                    },
                    "output_type": "display_data"
                }
            ],
            "source": [
                "y = df[[ \"african\",\t\"egyptian\",\t\"eritrean\",\t\"ethiopian\",\t\"iberian\",\t\"moroccan\",\n",
                "           \"senegalese\",\"somali\",\t\"southafrican\"]].sum(axis=1)\n",
                "plt.plot(y, df[\"Neighborhood Tiers\"],'o')\n",
                "plt.show()"
            ]
        },
        {
            "cell_type": "markdown",
            "id": "457e9d82",
            "metadata": {},
            "source": [
                "There is an obvious trend in Tier2 neighborhoods having African cusine restaurants than Tier1"
            ]
        },
        {
            "cell_type": "markdown",
            "id": "c14e9a72",
            "metadata": {},
            "source": [
                "#### New and Traditional American categories vs Neighborhood Tiers"
            ]
        },
        {
            "cell_type": "code",
            "execution_count": 33,
            "id": "aeaf58d0",
            "metadata": {},
            "outputs": [
                {
                    "data": {
                        "image/png": "[encoded data removed]",
                        "text/plain": [
                            "<Figure size 432x288 with 1 Axes>"
                        ]
                    },
                    "metadata": {
                        "needs_background": "light"
                    },
                    "output_type": "display_data"
                }
            ],
            "source": [
                "y = df[['newamerican','tradamerican']].sum(axis=1)\n",
                "plt.plot(y, df[\"Neighborhood Tiers\"],'o')\n",
                "plt.show()"
            ]
        },
        {
            "cell_type": "markdown",
            "id": "f85e7720",
            "metadata": {},
            "source": [
                "Tier1 neighborhoods have more New and Traditional American restaurants than Tier2 neighborhoods."
            ]
        },
        {
            "cell_type": "markdown",
            "id": "3b456652",
            "metadata": {},
            "source": [
                "#### Mexican categories vs Neighborhood Tiers"
            ]
        },
        {
            "cell_type": "code",
            "execution_count": 36,
            "id": "fb5d4833",
            "metadata": {},
            "outputs": [
                {
                    "data": {
                        "image/png": "[encoded data removed]",
                        "text/plain": [
                            "<Figure size 432x288 with 1 Axes>"
                        ]
                    },
                    "metadata": {
                        "needs_background": "light"
                    },
                    "output_type": "display_data"
                }
            ],
            "source": [
                "y = df[[\"mexican\"]].sum(axis=1)\n",
                "plt.plot(y, df[\"Neighborhood Tiers\"],'o')\n",
                "plt.show()"
            ]
        },
        {
            "cell_type": "markdown",
            "id": "30837646",
            "metadata": {},
            "source": [
                "There is an obvious trend of neighborhood Tier2 having more Mexican establishments than Tier1 neighborhoods. \n",
                "\n",
                "\n",
                "The above trend analysis shows a slight trend for certain restaurant categories like Mexican and African cusines being in Tier2 a lot more and Tier1 neighborhoods having more cafes. "
            ]
        },
        {
            "cell_type": "markdown",
            "id": "74f00b7d",
            "metadata": {},
            "source": [
                "# Tiers By State"
            ]
        },
        {
            "cell_type": "code",
            "execution_count": 38,
            "id": "a580eaad",
            "metadata": {},
            "outputs": [],
            "source": [
                "df1 = df.groupby([\"CountyName\"]).count()[\"Neighborhood Tiers\"]"
            ]
        },
        {
            "cell_type": "code",
            "execution_count": 39,
            "id": "5877f9e8",
            "metadata": {},
            "outputs": [
                {
                    "name": "stdout",
                    "output_type": "stream",
                    "text": [
                        "# Of Restaurants Per State: \n",
                        " State\n",
                        "CA    978\n",
                        "TX    977\n",
                        "PA    864\n",
                        "NY    835\n",
                        "OH    765\n",
                        "IL    665\n",
                        "FL    637\n",
                        "MI    488\n",
                        "IN    444\n",
                        "MO    441\n",
                        "VA    387\n",
                        "NC    384\n",
                        "GA    380\n",
                        "IA    371\n",
                        "TN    360\n",
                        "MN    348\n",
                        "AL    325\n",
                        "WI    302\n",
                        "WA    268\n",
                        "KY    267\n",
                        "KS    263\n",
                        "MD    254\n",
                        "CO    241\n",
                        "AR    237\n",
                        "LA    236\n",
                        "OK    234\n",
                        "AZ    211\n",
                        "SC    207\n",
                        "WV    204\n",
                        "OR    192\n",
                        "NE    190\n",
                        "MS    137\n",
                        "UT    107\n",
                        "NJ     95\n",
                        "NV     87\n",
                        "MT     82\n",
                        "ID     77\n",
                        "NM     72\n",
                        "SD     63\n",
                        "CT     60\n",
                        "DE     50\n",
                        "VT     48\n",
                        "ND     41\n",
                        "WY     37\n",
                        "AK     27\n",
                        "DC     23\n",
                        "HI     22\n",
                        "NH      2\n",
                        "MA      2\n",
                        "RI      1\n",
                        "Name: Neighborhood Tiers, dtype: int64\n"
                    ]
                }
            ],
            "source": [
                "df_state_tiers = df.loc[df['Neighborhood Tiers'].isin([1,2,3])].copy()\n",
                "\n",
                "# List in descending order the number of neighborhood tiers in each state:\n",
                "print('# Of Restaurants Per State:','\\n',\n",
                "      df_state_tiers['Neighborhood Tiers'].groupby(df_state_tiers['State']).count().sort_values(ascending=False))"
            ]
        },
        {
            "cell_type": "code",
            "execution_count": 40,
            "id": "55831677",
            "metadata": {},
            "outputs": [
                {
                    "data": {
                        "image/png": "[encoded data removed]",
                        "text/plain": [
                            "<Figure size 1080x576 with 1 Axes>"
                        ]
                    },
                    "metadata": {
                        "needs_background": "light"
                    },
                    "output_type": "display_data"
                }
            ],
            "source": [
                "# Create a bar chart comparing the # of each neighborhood tier in each state:\n",
                "plt.figure(figsize=(15,8))\n",
                "sns.countplot(data=df_state_tiers, x='State',hue='Neighborhood Tiers')\n",
                "\n",
                "# Add chart title and labels\n",
                "plt.title('Tiers By State', fontsize=20)\n",
                "plt.xlabel('State', fontsize=14)\n",
                "plt.xticks(rotation=45);\n",
                "plt.yticks(rotation=90);"
            ]
        },
        {
            "cell_type": "markdown",
            "id": "147b259f",
            "metadata": {},
            "source": [
                "# Neighborhood Tiers by # of Reviews and Yelp Rating"
            ]
        },
        {
            "cell_type": "code",
            "execution_count": 41,
            "id": "d53b2f2e",
            "metadata": {},
            "outputs": [
                {
                    "data": {
                        "text/plain": [
                            "(240589, 19)"
                        ]
                    },
                    "execution_count": 41,
                    "metadata": {},
                    "output_type": "execute_result"
                }
            ],
            "source": [
                "#read in the expanded_restaurants.csv\n",
                "df_tiers = pd.read_csv(\"yelp_housing_merge.csv\")\n",
                "df_tiers_extract = df_tiers[[\"postal_code\", \"rating\", \"review_count\"]]\n",
                "df_tiers.shape\n"
            ]
        },
        {
            "cell_type": "code",
            "execution_count": 42,
            "id": "830c34f7",
            "metadata": {},
            "outputs": [
                {
                    "name": "stdout",
                    "output_type": "stream",
                    "text": [
                        "(240589, 3)\n"
                    ]
                },
                {
                    "data": {
                        "text/html": [
                            "<div>\n",
                            "<style scoped>\n",
                            "    .dataframe tbody tr th:only-of-type {\n",
                            "        vertical-align: middle;\n",
                            "    }\n",
                            "\n",
                            "    .dataframe tbody tr th {\n",
                            "        vertical-align: top;\n",
                            "    }\n",
                            "\n",
                            "    .dataframe thead th {\n",
                            "        text-align: right;\n",
                            "    }\n",
                            "</style>\n",
                            "<table border=\"1\" class=\"dataframe\">\n",
                            "  <thead>\n",
                            "    <tr style=\"text-align: right;\">\n",
                            "      <th></th>\n",
                            "      <th>Neighborhood Tiers</th>\n",
                            "      <th>rating</th>\n",
                            "      <th>review_count</th>\n",
                            "    </tr>\n",
                            "  </thead>\n",
                            "  <tbody>\n",
                            "    <tr>\n",
                            "      <th>0</th>\n",
                            "      <td>1</td>\n",
                            "      <td>4.0</td>\n",
                            "      <td>156</td>\n",
                            "    </tr>\n",
                            "    <tr>\n",
                            "      <th>1</th>\n",
                            "      <td>1</td>\n",
                            "      <td>4.5</td>\n",
                            "      <td>140</td>\n",
                            "    </tr>\n",
                            "    <tr>\n",
                            "      <th>2</th>\n",
                            "      <td>1</td>\n",
                            "      <td>4.0</td>\n",
                            "      <td>112</td>\n",
                            "    </tr>\n",
                            "    <tr>\n",
                            "      <th>3</th>\n",
                            "      <td>1</td>\n",
                            "      <td>4.0</td>\n",
                            "      <td>21</td>\n",
                            "    </tr>\n",
                            "    <tr>\n",
                            "      <th>4</th>\n",
                            "      <td>1</td>\n",
                            "      <td>4.5</td>\n",
                            "      <td>97</td>\n",
                            "    </tr>\n",
                            "  </tbody>\n",
                            "</table>\n",
                            "</div>"
                        ],
                        "text/plain": [
                            "   Neighborhood Tiers  rating  review_count\n",
                            "0                   1     4.0           156\n",
                            "1                   1     4.5           140\n",
                            "2                   1     4.0           112\n",
                            "3                   1     4.0            21\n",
                            "4                   1     4.5            97"
                        ]
                    },
                    "execution_count": 42,
                    "metadata": {},
                    "output_type": "execute_result"
                }
            ],
            "source": [
                "#extract postal code and neighborhood tiers \n",
                "df_tier = df[[\"postal_code\", \"Neighborhood Tiers\"]]\n",
                "#merge df_tier and df_tiers\n",
                "#merge dataframes\n",
                "frames = [df_tier, df_tiers_extract]\n",
                "star_vs_review_df = reduce(lambda left,right: pd.merge(left,right,on='postal_code'), frames)\n",
                "star_vs_review_df = star_vs_review_df.drop(columns=\"postal_code\", axis=1)\n",
                "print(star_vs_review_df.shape)\n",
                "star_vs_review_df.head()"
            ]
        },
        {
            "cell_type": "code",
            "execution_count": 43,
            "id": "eb86d5db",
            "metadata": {},
            "outputs": [],
            "source": [
                "star_vs_review_df.to_csv(\"stars_vs_review.csv\")"
            ]
        },
        {
            "cell_type": "code",
            "execution_count": 44,
            "id": "8cc96a44",
            "metadata": {},
            "outputs": [
                {
                    "name": "stdout",
                    "output_type": "stream",
                    "text": [
                        "# of Restaurants Per Yelp Rating: \n",
                        " rating\n",
                        "0.0       64\n",
                        "1.0     4322\n",
                        "1.5     4909\n",
                        "2.0     9094\n",
                        "2.5    13275\n",
                        "3.0    21921\n",
                        "3.5    42763\n",
                        "4.0    71966\n",
                        "4.5    52312\n",
                        "5.0    19963\n",
                        "Name: review_count, dtype: int64\n"
                    ]
                }
            ],
            "source": [
                "# Print total number of reviews for each inspection grade:\n",
                "print('# of Restaurants Per Yelp Rating:','\\n',\n",
                "      star_vs_review_df['review_count'].groupby(df_tiers['rating']).count())\n"
            ]
        },
        {
            "cell_type": "code",
            "execution_count": 45,
            "id": "4fa576a8",
            "metadata": {},
            "outputs": [
                {
                    "data": {
                        "image/png": "[encoded data removed]",
                        "text/plain": [
                            "<Figure size 1080x576 with 1 Axes>"
                        ]
                    },
                    "metadata": {
                        "needs_background": "light"
                    },
                    "output_type": "display_data"
                }
            ],
            "source": [
                "# Create a bar chart comparing the # of reviews :\n",
                "plt.figure(figsize=(15,8))\n",
                "sns.countplot(data=star_vs_review_df, x='rating', hue='Neighborhood Tiers')\n",
                "\n",
                "# Add chart title and labels\n",
                "plt.title('Review Counts by Yelp Stars', fontsize=20)\n",
                "plt.xlabel('Yelp Stars', fontsize=14)\n",
                "plt.ylabel('# of Reviews', fontsize=14);\n",
                "plt.xticks(rotation=45);\n",
                "plt.yticks(rotation=90);"
            ]
        },
        {
            "cell_type": "markdown",
            "id": "a51d1f2e",
            "metadata": {},
            "source": [
                "Tier1 has more reviews than Tier2 and for both categories having a similar distribution centered around 3.5-4.5 Yelp stars. "
            ]
        },
        {
            "cell_type": "markdown",
            "id": "1eba7926",
            "metadata": {},
            "source": [
                "# Corelation Matrix\n",
                "\n",
                "A correlation matrix is a table showing correlation coefficients between variables. Each cell in the table shows the correlation between two variables. A correlation matrix is used to summarize data, as an input into a more advanced analysis, and as a diagnostic for advanced analyses."
            ]
        },
        {
            "cell_type": "code",
            "execution_count": 48,
            "id": "bb735e49",
            "metadata": {},
            "outputs": [
                {
                    "data": {
                        "image/png": "[encoded data removed]",
                        "text/plain": [
                            "<Figure size 720x720 with 2 Axes>"
                        ]
                    },
                    "metadata": {
                        "needs_background": "light"
                    },
                    "output_type": "display_data"
                }
            ],
            "source": [
                "df1 = df[['total_restaurants','total_reviews','avg_rating','total_delivery','total_pickup','total_rest_reservation',\n",
                "        'total_price_1','total_price_2','total_price_3','total_price_4','total_0.0_stars','total_1.0_stars',\n",
                "        'total_1.5_stars','total_2.0_stars','total_2.5_stars','total_3.0_stars','total_3.5_stars','total_4.0_stars',\n",
                "        'total_4.5_stars','total_5.0_stars','num_rest_types', 'Neighborhood Tiers']]\n",
                "\n",
                "corr = df1.corr(method='spearman')\n",
                "\n",
                "# Generate a mask for the upper triangle\n",
                "mask = np.zeros_like(corr, dtype=np.bool)\n",
                "mask[np.triu_indices_from(mask)] = True\n",
                "\n",
                "# Set up the matplotlib figure\n",
                "fig, ax = plt.subplots(figsize=(10, 10))\n",
                "\n",
                "# Generate a custom diverging colormap\n",
                "cmap = sns.diverging_palette(220, 10, as_cmap=True, sep=100)\n",
                "\n",
                "# Draw the heatmap with the mask and correct aspect ratio\n",
                "sns.heatmap(corr, mask=mask, cmap=cmap, vmin=-1, vmax=1, center=0, linewidths=.5)\n",
                "\n",
                "fig.suptitle('Correlation matrix of features', fontsize=15)\n",
                "\n",
                "fig.tight_layout()\n",
                "#code adapted from https://aegis4048.github.io/mutiple_linear_regression_and_visualization_in_python"
            ]
        },
        {
            "cell_type": "code",
            "execution_count": null,
            "id": "baf1b4ec",
            "metadata": {},
            "outputs": [],
            "source": []
        }
    ],
    "metadata": {
        "kernelspec": {
            "display_name": "mlenv",
            "language": "python",
            "name": "mlenv"
        },
        "language_info": {
            "codemirror_mode": {
                "name": "ipython",
                "version": 3
            },
            "file_extension": ".py",
            "mimetype": "text/x-python",
            "name": "python",
            "nbconvert_exporter": "python",
            "pygments_lexer": "ipython3",
            "version": "3.7.7"
        }
    },
    "nbformat": 4,
    "nbformat_minor": 5
}
