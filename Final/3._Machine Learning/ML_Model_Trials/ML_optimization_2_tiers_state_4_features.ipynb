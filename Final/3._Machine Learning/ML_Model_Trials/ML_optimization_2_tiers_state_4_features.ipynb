{
    "cells": [
        {
            "cell_type": "markdown",
            "id": "5e866c4c",
            "metadata": {},
            "source": [
                "# Machine Learning Optimization: 2 Tiers calculated on State and 4 Features\n",
                "\n",
                "The purpose of this notebook is to optimize the models run in ML_final_analysis by changing the Feature set. \n",
                "\n",
                "**Feature Engineering**\n",
                "We will create the feature set with\n",
                "* total_restaurants\n",
                "* total_reviews\n",
                "* num_rest_categories\n",
                "* ave_stars\n",
                "\n",
                "The rationale behind this approach is because we saw when we ran the random forest classifier in ML_final_analysis, that these features were given the highest importance "
            ]
        },
        {
            "cell_type": "code",
            "execution_count": 63,
            "id": "3db6b742",
            "metadata": {},
            "outputs": [],
            "source": [
                "import numpy as np\n",
                "import pandas as pd\n",
                "from pathlib import Path\n",
                "from collections import Counter\n",
                "from sklearn.model_selection import train_test_split\n",
                "from sklearn.preprocessing import LabelEncoder\n",
                "from sklearn.linear_model import LogisticRegression\n",
                "from sklearn.metrics import accuracy_score, confusion_matrix, f1_score, classification_report\n",
                "from sklearn.metrics import balanced_accuracy_score\n",
                "from imblearn.ensemble import BalancedRandomForestClassifier\n",
                "from imblearn.ensemble import EasyEnsembleClassifier\n",
                "from sklearn.preprocessing import StandardScaler\n",
                "from sklearn.ensemble import GradientBoostingClassifier\n",
                "from sklearn.decomposition import PCA\n",
                "from matplotlib import pyplot as plt\n",
                "import seaborn as sns\n",
                "from sklearn.metrics import mean_squared_error\n",
                "pd.set_option('display.max_columns', None)\n",
                "pd.set_option('display.max_rows', None)\n"
            ]
        },
        {
            "cell_type": "code",
            "execution_count": 64,
            "id": "9a1a3b63",
            "metadata": {},
            "outputs": [],
            "source": [
                "#Read in the CSV and read in the data\n",
                "df = pd.read_csv(\"../Neighborhood/neighborhood_two_tier_state_final.csv\")"
            ]
        },
        {
            "cell_type": "code",
            "execution_count": 65,
            "id": "2c0bf189",
            "metadata": {},
            "outputs": [
                {
                    "data": {
                        "text/html": [
                            "<div>\n",
                            "<style scoped>\n",
                            "    .dataframe tbody tr th:only-of-type {\n",
                            "        vertical-align: middle;\n",
                            "    }\n",
                            "\n",
                            "    .dataframe tbody tr th {\n",
                            "        vertical-align: top;\n",
                            "    }\n",
                            "\n",
                            "    .dataframe thead th {\n",
                            "        text-align: right;\n",
                            "    }\n",
                            "</style>\n",
                            "<table border=\"1\" class=\"dataframe\">\n",
                            "  <thead>\n",
                            "    <tr style=\"text-align: right;\">\n",
                            "      <th></th>\n",
                            "      <th>postal_code</th>\n",
                            "      <th>City</th>\n",
                            "      <th>State</th>\n",
                            "      <th>CountyName</th>\n",
                            "      <th>2021</th>\n",
                            "      <th>total_restaurants</th>\n",
                            "      <th>total_reviews</th>\n",
                            "      <th>avg_rating</th>\n",
                            "      <th>total_delivery</th>\n",
                            "      <th>total_pickup</th>\n",
                            "      <th>total_rest_reservation</th>\n",
                            "      <th>total_price_1</th>\n",
                            "      <th>total_price_2</th>\n",
                            "      <th>total_price_3</th>\n",
                            "      <th>total_price_4</th>\n",
                            "      <th>total_0.0_stars</th>\n",
                            "      <th>total_1.0_stars</th>\n",
                            "      <th>total_1.5_stars</th>\n",
                            "      <th>total_2.0_stars</th>\n",
                            "      <th>total_2.5_stars</th>\n",
                            "      <th>total_3.0_stars</th>\n",
                            "      <th>total_3.5_stars</th>\n",
                            "      <th>total_4.0_stars</th>\n",
                            "      <th>total_4.5_stars</th>\n",
                            "      <th>total_5.0_stars</th>\n",
                            "      <th>num_rest_types</th>\n",
                            "      <th>Average State House Price</th>\n",
                            "      <th>Neighborhood Indicator</th>\n",
                            "      <th>Neighborhood Tiers</th>\n",
                            "    </tr>\n",
                            "  </thead>\n",
                            "  <tbody>\n",
                            "    <tr>\n",
                            "      <th>0</th>\n",
                            "      <td>1267.0</td>\n",
                            "      <td>Williamstown</td>\n",
                            "      <td>MA</td>\n",
                            "      <td>Berkshire County</td>\n",
                            "      <td>357029.0</td>\n",
                            "      <td>23</td>\n",
                            "      <td>1347.0</td>\n",
                            "      <td>3.782609</td>\n",
                            "      <td>1.0</td>\n",
                            "      <td>2.0</td>\n",
                            "      <td>0.0</td>\n",
                            "      <td>4.0</td>\n",
                            "      <td>14.0</td>\n",
                            "      <td>1.0</td>\n",
                            "      <td>0.0</td>\n",
                            "      <td>0.0</td>\n",
                            "      <td>1.0</td>\n",
                            "      <td>0.0</td>\n",
                            "      <td>0.0</td>\n",
                            "      <td>0.0</td>\n",
                            "      <td>2.0</td>\n",
                            "      <td>5.0</td>\n",
                            "      <td>11.0</td>\n",
                            "      <td>3.0</td>\n",
                            "      <td>1.0</td>\n",
                            "      <td>23</td>\n",
                            "      <td>488930.0</td>\n",
                            "      <td>0.730225</td>\n",
                            "      <td>2</td>\n",
                            "    </tr>\n",
                            "    <tr>\n",
                            "      <th>1</th>\n",
                            "      <td>2134.0</td>\n",
                            "      <td>Boston</td>\n",
                            "      <td>MA</td>\n",
                            "      <td>Suffolk County</td>\n",
                            "      <td>620830.0</td>\n",
                            "      <td>1</td>\n",
                            "      <td>2.0</td>\n",
                            "      <td>4.500000</td>\n",
                            "      <td>0.0</td>\n",
                            "      <td>0.0</td>\n",
                            "      <td>0.0</td>\n",
                            "      <td>0.0</td>\n",
                            "      <td>0.0</td>\n",
                            "      <td>0.0</td>\n",
                            "      <td>0.0</td>\n",
                            "      <td>0.0</td>\n",
                            "      <td>0.0</td>\n",
                            "      <td>0.0</td>\n",
                            "      <td>0.0</td>\n",
                            "      <td>0.0</td>\n",
                            "      <td>0.0</td>\n",
                            "      <td>0.0</td>\n",
                            "      <td>0.0</td>\n",
                            "      <td>1.0</td>\n",
                            "      <td>0.0</td>\n",
                            "      <td>0</td>\n",
                            "      <td>488930.0</td>\n",
                            "      <td>1.269773</td>\n",
                            "      <td>1</td>\n",
                            "    </tr>\n",
                            "    <tr>\n",
                            "      <th>2</th>\n",
                            "      <td>2886.0</td>\n",
                            "      <td>Warwick</td>\n",
                            "      <td>RI</td>\n",
                            "      <td>Kent County</td>\n",
                            "      <td>315398.0</td>\n",
                            "      <td>1</td>\n",
                            "      <td>28.0</td>\n",
                            "      <td>2.000000</td>\n",
                            "      <td>0.0</td>\n",
                            "      <td>0.0</td>\n",
                            "      <td>0.0</td>\n",
                            "      <td>0.0</td>\n",
                            "      <td>0.0</td>\n",
                            "      <td>0.0</td>\n",
                            "      <td>0.0</td>\n",
                            "      <td>0.0</td>\n",
                            "      <td>0.0</td>\n",
                            "      <td>0.0</td>\n",
                            "      <td>1.0</td>\n",
                            "      <td>0.0</td>\n",
                            "      <td>0.0</td>\n",
                            "      <td>0.0</td>\n",
                            "      <td>0.0</td>\n",
                            "      <td>0.0</td>\n",
                            "      <td>0.0</td>\n",
                            "      <td>1</td>\n",
                            "      <td>315398.0</td>\n",
                            "      <td>1.000000</td>\n",
                            "      <td>2</td>\n",
                            "    </tr>\n",
                            "    <tr>\n",
                            "      <th>3</th>\n",
                            "      <td>3079.0</td>\n",
                            "      <td>Salem</td>\n",
                            "      <td>NH</td>\n",
                            "      <td>Rockingham County</td>\n",
                            "      <td>458081.0</td>\n",
                            "      <td>1</td>\n",
                            "      <td>1.0</td>\n",
                            "      <td>5.000000</td>\n",
                            "      <td>0.0</td>\n",
                            "      <td>0.0</td>\n",
                            "      <td>0.0</td>\n",
                            "      <td>0.0</td>\n",
                            "      <td>0.0</td>\n",
                            "      <td>0.0</td>\n",
                            "      <td>0.0</td>\n",
                            "      <td>0.0</td>\n",
                            "      <td>0.0</td>\n",
                            "      <td>0.0</td>\n",
                            "      <td>0.0</td>\n",
                            "      <td>0.0</td>\n",
                            "      <td>0.0</td>\n",
                            "      <td>0.0</td>\n",
                            "      <td>0.0</td>\n",
                            "      <td>0.0</td>\n",
                            "      <td>1.0</td>\n",
                            "      <td>3</td>\n",
                            "      <td>370626.0</td>\n",
                            "      <td>1.235966</td>\n",
                            "      <td>1</td>\n",
                            "    </tr>\n",
                            "    <tr>\n",
                            "      <th>4</th>\n",
                            "      <td>3276.0</td>\n",
                            "      <td>Northfield</td>\n",
                            "      <td>NH</td>\n",
                            "      <td>Merrimack County</td>\n",
                            "      <td>283171.0</td>\n",
                            "      <td>1</td>\n",
                            "      <td>1.0</td>\n",
                            "      <td>2.000000</td>\n",
                            "      <td>0.0</td>\n",
                            "      <td>0.0</td>\n",
                            "      <td>0.0</td>\n",
                            "      <td>0.0</td>\n",
                            "      <td>1.0</td>\n",
                            "      <td>0.0</td>\n",
                            "      <td>0.0</td>\n",
                            "      <td>0.0</td>\n",
                            "      <td>0.0</td>\n",
                            "      <td>0.0</td>\n",
                            "      <td>1.0</td>\n",
                            "      <td>0.0</td>\n",
                            "      <td>0.0</td>\n",
                            "      <td>0.0</td>\n",
                            "      <td>0.0</td>\n",
                            "      <td>0.0</td>\n",
                            "      <td>0.0</td>\n",
                            "      <td>1</td>\n",
                            "      <td>370626.0</td>\n",
                            "      <td>0.764034</td>\n",
                            "      <td>2</td>\n",
                            "    </tr>\n",
                            "  </tbody>\n",
                            "</table>\n",
                            "</div>"
                        ],
                        "text/plain": [
                            "   postal_code          City State         CountyName      2021  \\\n",
                            "0       1267.0  Williamstown    MA   Berkshire County  357029.0   \n",
                            "1       2134.0        Boston    MA     Suffolk County  620830.0   \n",
                            "2       2886.0       Warwick    RI        Kent County  315398.0   \n",
                            "3       3079.0         Salem    NH  Rockingham County  458081.0   \n",
                            "4       3276.0    Northfield    NH   Merrimack County  283171.0   \n",
                            "\n",
                            "   total_restaurants  total_reviews  avg_rating  total_delivery  total_pickup  \\\n",
                            "0                 23         1347.0    3.782609             1.0           2.0   \n",
                            "1                  1            2.0    4.500000             0.0           0.0   \n",
                            "2                  1           28.0    2.000000             0.0           0.0   \n",
                            "3                  1            1.0    5.000000             0.0           0.0   \n",
                            "4                  1            1.0    2.000000             0.0           0.0   \n",
                            "\n",
                            "   total_rest_reservation  total_price_1  total_price_2  total_price_3  \\\n",
                            "0                     0.0            4.0           14.0            1.0   \n",
                            "1                     0.0            0.0            0.0            0.0   \n",
                            "2                     0.0            0.0            0.0            0.0   \n",
                            "3                     0.0            0.0            0.0            0.0   \n",
                            "4                     0.0            0.0            1.0            0.0   \n",
                            "\n",
                            "   total_price_4  total_0.0_stars  total_1.0_stars  total_1.5_stars  \\\n",
                            "0            0.0              0.0              1.0              0.0   \n",
                            "1            0.0              0.0              0.0              0.0   \n",
                            "2            0.0              0.0              0.0              0.0   \n",
                            "3            0.0              0.0              0.0              0.0   \n",
                            "4            0.0              0.0              0.0              0.0   \n",
                            "\n",
                            "   total_2.0_stars  total_2.5_stars  total_3.0_stars  total_3.5_stars  \\\n",
                            "0              0.0              0.0              2.0              5.0   \n",
                            "1              0.0              0.0              0.0              0.0   \n",
                            "2              1.0              0.0              0.0              0.0   \n",
                            "3              0.0              0.0              0.0              0.0   \n",
                            "4              1.0              0.0              0.0              0.0   \n",
                            "\n",
                            "   total_4.0_stars  total_4.5_stars  total_5.0_stars  num_rest_types  \\\n",
                            "0             11.0              3.0              1.0              23   \n",
                            "1              0.0              1.0              0.0               0   \n",
                            "2              0.0              0.0              0.0               1   \n",
                            "3              0.0              0.0              1.0               3   \n",
                            "4              0.0              0.0              0.0               1   \n",
                            "\n",
                            "   Average State House Price  Neighborhood Indicator  Neighborhood Tiers  \n",
                            "0                   488930.0                0.730225                   2  \n",
                            "1                   488930.0                1.269773                   1  \n",
                            "2                   315398.0                1.000000                   2  \n",
                            "3                   370626.0                1.235966                   1  \n",
                            "4                   370626.0                0.764034                   2  "
                        ]
                    },
                    "execution_count": 65,
                    "metadata": {},
                    "output_type": "execute_result"
                }
            ],
            "source": [
                "df.head()"
            ]
        },
        {
            "cell_type": "code",
            "execution_count": 66,
            "id": "2166e96f",
            "metadata": {},
            "outputs": [
                {
                    "data": {
                        "text/plain": [
                            "(13988, 29)"
                        ]
                    },
                    "execution_count": 66,
                    "metadata": {},
                    "output_type": "execute_result"
                }
            ],
            "source": [
                "df.shape"
            ]
        },
        {
            "cell_type": "code",
            "execution_count": 68,
            "id": "fb9d99eb",
            "metadata": {},
            "outputs": [],
            "source": [
                "#df.City.value_counts()"
            ]
        },
        {
            "cell_type": "code",
            "execution_count": 69,
            "id": "fe3bdc43",
            "metadata": {},
            "outputs": [],
            "source": [
                "#df_ml = df.groupby('City').filter(lambda x : len(x)>=10)\n",
                "#df_ml.shape"
            ]
        },
        {
            "cell_type": "code",
            "execution_count": 70,
            "id": "38588a19",
            "metadata": {},
            "outputs": [
                {
                    "data": {
                        "text/plain": [
                            "['postal_code',\n",
                            " 'City',\n",
                            " 'State',\n",
                            " 'CountyName',\n",
                            " '2021',\n",
                            " 'total_restaurants',\n",
                            " 'total_reviews',\n",
                            " 'avg_rating',\n",
                            " 'total_delivery',\n",
                            " 'total_pickup',\n",
                            " 'total_rest_reservation',\n",
                            " 'total_price_1',\n",
                            " 'total_price_2',\n",
                            " 'total_price_3',\n",
                            " 'total_price_4',\n",
                            " 'total_0.0_stars',\n",
                            " 'total_1.0_stars',\n",
                            " 'total_1.5_stars',\n",
                            " 'total_2.0_stars',\n",
                            " 'total_2.5_stars',\n",
                            " 'total_3.0_stars',\n",
                            " 'total_3.5_stars',\n",
                            " 'total_4.0_stars',\n",
                            " 'total_4.5_stars',\n",
                            " 'total_5.0_stars',\n",
                            " 'num_rest_types',\n",
                            " 'Average State House Price',\n",
                            " 'Neighborhood Indicator',\n",
                            " 'Neighborhood Tiers']"
                        ]
                    },
                    "execution_count": 70,
                    "metadata": {},
                    "output_type": "execute_result"
                }
            ],
            "source": [
                "df_ml.columns.to_list()"
            ]
        },
        {
            "cell_type": "markdown",
            "id": "0281b6ec",
            "metadata": {},
            "source": [
                "# Feature Engineering"
            ]
        },
        {
            "cell_type": "code",
            "execution_count": 71,
            "id": "79fb156a",
            "metadata": {},
            "outputs": [
                {
                    "data": {
                        "text/plain": [
                            "(9952, 29)"
                        ]
                    },
                    "execution_count": 71,
                    "metadata": {},
                    "output_type": "execute_result"
                }
            ],
            "source": [
                "#Drop counties that have less than 10 zipcodes\n",
                "df = df.groupby('CountyName').filter(lambda x : len(x)>10)\n",
                "df.shape"
            ]
        },
        {
            "cell_type": "markdown",
            "id": "eaf67145",
            "metadata": {},
            "source": []
        },
        {
            "cell_type": "markdown",
            "id": "dbaaeb1a",
            "metadata": {},
            "source": [
                "### Create Scaled Training and Test data"
            ]
        },
        {
            "cell_type": "code",
            "execution_count": 72,
            "id": "f0462a3a",
            "metadata": {},
            "outputs": [
                {
                    "data": {
                        "text/html": [
                            "<div>\n",
                            "<style scoped>\n",
                            "    .dataframe tbody tr th:only-of-type {\n",
                            "        vertical-align: middle;\n",
                            "    }\n",
                            "\n",
                            "    .dataframe tbody tr th {\n",
                            "        vertical-align: top;\n",
                            "    }\n",
                            "\n",
                            "    .dataframe thead th {\n",
                            "        text-align: right;\n",
                            "    }\n",
                            "</style>\n",
                            "<table border=\"1\" class=\"dataframe\">\n",
                            "  <thead>\n",
                            "    <tr style=\"text-align: right;\">\n",
                            "      <th></th>\n",
                            "      <th>total_restaurants</th>\n",
                            "      <th>total_reviews</th>\n",
                            "      <th>avg_rating</th>\n",
                            "      <th>num_rest_types</th>\n",
                            "    </tr>\n",
                            "  </thead>\n",
                            "  <tbody>\n",
                            "    <tr>\n",
                            "      <th>1</th>\n",
                            "      <td>1</td>\n",
                            "      <td>2.0</td>\n",
                            "      <td>4.500000</td>\n",
                            "      <td>0</td>\n",
                            "    </tr>\n",
                            "    <tr>\n",
                            "      <th>2</th>\n",
                            "      <td>1</td>\n",
                            "      <td>28.0</td>\n",
                            "      <td>2.000000</td>\n",
                            "      <td>1</td>\n",
                            "    </tr>\n",
                            "    <tr>\n",
                            "      <th>5</th>\n",
                            "      <td>41</td>\n",
                            "      <td>322.0</td>\n",
                            "      <td>3.780488</td>\n",
                            "      <td>21</td>\n",
                            "    </tr>\n",
                            "    <tr>\n",
                            "      <th>6</th>\n",
                            "      <td>13</td>\n",
                            "      <td>40.0</td>\n",
                            "      <td>3.500000</td>\n",
                            "      <td>9</td>\n",
                            "    </tr>\n",
                            "    <tr>\n",
                            "      <th>7</th>\n",
                            "      <td>19</td>\n",
                            "      <td>82.0</td>\n",
                            "      <td>3.736842</td>\n",
                            "      <td>19</td>\n",
                            "    </tr>\n",
                            "  </tbody>\n",
                            "</table>\n",
                            "</div>"
                        ],
                        "text/plain": [
                            "   total_restaurants  total_reviews  avg_rating  num_rest_types\n",
                            "1                  1            2.0    4.500000               0\n",
                            "2                  1           28.0    2.000000               1\n",
                            "5                 41          322.0    3.780488              21\n",
                            "6                 13           40.0    3.500000               9\n",
                            "7                 19           82.0    3.736842              19"
                        ]
                    },
                    "execution_count": 72,
                    "metadata": {},
                    "output_type": "execute_result"
                }
            ],
            "source": [
                "# Create the features\n",
                "X = df[['total_restaurants',\n",
                " 'total_reviews',\n",
                " 'avg_rating',\n",
                " 'num_rest_types']]\n",
                "X.head()"
            ]
        },
        {
            "cell_type": "code",
            "execution_count": 73,
            "id": "ae35bff6",
            "metadata": {},
            "outputs": [
                {
                    "data": {
                        "text/html": [
                            "<div>\n",
                            "<style scoped>\n",
                            "    .dataframe tbody tr th:only-of-type {\n",
                            "        vertical-align: middle;\n",
                            "    }\n",
                            "\n",
                            "    .dataframe tbody tr th {\n",
                            "        vertical-align: top;\n",
                            "    }\n",
                            "\n",
                            "    .dataframe thead th {\n",
                            "        text-align: right;\n",
                            "    }\n",
                            "</style>\n",
                            "<table border=\"1\" class=\"dataframe\">\n",
                            "  <thead>\n",
                            "    <tr style=\"text-align: right;\">\n",
                            "      <th></th>\n",
                            "      <th>total_restaurants</th>\n",
                            "      <th>total_reviews</th>\n",
                            "      <th>avg_rating</th>\n",
                            "      <th>num_rest_types</th>\n",
                            "    </tr>\n",
                            "  </thead>\n",
                            "  <tbody>\n",
                            "    <tr>\n",
                            "      <th>count</th>\n",
                            "      <td>9952.000000</td>\n",
                            "      <td>9952.000000</td>\n",
                            "      <td>9952.000000</td>\n",
                            "      <td>9952.000000</td>\n",
                            "    </tr>\n",
                            "    <tr>\n",
                            "      <th>mean</th>\n",
                            "      <td>19.570941</td>\n",
                            "      <td>3004.343047</td>\n",
                            "      <td>3.860911</td>\n",
                            "      <td>18.447247</td>\n",
                            "    </tr>\n",
                            "    <tr>\n",
                            "      <th>std</th>\n",
                            "      <td>24.742448</td>\n",
                            "      <td>8428.358978</td>\n",
                            "      <td>0.542880</td>\n",
                            "      <td>16.419870</td>\n",
                            "    </tr>\n",
                            "    <tr>\n",
                            "      <th>min</th>\n",
                            "      <td>1.000000</td>\n",
                            "      <td>0.000000</td>\n",
                            "      <td>0.000000</td>\n",
                            "      <td>0.000000</td>\n",
                            "    </tr>\n",
                            "    <tr>\n",
                            "      <th>25%</th>\n",
                            "      <td>3.000000</td>\n",
                            "      <td>50.000000</td>\n",
                            "      <td>3.543323</td>\n",
                            "      <td>5.000000</td>\n",
                            "    </tr>\n",
                            "    <tr>\n",
                            "      <th>50%</th>\n",
                            "      <td>10.000000</td>\n",
                            "      <td>454.000000</td>\n",
                            "      <td>3.945553</td>\n",
                            "      <td>14.000000</td>\n",
                            "    </tr>\n",
                            "    <tr>\n",
                            "      <th>75%</th>\n",
                            "      <td>27.000000</td>\n",
                            "      <td>2354.250000</td>\n",
                            "      <td>4.166667</td>\n",
                            "      <td>28.000000</td>\n",
                            "    </tr>\n",
                            "    <tr>\n",
                            "      <th>max</th>\n",
                            "      <td>230.000000</td>\n",
                            "      <td>272071.000000</td>\n",
                            "      <td>5.000000</td>\n",
                            "      <td>96.000000</td>\n",
                            "    </tr>\n",
                            "  </tbody>\n",
                            "</table>\n",
                            "</div>"
                        ],
                        "text/plain": [
                            "       total_restaurants  total_reviews   avg_rating  num_rest_types\n",
                            "count        9952.000000    9952.000000  9952.000000     9952.000000\n",
                            "mean           19.570941    3004.343047     3.860911       18.447247\n",
                            "std            24.742448    8428.358978     0.542880       16.419870\n",
                            "min             1.000000       0.000000     0.000000        0.000000\n",
                            "25%             3.000000      50.000000     3.543323        5.000000\n",
                            "50%            10.000000     454.000000     3.945553       14.000000\n",
                            "75%            27.000000    2354.250000     4.166667       28.000000\n",
                            "max           230.000000  272071.000000     5.000000       96.000000"
                        ]
                    },
                    "execution_count": 73,
                    "metadata": {},
                    "output_type": "execute_result"
                }
            ],
            "source": [
                "X.describe()"
            ]
        },
        {
            "cell_type": "code",
            "execution_count": 74,
            "id": "08bf72b8",
            "metadata": {},
            "outputs": [
                {
                    "data": {
                        "text/plain": [
                            "1    1\n",
                            "2    2\n",
                            "5    1\n",
                            "6    1\n",
                            "7    2\n",
                            "Name: Neighborhood Tiers, dtype: int64"
                        ]
                    },
                    "execution_count": 74,
                    "metadata": {},
                    "output_type": "execute_result"
                }
            ],
            "source": [
                "#Create target variable\n",
                "y = df['Neighborhood Tiers']\n",
                "y.head()"
            ]
        },
        {
            "cell_type": "code",
            "execution_count": 75,
            "id": "debf1b80",
            "metadata": {},
            "outputs": [
                {
                    "name": "stdout",
                    "output_type": "stream",
                    "text": [
                        "y_train: Counter({1: 4229, 2: 3235})\n",
                        "y_test: Counter({1: 1365, 2: 1123})\n"
                    ]
                }
            ],
            "source": [
                "# Splitting into Train and Test sets\n",
                "X_train, X_test, y_train, y_test = train_test_split(X, y, random_state=7)\n",
                "print(f\"y_train: {Counter(y_train)}\")\n",
                "print(f\"y_test: {Counter(y_test)}\")\n"
            ]
        },
        {
            "cell_type": "code",
            "execution_count": 76,
            "id": "a2056bd9",
            "metadata": {},
            "outputs": [],
            "source": [
                "# Creating StandardScaler instance\n",
                "scaler = StandardScaler()\n",
                "\n",
                "# Fitting Standard Scaler\n",
                "X_scaler = scaler.fit(X_train)\n",
                "\n",
                "# Scaling data\n",
                "X_train_scaled = X_scaler.transform(X_train)\n",
                "X_test_scaled = X_scaler.transform(X_test)"
            ]
        },
        {
            "cell_type": "code",
            "execution_count": 77,
            "id": "2b4c3a4f",
            "metadata": {},
            "outputs": [
                {
                    "data": {
                        "text/plain": [
                            "array([-0.04248916,  0.64976084,  0.01158969, ...,  0.56234013,\n",
                            "        0.59015581,  1.17428506])"
                        ]
                    },
                    "execution_count": 77,
                    "metadata": {},
                    "output_type": "execute_result"
                }
            ],
            "source": [
                "X_train_scaled[:, 2]"
            ]
        },
        {
            "cell_type": "code",
            "execution_count": 78,
            "id": "a1dfa0d6",
            "metadata": {},
            "outputs": [
                {
                    "data": {
                        "text/plain": [
                            "array([-0.42114279, -0.20259103, -1.12050843, ...,  0.48584701,\n",
                            "        0.25636767,  0.12523661])"
                        ]
                    },
                    "execution_count": 78,
                    "metadata": {},
                    "output_type": "execute_result"
                }
            ],
            "source": [
                "X_test_scaled[:,2]"
            ]
        },
        {
            "cell_type": "markdown",
            "id": "1806866a",
            "metadata": {},
            "source": [
                "# Create a logistic regression model"
            ]
        },
        {
            "cell_type": "code",
            "execution_count": 79,
            "id": "e7efb7df",
            "metadata": {},
            "outputs": [
                {
                    "data": {
                        "text/plain": [
                            "LogisticRegression(max_iter=200, random_state=1)"
                        ]
                    },
                    "execution_count": 79,
                    "metadata": {},
                    "output_type": "execute_result"
                }
            ],
            "source": [
                "# Logistic Regression\n",
                "classifier_LR = LogisticRegression(solver='lbfgs', random_state=1, max_iter = 200)\n",
                "classifier_LR"
            ]
        },
        {
            "cell_type": "code",
            "execution_count": 80,
            "id": "5c02e987",
            "metadata": {},
            "outputs": [
                {
                    "data": {
                        "text/plain": [
                            "LogisticRegression(max_iter=200, random_state=1)"
                        ]
                    },
                    "execution_count": 80,
                    "metadata": {},
                    "output_type": "execute_result"
                }
            ],
            "source": [
                "# Train the data\n",
                "classifier_LR.fit(X_train_scaled, y_train)"
            ]
        },
        {
            "cell_type": "code",
            "execution_count": 81,
            "id": "8f39e023",
            "metadata": {},
            "outputs": [
                {
                    "data": {
                        "text/html": [
                            "<div>\n",
                            "<style scoped>\n",
                            "    .dataframe tbody tr th:only-of-type {\n",
                            "        vertical-align: middle;\n",
                            "    }\n",
                            "\n",
                            "    .dataframe tbody tr th {\n",
                            "        vertical-align: top;\n",
                            "    }\n",
                            "\n",
                            "    .dataframe thead th {\n",
                            "        text-align: right;\n",
                            "    }\n",
                            "</style>\n",
                            "<table border=\"1\" class=\"dataframe\">\n",
                            "  <thead>\n",
                            "    <tr style=\"text-align: right;\">\n",
                            "      <th></th>\n",
                            "      <th>Prediction</th>\n",
                            "      <th>Actual</th>\n",
                            "    </tr>\n",
                            "  </thead>\n",
                            "  <tbody>\n",
                            "    <tr>\n",
                            "      <th>8238</th>\n",
                            "      <td>1</td>\n",
                            "      <td>1</td>\n",
                            "    </tr>\n",
                            "    <tr>\n",
                            "      <th>2291</th>\n",
                            "      <td>2</td>\n",
                            "      <td>1</td>\n",
                            "    </tr>\n",
                            "    <tr>\n",
                            "      <th>10958</th>\n",
                            "      <td>2</td>\n",
                            "      <td>1</td>\n",
                            "    </tr>\n",
                            "    <tr>\n",
                            "      <th>5677</th>\n",
                            "      <td>2</td>\n",
                            "      <td>2</td>\n",
                            "    </tr>\n",
                            "    <tr>\n",
                            "      <th>13335</th>\n",
                            "      <td>1</td>\n",
                            "      <td>1</td>\n",
                            "    </tr>\n",
                            "    <tr>\n",
                            "      <th>3742</th>\n",
                            "      <td>1</td>\n",
                            "      <td>1</td>\n",
                            "    </tr>\n",
                            "    <tr>\n",
                            "      <th>12814</th>\n",
                            "      <td>1</td>\n",
                            "      <td>2</td>\n",
                            "    </tr>\n",
                            "    <tr>\n",
                            "      <th>351</th>\n",
                            "      <td>2</td>\n",
                            "      <td>1</td>\n",
                            "    </tr>\n",
                            "    <tr>\n",
                            "      <th>1149</th>\n",
                            "      <td>1</td>\n",
                            "      <td>1</td>\n",
                            "    </tr>\n",
                            "    <tr>\n",
                            "      <th>8418</th>\n",
                            "      <td>1</td>\n",
                            "      <td>2</td>\n",
                            "    </tr>\n",
                            "    <tr>\n",
                            "      <th>13752</th>\n",
                            "      <td>1</td>\n",
                            "      <td>1</td>\n",
                            "    </tr>\n",
                            "    <tr>\n",
                            "      <th>9219</th>\n",
                            "      <td>2</td>\n",
                            "      <td>2</td>\n",
                            "    </tr>\n",
                            "    <tr>\n",
                            "      <th>3694</th>\n",
                            "      <td>2</td>\n",
                            "      <td>1</td>\n",
                            "    </tr>\n",
                            "    <tr>\n",
                            "      <th>12246</th>\n",
                            "      <td>2</td>\n",
                            "      <td>1</td>\n",
                            "    </tr>\n",
                            "    <tr>\n",
                            "      <th>593</th>\n",
                            "      <td>1</td>\n",
                            "      <td>2</td>\n",
                            "    </tr>\n",
                            "    <tr>\n",
                            "      <th>6346</th>\n",
                            "      <td>1</td>\n",
                            "      <td>2</td>\n",
                            "    </tr>\n",
                            "    <tr>\n",
                            "      <th>5099</th>\n",
                            "      <td>1</td>\n",
                            "      <td>1</td>\n",
                            "    </tr>\n",
                            "    <tr>\n",
                            "      <th>11881</th>\n",
                            "      <td>1</td>\n",
                            "      <td>2</td>\n",
                            "    </tr>\n",
                            "    <tr>\n",
                            "      <th>5009</th>\n",
                            "      <td>1</td>\n",
                            "      <td>2</td>\n",
                            "    </tr>\n",
                            "    <tr>\n",
                            "      <th>10121</th>\n",
                            "      <td>2</td>\n",
                            "      <td>1</td>\n",
                            "    </tr>\n",
                            "  </tbody>\n",
                            "</table>\n",
                            "</div>"
                        ],
                        "text/plain": [
                            "       Prediction  Actual\n",
                            "8238            1       1\n",
                            "2291            2       1\n",
                            "10958           2       1\n",
                            "5677            2       2\n",
                            "13335           1       1\n",
                            "3742            1       1\n",
                            "12814           1       2\n",
                            "351             2       1\n",
                            "1149            1       1\n",
                            "8418            1       2\n",
                            "13752           1       1\n",
                            "9219            2       2\n",
                            "3694            2       1\n",
                            "12246           2       1\n",
                            "593             1       2\n",
                            "6346            1       2\n",
                            "5099            1       1\n",
                            "11881           1       2\n",
                            "5009            1       2\n",
                            "10121           2       1"
                        ]
                    },
                    "execution_count": 81,
                    "metadata": {},
                    "output_type": "execute_result"
                }
            ],
            "source": [
                "# Predict outcomes for test data set\n",
                "y_pred_LR = classifier_LR.predict(X_test_scaled)\n",
                "pd.DataFrame({\"Prediction\": y_pred_LR, \"Actual\": y_test}).head(20)"
            ]
        },
        {
            "cell_type": "code",
            "execution_count": 82,
            "id": "b642c683",
            "metadata": {},
            "outputs": [
                {
                    "data": {
                        "text/plain": [
                            "0.5856109324758842"
                        ]
                    },
                    "execution_count": 82,
                    "metadata": {},
                    "output_type": "execute_result"
                }
            ],
            "source": [
                "#Calculate the Balanced Accuracy score\n",
                "y_pred = classifier_LR.predict(X_test_scaled)\n",
                "acc_LR = accuracy_score(y_test, y_pred_LR)\n",
                "acc_LR"
            ]
        },
        {
            "cell_type": "code",
            "execution_count": 83,
            "id": "25b00ee0",
            "metadata": {},
            "outputs": [
                {
                    "data": {
                        "text/plain": [
                            "0.41438906752411575"
                        ]
                    },
                    "execution_count": 83,
                    "metadata": {},
                    "output_type": "execute_result"
                }
            ],
            "source": [
                "#calculate Mean Squared Error\n",
                "mse_LR = mean_squared_error(y_test, y_pred_LR)\n",
                "mse_LR"
            ]
        },
        {
            "cell_type": "code",
            "execution_count": 85,
            "id": "f06faf1c",
            "metadata": {},
            "outputs": [
                {
                    "data": {
                        "image/png": "[encoded data removed]",
                        "text/plain": [
                            "<Figure size 360x288 with 2 Axes>"
                        ]
                    },
                    "metadata": {
                        "needs_background": "light"
                    },
                    "output_type": "display_data"
                }
            ],
            "source": [
                "# Display the confusion matrix\n",
                "cm_LR = confusion_matrix(y_test, y_pred_LR)\n",
                "# Creating a dataframe for a array-formatted Confusion matrix,so it will be easy for plotting.\n",
                "cm_df_LR = pd.DataFrame(cm_LR,\n",
                "                     index = ['Tier1','Tier2'], \n",
                "                     columns = ['Tier1','Tier2'])\n",
                "\n",
                "#Plotting the confusion matrix\n",
                "plt.figure(figsize=(5,4))\n",
                "sns.heatmap(cm_df_LR, annot=True)\n",
                "plt.title('Confusion Matrix')\n",
                "plt.ylabel('Actal Values')\n",
                "plt.xlabel('Predicted Values')\n",
                "plt.show()"
            ]
        },
        {
            "cell_type": "code",
            "execution_count": 86,
            "id": "7ec74bae",
            "metadata": {},
            "outputs": [
                {
                    "name": "stdout",
                    "output_type": "stream",
                    "text": [
                        "              precision    recall  f1-score   support\n",
                        "\n",
                        "           1       0.60      0.72      0.66      1365\n",
                        "           2       0.55      0.42      0.48      1123\n",
                        "\n",
                        "    accuracy                           0.59      2488\n",
                        "   macro avg       0.58      0.57      0.57      2488\n",
                        "weighted avg       0.58      0.59      0.58      2488\n",
                        "\n"
                    ]
                }
            ],
            "source": [
                "# Print the imbalanced classification report\n",
                "print(classification_report(y_test, y_pred_LR))"
            ]
        },
        {
            "cell_type": "markdown",
            "id": "aa26e2fa",
            "metadata": {},
            "source": [
                "# Create Balanced Random Forest Classifier"
            ]
        },
        {
            "cell_type": "code",
            "execution_count": 87,
            "id": "60eda26e",
            "metadata": {},
            "outputs": [
                {
                    "data": {
                        "text/plain": [
                            "BalancedRandomForestClassifier(n_estimators=50, random_state=1)"
                        ]
                    },
                    "execution_count": 87,
                    "metadata": {},
                    "output_type": "execute_result"
                }
            ],
            "source": [
                "# Resample the training data with the BalancedRandomForestClassifier\n",
                "model_RF = BalancedRandomForestClassifier(n_estimators=50, random_state=1) \n",
                "model_RF.fit(X_train_scaled, y_train)"
            ]
        },
        {
            "cell_type": "code",
            "execution_count": 88,
            "id": "a8984171",
            "metadata": {},
            "outputs": [
                {
                    "data": {
                        "text/plain": [
                            "0.625"
                        ]
                    },
                    "execution_count": 88,
                    "metadata": {},
                    "output_type": "execute_result"
                }
            ],
            "source": [
                "# Calculated the balanced accuracy score\n",
                "y_pred_RF = model_RF.predict(X_test_scaled)\n",
                "\n",
                "accuracy_score(y_test, y_pred_RF)\n"
            ]
        },
        {
            "cell_type": "code",
            "execution_count": 89,
            "id": "88755c4c",
            "metadata": {},
            "outputs": [
                {
                    "data": {
                        "text/plain": [
                            "0.375"
                        ]
                    },
                    "execution_count": 89,
                    "metadata": {},
                    "output_type": "execute_result"
                }
            ],
            "source": [
                "#calculate Mean Squared Error\n",
                "mse_RF = mean_squared_error(y_test, y_pred_RF)\n",
                "mse_RF"
            ]
        },
        {
            "cell_type": "code",
            "execution_count": 90,
            "id": "a1681073",
            "metadata": {},
            "outputs": [
                {
                    "data": {
                        "text/html": [
                            "<div>\n",
                            "<style scoped>\n",
                            "    .dataframe tbody tr th:only-of-type {\n",
                            "        vertical-align: middle;\n",
                            "    }\n",
                            "\n",
                            "    .dataframe tbody tr th {\n",
                            "        vertical-align: top;\n",
                            "    }\n",
                            "\n",
                            "    .dataframe thead th {\n",
                            "        text-align: right;\n",
                            "    }\n",
                            "</style>\n",
                            "<table border=\"1\" class=\"dataframe\">\n",
                            "  <thead>\n",
                            "    <tr style=\"text-align: right;\">\n",
                            "      <th></th>\n",
                            "      <th>Prediction</th>\n",
                            "      <th>Actual</th>\n",
                            "    </tr>\n",
                            "  </thead>\n",
                            "  <tbody>\n",
                            "    <tr>\n",
                            "      <th>8238</th>\n",
                            "      <td>1</td>\n",
                            "      <td>1</td>\n",
                            "    </tr>\n",
                            "    <tr>\n",
                            "      <th>2291</th>\n",
                            "      <td>2</td>\n",
                            "      <td>1</td>\n",
                            "    </tr>\n",
                            "    <tr>\n",
                            "      <th>10958</th>\n",
                            "      <td>1</td>\n",
                            "      <td>1</td>\n",
                            "    </tr>\n",
                            "    <tr>\n",
                            "      <th>5677</th>\n",
                            "      <td>2</td>\n",
                            "      <td>2</td>\n",
                            "    </tr>\n",
                            "    <tr>\n",
                            "      <th>13335</th>\n",
                            "      <td>2</td>\n",
                            "      <td>1</td>\n",
                            "    </tr>\n",
                            "    <tr>\n",
                            "      <th>3742</th>\n",
                            "      <td>1</td>\n",
                            "      <td>1</td>\n",
                            "    </tr>\n",
                            "    <tr>\n",
                            "      <th>12814</th>\n",
                            "      <td>1</td>\n",
                            "      <td>2</td>\n",
                            "    </tr>\n",
                            "    <tr>\n",
                            "      <th>351</th>\n",
                            "      <td>1</td>\n",
                            "      <td>1</td>\n",
                            "    </tr>\n",
                            "    <tr>\n",
                            "      <th>1149</th>\n",
                            "      <td>1</td>\n",
                            "      <td>1</td>\n",
                            "    </tr>\n",
                            "    <tr>\n",
                            "      <th>8418</th>\n",
                            "      <td>1</td>\n",
                            "      <td>2</td>\n",
                            "    </tr>\n",
                            "    <tr>\n",
                            "      <th>13752</th>\n",
                            "      <td>1</td>\n",
                            "      <td>1</td>\n",
                            "    </tr>\n",
                            "    <tr>\n",
                            "      <th>9219</th>\n",
                            "      <td>2</td>\n",
                            "      <td>2</td>\n",
                            "    </tr>\n",
                            "    <tr>\n",
                            "      <th>3694</th>\n",
                            "      <td>1</td>\n",
                            "      <td>1</td>\n",
                            "    </tr>\n",
                            "    <tr>\n",
                            "      <th>12246</th>\n",
                            "      <td>1</td>\n",
                            "      <td>1</td>\n",
                            "    </tr>\n",
                            "    <tr>\n",
                            "      <th>593</th>\n",
                            "      <td>1</td>\n",
                            "      <td>2</td>\n",
                            "    </tr>\n",
                            "    <tr>\n",
                            "      <th>6346</th>\n",
                            "      <td>1</td>\n",
                            "      <td>2</td>\n",
                            "    </tr>\n",
                            "    <tr>\n",
                            "      <th>5099</th>\n",
                            "      <td>1</td>\n",
                            "      <td>1</td>\n",
                            "    </tr>\n",
                            "    <tr>\n",
                            "      <th>11881</th>\n",
                            "      <td>2</td>\n",
                            "      <td>2</td>\n",
                            "    </tr>\n",
                            "    <tr>\n",
                            "      <th>5009</th>\n",
                            "      <td>2</td>\n",
                            "      <td>2</td>\n",
                            "    </tr>\n",
                            "    <tr>\n",
                            "      <th>10121</th>\n",
                            "      <td>2</td>\n",
                            "      <td>1</td>\n",
                            "    </tr>\n",
                            "  </tbody>\n",
                            "</table>\n",
                            "</div>"
                        ],
                        "text/plain": [
                            "       Prediction  Actual\n",
                            "8238            1       1\n",
                            "2291            2       1\n",
                            "10958           1       1\n",
                            "5677            2       2\n",
                            "13335           2       1\n",
                            "3742            1       1\n",
                            "12814           1       2\n",
                            "351             1       1\n",
                            "1149            1       1\n",
                            "8418            1       2\n",
                            "13752           1       1\n",
                            "9219            2       2\n",
                            "3694            1       1\n",
                            "12246           1       1\n",
                            "593             1       2\n",
                            "6346            1       2\n",
                            "5099            1       1\n",
                            "11881           2       2\n",
                            "5009            2       2\n",
                            "10121           2       1"
                        ]
                    },
                    "execution_count": 90,
                    "metadata": {},
                    "output_type": "execute_result"
                }
            ],
            "source": [
                "pd.DataFrame({\"Prediction\": y_pred_RF, \"Actual\": y_test}).head(20)"
            ]
        },
        {
            "cell_type": "code",
            "execution_count": 91,
            "id": "3cadab17",
            "metadata": {},
            "outputs": [
                {
                    "data": {
                        "text/plain": [
                            "array([0.16175873, 0.42462862, 0.24496639, 0.16864627])"
                        ]
                    },
                    "execution_count": 91,
                    "metadata": {},
                    "output_type": "execute_result"
                }
            ],
            "source": [
                "# Calculate feature importance in the Random Forest model.\n",
                "importances = model_RF.feature_importances_\n",
                "importances"
            ]
        },
        {
            "cell_type": "code",
            "execution_count": 92,
            "id": "1a22a5ef",
            "metadata": {},
            "outputs": [
                {
                    "data": {
                        "text/plain": [
                            "[(0.42462861704762195, 'total_reviews'),\n",
                            " (0.24496639173663998, 'avg_rating'),\n",
                            " (0.16864626511007072, 'num_rest_types'),\n",
                            " (0.16175872610566747, 'total_restaurants')]"
                        ]
                    },
                    "execution_count": 92,
                    "metadata": {},
                    "output_type": "execute_result"
                }
            ],
            "source": [
                "# We can sort the features by their importance.\n",
                "sorted(zip(model_RF.feature_importances_, X.columns), reverse=True)\n"
            ]
        },
        {
            "cell_type": "code",
            "execution_count": 93,
            "id": "c8910388",
            "metadata": {},
            "outputs": [
                {
                    "data": {
                        "image/png": "[encoded data removed]",
                        "text/plain": [
                            "<Figure size 432x432 with 1 Axes>"
                        ]
                    },
                    "metadata": {
                        "needs_background": "light"
                    },
                    "output_type": "display_data"
                }
            ],
            "source": [
                "# Plot influential features based on Random Forest model:\n",
                "influential_features = pd.Series(model_RF.feature_importances_, X.columns)\n",
                "influential_features.nlargest(12).sort_values().plot(kind='barh', color='lightblue', figsize=(6,6))\n",
                "plt.title('Feature Importances with Random Forest');\n"
            ]
        },
        {
            "cell_type": "code",
            "execution_count": 94,
            "id": "61fdf050",
            "metadata": {},
            "outputs": [
                {
                    "data": {
                        "image/png": "[encoded data removed]",
                        "text/plain": [
                            "<Figure size 360x288 with 2 Axes>"
                        ]
                    },
                    "metadata": {
                        "needs_background": "light"
                    },
                    "output_type": "display_data"
                }
            ],
            "source": [
                "# Display the confusion matrix\n",
                "cm_RF = confusion_matrix(y_test, y_pred_RF)\n",
                "# Creating a dataframe for a array-formatted Confusion matrix,so it will be easy for plotting.\n",
                "cm_df_RF = pd.DataFrame(cm_RF,\n",
                "                     index = ['Tier1','Tier2'], \n",
                "                     columns = ['Tier1','Tier2'])\n",
                "\n",
                "#Plotting the confusion matrix\n",
                "plt.figure(figsize=(5,4))\n",
                "sns.heatmap(cm_df_RF, annot=True)\n",
                "plt.title('Confusion Matrix')\n",
                "plt.ylabel('Actal Values')\n",
                "plt.xlabel('Predicted Values')\n",
                "plt.show()"
            ]
        },
        {
            "cell_type": "code",
            "execution_count": 95,
            "id": "11ef1e5a",
            "metadata": {},
            "outputs": [
                {
                    "name": "stdout",
                    "output_type": "stream",
                    "text": [
                        "              precision    recall  f1-score   support\n",
                        "\n",
                        "           1       0.66      0.65      0.66      1365\n",
                        "           2       0.58      0.59      0.59      1123\n",
                        "\n",
                        "    accuracy                           0.62      2488\n",
                        "   macro avg       0.62      0.62      0.62      2488\n",
                        "weighted avg       0.63      0.62      0.63      2488\n",
                        "\n"
                    ]
                }
            ],
            "source": [
                "# Print the imbalanced classification report\n",
                "print(classification_report(y_test, y_pred_RF))"
            ]
        },
        {
            "cell_type": "code",
            "execution_count": null,
            "id": "fd851725",
            "metadata": {},
            "outputs": [],
            "source": []
        },
        {
            "cell_type": "markdown",
            "id": "b3b9a38e",
            "metadata": {},
            "source": [
                "# Create Easy Ensemble AdaBoost Classifier"
            ]
        },
        {
            "cell_type": "code",
            "execution_count": 96,
            "id": "e7edfea3",
            "metadata": {},
            "outputs": [
                {
                    "data": {
                        "text/plain": [
                            "EasyEnsembleClassifier(n_estimators=75, random_state=1)"
                        ]
                    },
                    "execution_count": 96,
                    "metadata": {},
                    "output_type": "execute_result"
                }
            ],
            "source": [
                "# Train the EasyEnsembleClassifier\n",
                "model_Ada = EasyEnsembleClassifier(n_estimators=75, random_state=1) \n",
                "model_Ada.fit(X_train_scaled, y_train)"
            ]
        },
        {
            "cell_type": "code",
            "execution_count": 97,
            "id": "0d292e74",
            "metadata": {},
            "outputs": [
                {
                    "data": {
                        "text/plain": [
                            "0.6519360425860872"
                        ]
                    },
                    "execution_count": 97,
                    "metadata": {},
                    "output_type": "execute_result"
                }
            ],
            "source": [
                "# Calculated the balanced accuracy score\n",
                "y_pred_Ada = model_Ada.predict(X_test_scaled)\n",
                "\n",
                "balanced_accuracy_score(y_test, y_pred_Ada)"
            ]
        },
        {
            "cell_type": "code",
            "execution_count": 98,
            "id": "997d9bc6",
            "metadata": {},
            "outputs": [
                {
                    "data": {
                        "text/html": [
                            "<div>\n",
                            "<style scoped>\n",
                            "    .dataframe tbody tr th:only-of-type {\n",
                            "        vertical-align: middle;\n",
                            "    }\n",
                            "\n",
                            "    .dataframe tbody tr th {\n",
                            "        vertical-align: top;\n",
                            "    }\n",
                            "\n",
                            "    .dataframe thead th {\n",
                            "        text-align: right;\n",
                            "    }\n",
                            "</style>\n",
                            "<table border=\"1\" class=\"dataframe\">\n",
                            "  <thead>\n",
                            "    <tr style=\"text-align: right;\">\n",
                            "      <th></th>\n",
                            "      <th>Prediction</th>\n",
                            "      <th>Actual</th>\n",
                            "    </tr>\n",
                            "  </thead>\n",
                            "  <tbody>\n",
                            "    <tr>\n",
                            "      <th>8238</th>\n",
                            "      <td>1</td>\n",
                            "      <td>1</td>\n",
                            "    </tr>\n",
                            "    <tr>\n",
                            "      <th>2291</th>\n",
                            "      <td>1</td>\n",
                            "      <td>1</td>\n",
                            "    </tr>\n",
                            "    <tr>\n",
                            "      <th>10958</th>\n",
                            "      <td>2</td>\n",
                            "      <td>1</td>\n",
                            "    </tr>\n",
                            "    <tr>\n",
                            "      <th>5677</th>\n",
                            "      <td>2</td>\n",
                            "      <td>2</td>\n",
                            "    </tr>\n",
                            "    <tr>\n",
                            "      <th>13335</th>\n",
                            "      <td>1</td>\n",
                            "      <td>1</td>\n",
                            "    </tr>\n",
                            "    <tr>\n",
                            "      <th>3742</th>\n",
                            "      <td>1</td>\n",
                            "      <td>1</td>\n",
                            "    </tr>\n",
                            "    <tr>\n",
                            "      <th>12814</th>\n",
                            "      <td>1</td>\n",
                            "      <td>2</td>\n",
                            "    </tr>\n",
                            "    <tr>\n",
                            "      <th>351</th>\n",
                            "      <td>1</td>\n",
                            "      <td>1</td>\n",
                            "    </tr>\n",
                            "    <tr>\n",
                            "      <th>1149</th>\n",
                            "      <td>1</td>\n",
                            "      <td>1</td>\n",
                            "    </tr>\n",
                            "    <tr>\n",
                            "      <th>8418</th>\n",
                            "      <td>2</td>\n",
                            "      <td>2</td>\n",
                            "    </tr>\n",
                            "  </tbody>\n",
                            "</table>\n",
                            "</div>"
                        ],
                        "text/plain": [
                            "       Prediction  Actual\n",
                            "8238            1       1\n",
                            "2291            1       1\n",
                            "10958           2       1\n",
                            "5677            2       2\n",
                            "13335           1       1\n",
                            "3742            1       1\n",
                            "12814           1       2\n",
                            "351             1       1\n",
                            "1149            1       1\n",
                            "8418            2       2"
                        ]
                    },
                    "execution_count": 98,
                    "metadata": {},
                    "output_type": "execute_result"
                }
            ],
            "source": [
                "pd.DataFrame({\"Prediction\": y_pred_Ada, \"Actual\": y_test}).head(10)"
            ]
        },
        {
            "cell_type": "code",
            "execution_count": 99,
            "id": "8e83e6ab",
            "metadata": {},
            "outputs": [
                {
                    "data": {
                        "image/png": "[encoded data removed]",
                        "text/plain": [
                            "<Figure size 360x288 with 2 Axes>"
                        ]
                    },
                    "metadata": {
                        "needs_background": "light"
                    },
                    "output_type": "display_data"
                }
            ],
            "source": [
                "# Display the confusion matrix\n",
                "cm_Ada = confusion_matrix(y_test, y_pred_Ada)\n",
                "# Creating a dataframe for a array-formatted Confusion matrix,so it will be easy for plotting.\n",
                "cm_df_Ada = pd.DataFrame(cm_Ada,\n",
                "                     index = ['Tier1','Tier2'], \n",
                "                     columns = ['Tier1','Tier2'])\n",
                "\n",
                "#Plotting the confusion matrix\n",
                "plt.figure(figsize=(5,4))\n",
                "sns.heatmap(cm_df_Ada, annot=True)\n",
                "plt.title('Confusion Matrix')\n",
                "plt.ylabel('Actal Values')\n",
                "plt.xlabel('Predicted Values')\n",
                "plt.show()"
            ]
        },
        {
            "cell_type": "code",
            "execution_count": 100,
            "id": "1c56cbb8",
            "metadata": {},
            "outputs": [
                {
                    "name": "stdout",
                    "output_type": "stream",
                    "text": [
                        "              precision    recall  f1-score   support\n",
                        "\n",
                        "           1       0.69      0.67      0.68      1365\n",
                        "           2       0.61      0.63      0.62      1123\n",
                        "\n",
                        "    accuracy                           0.65      2488\n",
                        "   macro avg       0.65      0.65      0.65      2488\n",
                        "weighted avg       0.65      0.65      0.65      2488\n",
                        "\n"
                    ]
                }
            ],
            "source": [
                "# Print the imbalanced classification report\n",
                "print(classification_report(y_test, y_pred_Ada))"
            ]
        },
        {
            "cell_type": "markdown",
            "id": "173a1941",
            "metadata": {},
            "source": [
                "# Create Gradient Boosting Classifier"
            ]
        },
        {
            "cell_type": "code",
            "execution_count": 101,
            "id": "a02e29ec",
            "metadata": {},
            "outputs": [
                {
                    "name": "stdout",
                    "output_type": "stream",
                    "text": [
                        "Learning rate:  0.05\n",
                        "Accuracy score (training): 0.668\n",
                        "Accuracy score (validation): 0.652\n",
                        "\n",
                        "Learning rate:  0.1\n",
                        "Accuracy score (training): 0.673\n",
                        "Accuracy score (validation): 0.654\n",
                        "\n",
                        "Learning rate:  0.25\n",
                        "Accuracy score (training): 0.683\n",
                        "Accuracy score (validation): 0.659\n",
                        "\n",
                        "Learning rate:  0.5\n",
                        "Accuracy score (training): 0.693\n",
                        "Accuracy score (validation): 0.655\n",
                        "\n",
                        "Learning rate:  0.75\n",
                        "Accuracy score (training): 0.697\n",
                        "Accuracy score (validation): 0.644\n",
                        "\n",
                        "Learning rate:  1\n",
                        "Accuracy score (training): 0.701\n",
                        "Accuracy score (validation): 0.652\n",
                        "\n"
                    ]
                }
            ],
            "source": [
                "# Create a classifier object\n",
                "learning_rates = [0.05, 0.1, 0.25, 0.5, 0.75, 1]\n",
                "for learning_rate in learning_rates:\n",
                "    classifier_GBC = GradientBoostingClassifier(n_estimators=20,\n",
                "                                            learning_rate=learning_rate,\n",
                "                                            max_features=4,\n",
                "                                            max_depth=3,\n",
                "                                            random_state=0)\n",
                "    # Fit the model\n",
                "    classifier_GBC.fit(X_train_scaled, y_train)\n",
                "    print(\"Learning rate: \", learning_rate)\n",
                "\n",
                "    # Score the model\n",
                "    print(\"Accuracy score (training): {0:.3f}\".format(\n",
                "        classifier_GBC.score(\n",
                "            X_train_scaled,\n",
                "            y_train)))\n",
                "    print(\"Accuracy score (validation): {0:.3f}\".format(\n",
                "        classifier_GBC.score(\n",
                "            X_test_scaled,\n",
                "            y_test)))\n",
                "    print()"
            ]
        },
        {
            "cell_type": "code",
            "execution_count": 102,
            "id": "3f3d6007",
            "metadata": {},
            "outputs": [
                {
                    "data": {
                        "text/html": [
                            "<div>\n",
                            "<style scoped>\n",
                            "    .dataframe tbody tr th:only-of-type {\n",
                            "        vertical-align: middle;\n",
                            "    }\n",
                            "\n",
                            "    .dataframe tbody tr th {\n",
                            "        vertical-align: top;\n",
                            "    }\n",
                            "\n",
                            "    .dataframe thead th {\n",
                            "        text-align: right;\n",
                            "    }\n",
                            "</style>\n",
                            "<table border=\"1\" class=\"dataframe\">\n",
                            "  <thead>\n",
                            "    <tr style=\"text-align: right;\">\n",
                            "      <th></th>\n",
                            "      <th>Prediction</th>\n",
                            "      <th>Actual</th>\n",
                            "    </tr>\n",
                            "  </thead>\n",
                            "  <tbody>\n",
                            "    <tr>\n",
                            "      <th>8238</th>\n",
                            "      <td>1</td>\n",
                            "      <td>1</td>\n",
                            "    </tr>\n",
                            "    <tr>\n",
                            "      <th>2291</th>\n",
                            "      <td>1</td>\n",
                            "      <td>1</td>\n",
                            "    </tr>\n",
                            "    <tr>\n",
                            "      <th>10958</th>\n",
                            "      <td>1</td>\n",
                            "      <td>1</td>\n",
                            "    </tr>\n",
                            "    <tr>\n",
                            "      <th>5677</th>\n",
                            "      <td>2</td>\n",
                            "      <td>2</td>\n",
                            "    </tr>\n",
                            "    <tr>\n",
                            "      <th>13335</th>\n",
                            "      <td>2</td>\n",
                            "      <td>1</td>\n",
                            "    </tr>\n",
                            "    <tr>\n",
                            "      <th>3742</th>\n",
                            "      <td>2</td>\n",
                            "      <td>1</td>\n",
                            "    </tr>\n",
                            "    <tr>\n",
                            "      <th>12814</th>\n",
                            "      <td>1</td>\n",
                            "      <td>2</td>\n",
                            "    </tr>\n",
                            "    <tr>\n",
                            "      <th>351</th>\n",
                            "      <td>1</td>\n",
                            "      <td>1</td>\n",
                            "    </tr>\n",
                            "    <tr>\n",
                            "      <th>1149</th>\n",
                            "      <td>1</td>\n",
                            "      <td>1</td>\n",
                            "    </tr>\n",
                            "    <tr>\n",
                            "      <th>8418</th>\n",
                            "      <td>1</td>\n",
                            "      <td>2</td>\n",
                            "    </tr>\n",
                            "    <tr>\n",
                            "      <th>13752</th>\n",
                            "      <td>1</td>\n",
                            "      <td>1</td>\n",
                            "    </tr>\n",
                            "    <tr>\n",
                            "      <th>9219</th>\n",
                            "      <td>2</td>\n",
                            "      <td>2</td>\n",
                            "    </tr>\n",
                            "    <tr>\n",
                            "      <th>3694</th>\n",
                            "      <td>2</td>\n",
                            "      <td>1</td>\n",
                            "    </tr>\n",
                            "    <tr>\n",
                            "      <th>12246</th>\n",
                            "      <td>1</td>\n",
                            "      <td>1</td>\n",
                            "    </tr>\n",
                            "    <tr>\n",
                            "      <th>593</th>\n",
                            "      <td>1</td>\n",
                            "      <td>2</td>\n",
                            "    </tr>\n",
                            "    <tr>\n",
                            "      <th>6346</th>\n",
                            "      <td>1</td>\n",
                            "      <td>2</td>\n",
                            "    </tr>\n",
                            "    <tr>\n",
                            "      <th>5099</th>\n",
                            "      <td>1</td>\n",
                            "      <td>1</td>\n",
                            "    </tr>\n",
                            "    <tr>\n",
                            "      <th>11881</th>\n",
                            "      <td>1</td>\n",
                            "      <td>2</td>\n",
                            "    </tr>\n",
                            "    <tr>\n",
                            "      <th>5009</th>\n",
                            "      <td>2</td>\n",
                            "      <td>2</td>\n",
                            "    </tr>\n",
                            "    <tr>\n",
                            "      <th>10121</th>\n",
                            "      <td>1</td>\n",
                            "      <td>1</td>\n",
                            "    </tr>\n",
                            "  </tbody>\n",
                            "</table>\n",
                            "</div>"
                        ],
                        "text/plain": [
                            "       Prediction  Actual\n",
                            "8238            1       1\n",
                            "2291            1       1\n",
                            "10958           1       1\n",
                            "5677            2       2\n",
                            "13335           2       1\n",
                            "3742            2       1\n",
                            "12814           1       2\n",
                            "351             1       1\n",
                            "1149            1       1\n",
                            "8418            1       2\n",
                            "13752           1       1\n",
                            "9219            2       2\n",
                            "3694            2       1\n",
                            "12246           1       1\n",
                            "593             1       2\n",
                            "6346            1       2\n",
                            "5099            1       1\n",
                            "11881           1       2\n",
                            "5009            2       2\n",
                            "10121           1       1"
                        ]
                    },
                    "execution_count": 102,
                    "metadata": {},
                    "output_type": "execute_result"
                }
            ],
            "source": [
                "# Choose a learning rate and create classifier\n",
                "classifier_GBC = GradientBoostingClassifier(n_estimators=20,\n",
                "                                        learning_rate=0.75,\n",
                "                                        max_features=4,\n",
                "                                        max_depth=5,\n",
                "                                        random_state=0)\n",
                "\n",
                "# Fit the model\n",
                "classifier_GBC.fit(X_train_scaled, y_train)\n",
                "\n",
                "# Make Prediction\n",
                "y_pred_GBC = classifier_GBC.predict(X_test_scaled)\n",
                "pd.DataFrame({\"Prediction\": y_pred_GBC, \"Actual\": y_test}).head(20)"
            ]
        },
        {
            "cell_type": "code",
            "execution_count": 103,
            "id": "aabf34b6",
            "metadata": {},
            "outputs": [
                {
                    "data": {
                        "text/plain": [
                            "0.6314308681672026"
                        ]
                    },
                    "execution_count": 103,
                    "metadata": {},
                    "output_type": "execute_result"
                }
            ],
            "source": [
                "accuracy_score(y_test, y_pred_GBC)"
            ]
        },
        {
            "cell_type": "code",
            "execution_count": 104,
            "id": "adf715e6",
            "metadata": {},
            "outputs": [
                {
                    "name": "stderr",
                    "output_type": "stream",
                    "text": [
                        "/Users/ramyaramamurthy/opt/anaconda3/envs/mlenv/lib/python3.7/site-packages/ipykernel_launcher.py:6: FutureWarning: Support for multi-dimensional indexing (e.g. `obj[:, None]`) is deprecated and will be removed in a future version.  Convert to a numpy array before indexing instead.\n",
                        "  \n"
                    ]
                },
                {
                    "data": {
                        "image/png": "[encoded data removed]",
                        "text/plain": [
                            "<Figure size 360x288 with 2 Axes>"
                        ]
                    },
                    "metadata": {
                        "needs_background": "light"
                    },
                    "output_type": "display_data"
                }
            ],
            "source": [
                "cm_GBC = confusion_matrix(y_test, y_pred_GBC)\n",
                "# Creating a dataframe for a array-formatted Confusion matrix,so it will be easy for plotting.\n",
                "cm_df_GBC = pd.DataFrame(cm_GBC,\n",
                "                     index = ['Tier1','Tier2'], \n",
                "                     columns = ['Tier1','Tier2'])\n",
                "cm_df_GBC = cm_df_GBC.astype('float') / cm_df_GBC.sum(axis=1)[:, np.newaxis]\n",
                "#Plotting the confusion matrix\n",
                "plt.figure(figsize=(5,4))\n",
                "sns.heatmap(cm_df_GBC, annot=True)\n",
                "plt.title('Confusion Matrix')\n",
                "plt.ylabel('Actal Values')\n",
                "plt.xlabel('Predicted Values')\n",
                "plt.show()"
            ]
        },
        {
            "cell_type": "code",
            "execution_count": 105,
            "id": "9cd671d9",
            "metadata": {},
            "outputs": [
                {
                    "name": "stdout",
                    "output_type": "stream",
                    "text": [
                        "              precision    recall  f1-score   support\n",
                        "\n",
                        "           1       0.65      0.72      0.68      1365\n",
                        "           2       0.61      0.52      0.56      1123\n",
                        "\n",
                        "    accuracy                           0.63      2488\n",
                        "   macro avg       0.63      0.62      0.62      2488\n",
                        "weighted avg       0.63      0.63      0.63      2488\n",
                        "\n"
                    ]
                }
            ],
            "source": [
                "# Print the imbalanced classification report\n",
                "print(classification_report(y_test, y_pred_GBC))\n"
            ]
        },
        {
            "cell_type": "markdown",
            "id": "3e8ceb7d",
            "metadata": {},
            "source": [
                "# Naive Bayes model"
            ]
        },
        {
            "cell_type": "code",
            "execution_count": 106,
            "id": "c98c44fb",
            "metadata": {},
            "outputs": [
                {
                    "data": {
                        "text/plain": [
                            "GaussianNB()"
                        ]
                    },
                    "execution_count": 106,
                    "metadata": {},
                    "output_type": "execute_result"
                }
            ],
            "source": [
                "from sklearn.naive_bayes import GaussianNB\n",
                "classifiers_bayes = GaussianNB()\n",
                "classifiers_bayes.fit(X_train_scaled, y_train)"
            ]
        },
        {
            "cell_type": "code",
            "execution_count": 107,
            "id": "bf091d9f",
            "metadata": {},
            "outputs": [],
            "source": [
                "y_pred_bayes  =  classifiers_bayes.predict(X_test_scaled)"
            ]
        },
        {
            "cell_type": "code",
            "execution_count": 108,
            "id": "f0122ef5",
            "metadata": {},
            "outputs": [
                {
                    "data": {
                        "text/html": [
                            "<div>\n",
                            "<style scoped>\n",
                            "    .dataframe tbody tr th:only-of-type {\n",
                            "        vertical-align: middle;\n",
                            "    }\n",
                            "\n",
                            "    .dataframe tbody tr th {\n",
                            "        vertical-align: top;\n",
                            "    }\n",
                            "\n",
                            "    .dataframe thead th {\n",
                            "        text-align: right;\n",
                            "    }\n",
                            "</style>\n",
                            "<table border=\"1\" class=\"dataframe\">\n",
                            "  <thead>\n",
                            "    <tr style=\"text-align: right;\">\n",
                            "      <th></th>\n",
                            "      <th>Prediction</th>\n",
                            "      <th>Actual</th>\n",
                            "    </tr>\n",
                            "  </thead>\n",
                            "  <tbody>\n",
                            "    <tr>\n",
                            "      <th>8238</th>\n",
                            "      <td>1</td>\n",
                            "      <td>1</td>\n",
                            "    </tr>\n",
                            "    <tr>\n",
                            "      <th>2291</th>\n",
                            "      <td>2</td>\n",
                            "      <td>1</td>\n",
                            "    </tr>\n",
                            "    <tr>\n",
                            "      <th>10958</th>\n",
                            "      <td>2</td>\n",
                            "      <td>1</td>\n",
                            "    </tr>\n",
                            "    <tr>\n",
                            "      <th>5677</th>\n",
                            "      <td>2</td>\n",
                            "      <td>2</td>\n",
                            "    </tr>\n",
                            "    <tr>\n",
                            "      <th>13335</th>\n",
                            "      <td>1</td>\n",
                            "      <td>1</td>\n",
                            "    </tr>\n",
                            "    <tr>\n",
                            "      <th>3742</th>\n",
                            "      <td>1</td>\n",
                            "      <td>1</td>\n",
                            "    </tr>\n",
                            "    <tr>\n",
                            "      <th>12814</th>\n",
                            "      <td>1</td>\n",
                            "      <td>2</td>\n",
                            "    </tr>\n",
                            "    <tr>\n",
                            "      <th>351</th>\n",
                            "      <td>1</td>\n",
                            "      <td>1</td>\n",
                            "    </tr>\n",
                            "    <tr>\n",
                            "      <th>1149</th>\n",
                            "      <td>2</td>\n",
                            "      <td>1</td>\n",
                            "    </tr>\n",
                            "    <tr>\n",
                            "      <th>8418</th>\n",
                            "      <td>2</td>\n",
                            "      <td>2</td>\n",
                            "    </tr>\n",
                            "    <tr>\n",
                            "      <th>13752</th>\n",
                            "      <td>1</td>\n",
                            "      <td>1</td>\n",
                            "    </tr>\n",
                            "    <tr>\n",
                            "      <th>9219</th>\n",
                            "      <td>2</td>\n",
                            "      <td>2</td>\n",
                            "    </tr>\n",
                            "    <tr>\n",
                            "      <th>3694</th>\n",
                            "      <td>2</td>\n",
                            "      <td>1</td>\n",
                            "    </tr>\n",
                            "    <tr>\n",
                            "      <th>12246</th>\n",
                            "      <td>2</td>\n",
                            "      <td>1</td>\n",
                            "    </tr>\n",
                            "    <tr>\n",
                            "      <th>593</th>\n",
                            "      <td>1</td>\n",
                            "      <td>2</td>\n",
                            "    </tr>\n",
                            "    <tr>\n",
                            "      <th>6346</th>\n",
                            "      <td>2</td>\n",
                            "      <td>2</td>\n",
                            "    </tr>\n",
                            "    <tr>\n",
                            "      <th>5099</th>\n",
                            "      <td>1</td>\n",
                            "      <td>1</td>\n",
                            "    </tr>\n",
                            "    <tr>\n",
                            "      <th>11881</th>\n",
                            "      <td>1</td>\n",
                            "      <td>2</td>\n",
                            "    </tr>\n",
                            "    <tr>\n",
                            "      <th>5009</th>\n",
                            "      <td>2</td>\n",
                            "      <td>2</td>\n",
                            "    </tr>\n",
                            "    <tr>\n",
                            "      <th>10121</th>\n",
                            "      <td>2</td>\n",
                            "      <td>1</td>\n",
                            "    </tr>\n",
                            "  </tbody>\n",
                            "</table>\n",
                            "</div>"
                        ],
                        "text/plain": [
                            "       Prediction  Actual\n",
                            "8238            1       1\n",
                            "2291            2       1\n",
                            "10958           2       1\n",
                            "5677            2       2\n",
                            "13335           1       1\n",
                            "3742            1       1\n",
                            "12814           1       2\n",
                            "351             1       1\n",
                            "1149            2       1\n",
                            "8418            2       2\n",
                            "13752           1       1\n",
                            "9219            2       2\n",
                            "3694            2       1\n",
                            "12246           2       1\n",
                            "593             1       2\n",
                            "6346            2       2\n",
                            "5099            1       1\n",
                            "11881           1       2\n",
                            "5009            2       2\n",
                            "10121           2       1"
                        ]
                    },
                    "execution_count": 108,
                    "metadata": {},
                    "output_type": "execute_result"
                }
            ],
            "source": [
                "pd.DataFrame({\"Prediction\": y_pred_bayes, \"Actual\": y_test}).head(20)"
            ]
        },
        {
            "cell_type": "code",
            "execution_count": 109,
            "id": "0c25938c",
            "metadata": {},
            "outputs": [
                {
                    "name": "stdout",
                    "output_type": "stream",
                    "text": [
                        "Accuracy Score : 0.5385852090032154\n"
                    ]
                }
            ],
            "source": [
                "# Calculating the accuracy score\n",
                "acc_score_bayes = accuracy_score(y_test, y_pred_bayes)\n",
                "print(f\"Accuracy Score : {acc_score_bayes}\")"
            ]
        },
        {
            "cell_type": "code",
            "execution_count": 110,
            "id": "5ce01127",
            "metadata": {},
            "outputs": [
                {
                    "name": "stderr",
                    "output_type": "stream",
                    "text": [
                        "/Users/ramyaramamurthy/opt/anaconda3/envs/mlenv/lib/python3.7/site-packages/ipykernel_launcher.py:7: FutureWarning: Support for multi-dimensional indexing (e.g. `obj[:, None]`) is deprecated and will be removed in a future version.  Convert to a numpy array before indexing instead.\n",
                        "  import sys\n"
                    ]
                },
                {
                    "data": {
                        "image/png": "[encoded data removed]",
                        "text/plain": [
                            "<Figure size 360x288 with 2 Axes>"
                        ]
                    },
                    "metadata": {
                        "needs_background": "light"
                    },
                    "output_type": "display_data"
                }
            ],
            "source": [
                "cm_bayes = confusion_matrix(y_test, y_pred_bayes)\n",
                "# Creating a dataframe for a array-formatted Confusion matrix,so it will be easy for plotting.\n",
                "cm_df_bayes = pd.DataFrame(cm_bayes,\n",
                "                     index = ['Tier1','Tier2'], \n",
                "                     columns = ['Tier1','Tier2'])\n",
                "\n",
                "cm_df_bayes = cm_df_bayes.astype('float') / cm_df_bayes.sum(axis=1)[:, np.newaxis]\n",
                "#Plotting the confusion matrix\n",
                "plt.figure(figsize=(5,4))\n",
                "sns.heatmap(cm_df_bayes, annot=True)\n",
                "plt.title('Confusion Matrix')\n",
                "plt.ylabel('Actal Values')\n",
                "plt.xlabel('Predicted Values')\n",
                "plt.show()"
            ]
        },
        {
            "cell_type": "code",
            "execution_count": 111,
            "id": "8b7ada48",
            "metadata": {},
            "outputs": [
                {
                    "name": "stdout",
                    "output_type": "stream",
                    "text": [
                        "              precision    recall  f1-score   support\n",
                        "\n",
                        "           1       0.66      0.33      0.44      1365\n",
                        "           2       0.49      0.79      0.61      1123\n",
                        "\n",
                        "    accuracy                           0.54      2488\n",
                        "   macro avg       0.58      0.56      0.52      2488\n",
                        "weighted avg       0.58      0.54      0.52      2488\n",
                        "\n"
                    ]
                }
            ],
            "source": [
                "# Print the imbalanced classification report\n",
                "print(classification_report(y_test, y_pred_bayes))"
            ]
        },
        {
            "cell_type": "code",
            "execution_count": 112,
            "id": "4bf94bb6",
            "metadata": {},
            "outputs": [
                {
                    "name": "stdout",
                    "output_type": "stream",
                    "text": [
                        "----------------------------------------\n",
                        "Accuracy\n",
                        "----------------------------------------\n",
                        "Naive Bayes Test Accuracy:  53.85852090032154 %\n",
                        "Random Forest Test Accuracy:  62.5 %\n",
                        "Adaboost Test Accuracy:  65.39389067524117 %\n",
                        "Gradient Boost Test Accuracy:  63.14308681672026 %\n",
                        "Logistic Regession Test Accuracy:  58.561093247588424 %\n",
                        "\n",
                        "----------------------------------------\n",
                        "Weighted F1 Score\n",
                        "----------------------------------------\n",
                        "Naive Bayes F1 Score:  0.516029977621867\n",
                        "Random Forest F1 Score:  0.6251281606230916\n",
                        "Adaboost F1 Score:  0.6543272249380296\n",
                        "Gradient Boost F1 Score:  0.6276025653420223\n",
                        "Logistic Regession F1 Score:  0.5763378102346595\n"
                    ]
                }
            ],
            "source": [
                "# print the accuracy score of each model:\n",
                "print('----------------------------------------')\n",
                "print('Accuracy')\n",
                "print('----------------------------------------')\n",
                "print('Naive Bayes Test Accuracy: ', accuracy_score(y_test, y_pred_bayes)*100,'%')\n",
                "print('Random Forest Test Accuracy: ', accuracy_score(y_test, y_pred_RF)*100,'%')\n",
                "print('Adaboost Test Accuracy: ', accuracy_score(y_test, y_pred_Ada)*100,'%')\n",
                "print('Gradient Boost Test Accuracy: ', accuracy_score(y_test, y_pred_GBC)*100,'%')\n",
                "print('Logistic Regession Test Accuracy: ', accuracy_score(y_test, y_pred_LR)*100,'%')\n",
                "\n",
                "# Print the F1 score of each model:\n",
                "print('\\n----------------------------------------')    \n",
                "print('Weighted F1 Score')\n",
                "print('----------------------------------------')\n",
                "print('Naive Bayes F1 Score: ', f1_score(y_test, y_pred_bayes, average='weighted'))\n",
                "print('Random Forest F1 Score: ', f1_score(y_test, y_pred_RF, average='weighted'))\n",
                "print('Adaboost F1 Score: ', f1_score(y_test, y_pred_Ada, average='weighted'))\n",
                "print('Gradient Boost F1 Score: ', f1_score(y_test, y_pred_GBC, average='weighted'))\n",
                "print('Logistic Regession F1 Score: ', f1_score(y_test, y_pred_LR, average='weighted'))\n"
            ]
        },
        {
            "cell_type": "code",
            "execution_count": null,
            "id": "6deb96b7",
            "metadata": {},
            "outputs": [],
            "source": []
        },
        {
            "cell_type": "code",
            "execution_count": null,
            "id": "c1269778",
            "metadata": {},
            "outputs": [],
            "source": []
        },
        {
            "cell_type": "code",
            "execution_count": null,
            "id": "c199fd10",
            "metadata": {},
            "outputs": [],
            "source": []
        }
    ],
    "metadata": {
        "kernelspec": {
            "display_name": "mlenv",
            "language": "python",
            "name": "mlenv"
        },
        "language_info": {
            "codemirror_mode": {
                "name": "ipython",
                "version": 3
            },
            "file_extension": ".py",
            "mimetype": "text/x-python",
            "name": "python",
            "nbconvert_exporter": "python",
            "pygments_lexer": "ipython3",
            "version": "3.7.11"
        }
    },
    "nbformat": 4,
    "nbformat_minor": 5
}
