{
    "cells": [
        {
            "cell_type": "code",
            "execution_count": 101,
            "metadata": {},
            "outputs": [],
            "source": [
                "import pandas as pd\n",
                "import numpy as np\n",
                "from pathlib import Path\n",
                "import matplotlib.pyplot as plt\n",
                "from sklearn.linear_model import LinearRegression\n",
                "from sklearn.model_selection import train_test_split\n",
                "from collections import Counter\n",
                "from sklearn.preprocessing import StandardScaler\n",
                "from sklearn import linear_model\n",
                "from sklearn.metrics import accuracy_score, confusion_matrix, f1_score, classification_report\n",
                "import statsmodels.api as sm"
            ]
        },
        {
            "cell_type": "code",
            "execution_count": 84,
            "metadata": {},
            "outputs": [
                {
                    "data": {
                        "text/html": [
                            "<div>\n",
                            "<style scoped>\n",
                            "    .dataframe tbody tr th:only-of-type {\n",
                            "        vertical-align: middle;\n",
                            "    }\n",
                            "\n",
                            "    .dataframe tbody tr th {\n",
                            "        vertical-align: top;\n",
                            "    }\n",
                            "\n",
                            "    .dataframe thead th {\n",
                            "        text-align: right;\n",
                            "    }\n",
                            "</style>\n",
                            "<table border=\"1\" class=\"dataframe\">\n",
                            "  <thead>\n",
                            "    <tr style=\"text-align: right;\">\n",
                            "      <th></th>\n",
                            "      <th>postal_code</th>\n",
                            "      <th>City</th>\n",
                            "      <th>State</th>\n",
                            "      <th>CountyName</th>\n",
                            "      <th>2021</th>\n",
                            "      <th>total_restaurants</th>\n",
                            "      <th>total_reviews</th>\n",
                            "      <th>avg_rating</th>\n",
                            "      <th>total_delivery</th>\n",
                            "      <th>total_pickup</th>\n",
                            "      <th>...</th>\n",
                            "      <th>total_2.5_stars</th>\n",
                            "      <th>total_3.0_stars</th>\n",
                            "      <th>total_3.5_stars</th>\n",
                            "      <th>total_4.0_stars</th>\n",
                            "      <th>total_4.5_stars</th>\n",
                            "      <th>total_5.0_stars</th>\n",
                            "      <th>num_rest_types</th>\n",
                            "      <th>Average County House Price</th>\n",
                            "      <th>Neighborhood Indicator</th>\n",
                            "      <th>Neighborhood Tiers</th>\n",
                            "    </tr>\n",
                            "  </thead>\n",
                            "  <tbody>\n",
                            "    <tr>\n",
                            "      <th>0</th>\n",
                            "      <td>1267.0</td>\n",
                            "      <td>Williamstown</td>\n",
                            "      <td>MA</td>\n",
                            "      <td>Berkshire County</td>\n",
                            "      <td>357029.0</td>\n",
                            "      <td>23</td>\n",
                            "      <td>1347.0</td>\n",
                            "      <td>3.782609</td>\n",
                            "      <td>1.0</td>\n",
                            "      <td>2.0</td>\n",
                            "      <td>...</td>\n",
                            "      <td>0.0</td>\n",
                            "      <td>2.0</td>\n",
                            "      <td>5.0</td>\n",
                            "      <td>11.0</td>\n",
                            "      <td>3.0</td>\n",
                            "      <td>1.0</td>\n",
                            "      <td>23</td>\n",
                            "      <td>357029.0</td>\n",
                            "      <td>1.000000</td>\n",
                            "      <td>2</td>\n",
                            "    </tr>\n",
                            "    <tr>\n",
                            "      <th>1</th>\n",
                            "      <td>2134.0</td>\n",
                            "      <td>Boston</td>\n",
                            "      <td>MA</td>\n",
                            "      <td>Suffolk County</td>\n",
                            "      <td>620830.0</td>\n",
                            "      <td>1</td>\n",
                            "      <td>2.0</td>\n",
                            "      <td>4.500000</td>\n",
                            "      <td>0.0</td>\n",
                            "      <td>0.0</td>\n",
                            "      <td>...</td>\n",
                            "      <td>0.0</td>\n",
                            "      <td>0.0</td>\n",
                            "      <td>0.0</td>\n",
                            "      <td>0.0</td>\n",
                            "      <td>1.0</td>\n",
                            "      <td>0.0</td>\n",
                            "      <td>0</td>\n",
                            "      <td>584495.0</td>\n",
                            "      <td>1.062165</td>\n",
                            "      <td>2</td>\n",
                            "    </tr>\n",
                            "    <tr>\n",
                            "      <th>2</th>\n",
                            "      <td>11702.0</td>\n",
                            "      <td>Babylon</td>\n",
                            "      <td>NY</td>\n",
                            "      <td>Suffolk County</td>\n",
                            "      <td>612637.0</td>\n",
                            "      <td>34</td>\n",
                            "      <td>6364.0</td>\n",
                            "      <td>3.926471</td>\n",
                            "      <td>31.0</td>\n",
                            "      <td>20.0</td>\n",
                            "      <td>...</td>\n",
                            "      <td>0.0</td>\n",
                            "      <td>1.0</td>\n",
                            "      <td>10.0</td>\n",
                            "      <td>17.0</td>\n",
                            "      <td>5.0</td>\n",
                            "      <td>1.0</td>\n",
                            "      <td>34</td>\n",
                            "      <td>584495.0</td>\n",
                            "      <td>1.048148</td>\n",
                            "      <td>2</td>\n",
                            "    </tr>\n",
                            "    <tr>\n",
                            "      <th>3</th>\n",
                            "      <td>11703.0</td>\n",
                            "      <td>North Babylon</td>\n",
                            "      <td>NY</td>\n",
                            "      <td>Suffolk County</td>\n",
                            "      <td>501250.0</td>\n",
                            "      <td>5</td>\n",
                            "      <td>708.0</td>\n",
                            "      <td>4.200000</td>\n",
                            "      <td>4.0</td>\n",
                            "      <td>3.0</td>\n",
                            "      <td>...</td>\n",
                            "      <td>0.0</td>\n",
                            "      <td>0.0</td>\n",
                            "      <td>1.0</td>\n",
                            "      <td>2.0</td>\n",
                            "      <td>1.0</td>\n",
                            "      <td>1.0</td>\n",
                            "      <td>9</td>\n",
                            "      <td>584495.0</td>\n",
                            "      <td>0.857578</td>\n",
                            "      <td>2</td>\n",
                            "    </tr>\n",
                            "    <tr>\n",
                            "      <th>4</th>\n",
                            "      <td>11704.0</td>\n",
                            "      <td>West Babylon</td>\n",
                            "      <td>NY</td>\n",
                            "      <td>Suffolk County</td>\n",
                            "      <td>501198.0</td>\n",
                            "      <td>3</td>\n",
                            "      <td>231.0</td>\n",
                            "      <td>4.000000</td>\n",
                            "      <td>3.0</td>\n",
                            "      <td>3.0</td>\n",
                            "      <td>...</td>\n",
                            "      <td>0.0</td>\n",
                            "      <td>0.0</td>\n",
                            "      <td>1.0</td>\n",
                            "      <td>1.0</td>\n",
                            "      <td>1.0</td>\n",
                            "      <td>0.0</td>\n",
                            "      <td>5</td>\n",
                            "      <td>584495.0</td>\n",
                            "      <td>0.857489</td>\n",
                            "      <td>2</td>\n",
                            "    </tr>\n",
                            "  </tbody>\n",
                            "</table>\n",
                            "<p>5 rows × 29 columns</p>\n",
                            "</div>"
                        ],
                        "text/plain": [
                            "   postal_code           City State        CountyName      2021  \\\n",
                            "0       1267.0   Williamstown    MA  Berkshire County  357029.0   \n",
                            "1       2134.0         Boston    MA    Suffolk County  620830.0   \n",
                            "2      11702.0        Babylon    NY    Suffolk County  612637.0   \n",
                            "3      11703.0  North Babylon    NY    Suffolk County  501250.0   \n",
                            "4      11704.0   West Babylon    NY    Suffolk County  501198.0   \n",
                            "\n",
                            "   total_restaurants  total_reviews  avg_rating  total_delivery  total_pickup  \\\n",
                            "0                 23         1347.0    3.782609             1.0           2.0   \n",
                            "1                  1            2.0    4.500000             0.0           0.0   \n",
                            "2                 34         6364.0    3.926471            31.0          20.0   \n",
                            "3                  5          708.0    4.200000             4.0           3.0   \n",
                            "4                  3          231.0    4.000000             3.0           3.0   \n",
                            "\n",
                            "   ...  total_2.5_stars  total_3.0_stars  total_3.5_stars  total_4.0_stars  \\\n",
                            "0  ...              0.0              2.0              5.0             11.0   \n",
                            "1  ...              0.0              0.0              0.0              0.0   \n",
                            "2  ...              0.0              1.0             10.0             17.0   \n",
                            "3  ...              0.0              0.0              1.0              2.0   \n",
                            "4  ...              0.0              0.0              1.0              1.0   \n",
                            "\n",
                            "   total_4.5_stars  total_5.0_stars  num_rest_types  \\\n",
                            "0              3.0              1.0              23   \n",
                            "1              1.0              0.0               0   \n",
                            "2              5.0              1.0              34   \n",
                            "3              1.0              1.0               9   \n",
                            "4              1.0              0.0               5   \n",
                            "\n",
                            "   Average County House Price  Neighborhood Indicator  Neighborhood Tiers  \n",
                            "0                    357029.0                1.000000                   2  \n",
                            "1                    584495.0                1.062165                   2  \n",
                            "2                    584495.0                1.048148                   2  \n",
                            "3                    584495.0                0.857578                   2  \n",
                            "4                    584495.0                0.857489                   2  \n",
                            "\n",
                            "[5 rows x 29 columns]"
                        ]
                    },
                    "execution_count": 84,
                    "metadata": {},
                    "output_type": "execute_result"
                }
            ],
            "source": [
                "df = pd.read_csv(Path('../Neighborhood/neighborhood_county_tier_final.csv'))\n",
                "df.head()"
            ]
        },
        {
            "cell_type": "code",
            "execution_count": 85,
            "metadata": {},
            "outputs": [
                {
                    "data": {
                        "image/png": "[encoded data removed]",
                        "text/plain": [
                            "<Figure size 432x288 with 1 Axes>"
                        ]
                    },
                    "metadata": {
                        "needs_background": "light"
                    },
                    "output_type": "display_data"
                }
            ],
            "source": [
                "plt.scatter(df.total_reviews, df[\"Average County House Price\"])\n",
                "plt.xlabel('total_reviews')\n",
                "plt.ylabel('Neighborhood Indicator')\n",
                "plt.show()"
            ]
        },
        {
            "cell_type": "code",
            "execution_count": 86,
            "metadata": {},
            "outputs": [
                {
                    "data": {
                        "text/html": [
                            "<div>\n",
                            "<style scoped>\n",
                            "    .dataframe tbody tr th:only-of-type {\n",
                            "        vertical-align: middle;\n",
                            "    }\n",
                            "\n",
                            "    .dataframe tbody tr th {\n",
                            "        vertical-align: top;\n",
                            "    }\n",
                            "\n",
                            "    .dataframe thead th {\n",
                            "        text-align: right;\n",
                            "    }\n",
                            "</style>\n",
                            "<table border=\"1\" class=\"dataframe\">\n",
                            "  <thead>\n",
                            "    <tr style=\"text-align: right;\">\n",
                            "      <th></th>\n",
                            "      <th>total_restaurants</th>\n",
                            "      <th>total_reviews</th>\n",
                            "      <th>avg_rating</th>\n",
                            "      <th>num_rest_types</th>\n",
                            "    </tr>\n",
                            "  </thead>\n",
                            "  <tbody>\n",
                            "    <tr>\n",
                            "      <th>0</th>\n",
                            "      <td>23</td>\n",
                            "      <td>1347.0</td>\n",
                            "      <td>3.782609</td>\n",
                            "      <td>23</td>\n",
                            "    </tr>\n",
                            "    <tr>\n",
                            "      <th>1</th>\n",
                            "      <td>1</td>\n",
                            "      <td>2.0</td>\n",
                            "      <td>4.500000</td>\n",
                            "      <td>0</td>\n",
                            "    </tr>\n",
                            "    <tr>\n",
                            "      <th>2</th>\n",
                            "      <td>34</td>\n",
                            "      <td>6364.0</td>\n",
                            "      <td>3.926471</td>\n",
                            "      <td>34</td>\n",
                            "    </tr>\n",
                            "    <tr>\n",
                            "      <th>3</th>\n",
                            "      <td>5</td>\n",
                            "      <td>708.0</td>\n",
                            "      <td>4.200000</td>\n",
                            "      <td>9</td>\n",
                            "    </tr>\n",
                            "    <tr>\n",
                            "      <th>4</th>\n",
                            "      <td>3</td>\n",
                            "      <td>231.0</td>\n",
                            "      <td>4.000000</td>\n",
                            "      <td>5</td>\n",
                            "    </tr>\n",
                            "  </tbody>\n",
                            "</table>\n",
                            "</div>"
                        ],
                        "text/plain": [
                            "   total_restaurants  total_reviews  avg_rating  num_rest_types\n",
                            "0                 23         1347.0    3.782609              23\n",
                            "1                  1            2.0    4.500000               0\n",
                            "2                 34         6364.0    3.926471              34\n",
                            "3                  5          708.0    4.200000               9\n",
                            "4                  3          231.0    4.000000               5"
                        ]
                    },
                    "execution_count": 86,
                    "metadata": {},
                    "output_type": "execute_result"
                }
            ],
            "source": [
                "# Create the features\n",
                "X = df[['total_restaurants',\n",
                " 'total_reviews',\n",
                " 'avg_rating',\n",
                " 'num_rest_types']]\n",
                "X.head()"
            ]
        },
        {
            "cell_type": "code",
            "execution_count": 87,
            "metadata": {},
            "outputs": [
                {
                    "data": {
                        "text/plain": [
                            "(13988, 4)"
                        ]
                    },
                    "execution_count": 87,
                    "metadata": {},
                    "output_type": "execute_result"
                }
            ],
            "source": [
                "# The shape of X is 30 samples, with a single feature (column)\n",
                "X.shape"
            ]
        },
        {
            "cell_type": "code",
            "execution_count": 88,
            "metadata": {},
            "outputs": [],
            "source": [
                "y = df[\"Neighborhood Indicator\"]"
            ]
        },
        {
            "cell_type": "code",
            "execution_count": 89,
            "metadata": {},
            "outputs": [],
            "source": [
                "# Splitting into Train and Test sets\n",
                "X_train, X_test, y_train, y_test = train_test_split(X, y, random_state=7)\n",
                "#print(f\"y_train: {Counter(y_train)}\")\n",
                "#print(f\"y_test: {Counter(y_test)}\")\n"
            ]
        },
        {
            "cell_type": "code",
            "execution_count": 90,
            "metadata": {},
            "outputs": [],
            "source": [
                "# Creating StandardScaler instance\n",
                "scaler = StandardScaler()\n",
                "\n",
                "# Fitting Standard Scaler\n",
                "X_scaler = scaler.fit(X_train)\n",
                "\n",
                "# Scaling data\n",
                "X_train_scaled = X_scaler.transform(X_train)\n",
                "X_test_scaled = X_scaler.transform(X_test)"
            ]
        },
        {
            "cell_type": "code",
            "execution_count": null,
            "metadata": {},
            "outputs": [],
            "source": []
        },
        {
            "cell_type": "code",
            "execution_count": 91,
            "metadata": {},
            "outputs": [],
            "source": [
                "# Create a model with scikit-learn\n",
                "model = LinearRegression()"
            ]
        },
        {
            "cell_type": "code",
            "execution_count": 92,
            "metadata": {},
            "outputs": [
                {
                    "data": {
                        "text/plain": [
                            "LinearRegression()"
                        ]
                    },
                    "execution_count": 92,
                    "metadata": {},
                    "output_type": "execute_result"
                }
            ],
            "source": [
                "# Fit the data into the model\n",
                "# By convention, X is capitalized and y is lowercase\n",
                "model.fit(X_train,y_train)"
            ]
        },
        {
            "cell_type": "code",
            "execution_count": 93,
            "metadata": {},
            "outputs": [
                {
                    "name": "stdout",
                    "output_type": "stream",
                    "text": [
                        "(3497,)\n"
                    ]
                }
            ],
            "source": [
                "# The model creates predicted y values based on X values\n",
                "y_pred = model.predict(X_test)\n",
                "print(y_pred.shape)"
            ]
        },
        {
            "cell_type": "code",
            "execution_count": 94,
            "metadata": {},
            "outputs": [
                {
                    "name": "stdout",
                    "output_type": "stream",
                    "text": [
                        "Intercept:  0.9032310748843971\n",
                        "Coefficients:\n"
                    ]
                },
                {
                    "data": {
                        "text/plain": [
                            "[('total_restaurants', -0.0052533476515846484),\n",
                            " ('total_reviews', 9.216870820614787e-06),\n",
                            " ('avg_rating', 0.02859309399463415),\n",
                            " ('num_rest_types', 0.008321635392788062)]"
                        ]
                    },
                    "execution_count": 94,
                    "metadata": {},
                    "output_type": "execute_result"
                }
            ],
            "source": [
                "#Intercept and Coefficient\n",
                "print(\"Intercept: \", model.intercept_)\n",
                "print(\"Coefficients:\")\n",
                "list(zip(X, model.coef_))"
            ]
        },
        {
            "cell_type": "code",
            "execution_count": 95,
            "metadata": {},
            "outputs": [
                {
                    "data": {
                        "text/html": [
                            "<div>\n",
                            "<style scoped>\n",
                            "    .dataframe tbody tr th:only-of-type {\n",
                            "        vertical-align: middle;\n",
                            "    }\n",
                            "\n",
                            "    .dataframe tbody tr th {\n",
                            "        vertical-align: top;\n",
                            "    }\n",
                            "\n",
                            "    .dataframe thead th {\n",
                            "        text-align: right;\n",
                            "    }\n",
                            "</style>\n",
                            "<table border=\"1\" class=\"dataframe\">\n",
                            "  <thead>\n",
                            "    <tr style=\"text-align: right;\">\n",
                            "      <th></th>\n",
                            "      <th>Actual value</th>\n",
                            "      <th>Predicted value</th>\n",
                            "    </tr>\n",
                            "  </thead>\n",
                            "  <tbody>\n",
                            "    <tr>\n",
                            "      <th>10749</th>\n",
                            "      <td>1.043211</td>\n",
                            "      <td>1.048327</td>\n",
                            "    </tr>\n",
                            "    <tr>\n",
                            "      <th>5325</th>\n",
                            "      <td>0.923652</td>\n",
                            "      <td>1.000732</td>\n",
                            "    </tr>\n",
                            "    <tr>\n",
                            "      <th>9498</th>\n",
                            "      <td>0.625716</td>\n",
                            "      <td>0.963495</td>\n",
                            "    </tr>\n",
                            "    <tr>\n",
                            "      <th>1923</th>\n",
                            "      <td>2.952315</td>\n",
                            "      <td>1.028161</td>\n",
                            "    </tr>\n",
                            "    <tr>\n",
                            "      <th>307</th>\n",
                            "      <td>1.002908</td>\n",
                            "      <td>1.037730</td>\n",
                            "    </tr>\n",
                            "  </tbody>\n",
                            "</table>\n",
                            "</div>"
                        ],
                        "text/plain": [
                            "       Actual value  Predicted value\n",
                            "10749      1.043211         1.048327\n",
                            "5325       0.923652         1.000732\n",
                            "9498       0.625716         0.963495\n",
                            "1923       2.952315         1.028161\n",
                            "307        1.002908         1.037730"
                        ]
                    },
                    "execution_count": 95,
                    "metadata": {},
                    "output_type": "execute_result"
                }
            ],
            "source": [
                "#Actual value and the predicted value\n",
                "mlr_diff = pd.DataFrame({'Actual value': y_test, 'Predicted value': y_pred})\n",
                "mlr_diff.head()\n"
            ]
        },
        {
            "cell_type": "code",
            "execution_count": 96,
            "metadata": {},
            "outputs": [
                {
                    "name": "stdout",
                    "output_type": "stream",
                    "text": [
                        "R squared: 2.71\n",
                        "Mean Absolute Error: 0.3101950911726255\n",
                        "Mean Square Error: 0.23476207672797994\n",
                        "Root Mean Square Error: 0.484522524479492\n"
                    ]
                }
            ],
            "source": [
                "from sklearn import metrics\n",
                "meanAbErr = metrics.mean_absolute_error(y_test, y_pred)\n",
                "meanSqErr = metrics.mean_squared_error(y_test, y_pred)\n",
                "rootMeanSqErr = np.sqrt(metrics.mean_squared_error(y_test, y_pred))\n",
                "print('R squared: {:.2f}'.format(model.score(X,y)*100))\n",
                "print('Mean Absolute Error:', meanAbErr)\n",
                "print('Mean Square Error:', meanSqErr)\n",
                "print('Root Mean Square Error:', rootMeanSqErr)"
            ]
        },
        {
            "cell_type": "code",
            "execution_count": null,
            "metadata": {},
            "outputs": [],
            "source": []
        },
        {
            "cell_type": "code",
            "execution_count": 97,
            "metadata": {},
            "outputs": [
                {
                    "name": "stdout",
                    "output_type": "stream",
                    "text": [
                        "[-5.25334765e-03  9.21687082e-06  2.85930940e-02  8.32163539e-03]\n",
                        "0.9032310748843971\n"
                    ]
                }
            ],
            "source": [
                "# The slope\n",
                "# The y-intercept\n",
                "print(model.coef_)\n",
                "print(model.intercept_)"
            ]
        },
        {
            "cell_type": "code",
            "execution_count": 98,
            "metadata": {},
            "outputs": [],
            "source": [
                "import numpy as np\n",
                "import pandas as pd\n",
                "import seaborn as sns\n",
                "import matplotlib.pyplot as plt\n",
                "\n"
            ]
        },
        {
            "cell_type": "code",
            "execution_count": 99,
            "metadata": {},
            "outputs": [
                {
                    "name": "stderr",
                    "output_type": "stream",
                    "text": [
                        "/Users/ramyaramamurthy/opt/anaconda3/envs/mlenv/lib/python3.7/site-packages/ipykernel_launcher.py:9: DeprecationWarning: `np.bool` is a deprecated alias for the builtin `bool`. To silence this warning, use `bool` by itself. Doing this will not modify any behavior and is safe. If you specifically wanted the numpy scalar type, use `np.bool_` here.\n",
                        "Deprecated in NumPy 1.20; for more details and guidance: https://numpy.org/devdocs/release/1.20.0-notes.html#deprecations\n",
                        "  if __name__ == '__main__':\n"
                    ]
                },
                {
                    "data": {
                        "image/png": "[encoded data removed]",
                        "text/plain": [
                            "<Figure size 720x720 with 2 Axes>"
                        ]
                    },
                    "metadata": {
                        "needs_background": "light"
                    },
                    "output_type": "display_data"
                }
            ],
            "source": [
                "df1 = df[['total_restaurants',\n",
                " 'total_reviews',\n",
                " 'avg_rating',\n",
                " 'num_rest_types', \"Average County House Price\"]]\n",
                "\n",
                "corr = df.corr(method='spearman')\n",
                "\n",
                "# Generate a mask for the upper triangle\n",
                "mask = np.zeros_like(corr, dtype=np.bool)\n",
                "mask[np.triu_indices_from(mask)] = True\n",
                "\n",
                "# Set up the matplotlib figure\n",
                "fig, ax = plt.subplots(figsize=(10, 10))\n",
                "\n",
                "# Generate a custom diverging colormap\n",
                "cmap = sns.diverging_palette(220, 10, as_cmap=True, sep=100)\n",
                "\n",
                "# Draw the heatmap with the mask and correct aspect ratio\n",
                "sns.heatmap(corr, mask=mask, cmap=cmap, vmin=-1, vmax=1, center=0, linewidths=.5)\n",
                "\n",
                "fig.suptitle('Correlation matrix of features', fontsize=15)\n",
                "\n",
                "fig.tight_layout()\n",
                "#code adapted from https://aegis4048.github.io/mutiple_linear_regression_and_visualization_in_python"
            ]
        },
        {
            "cell_type": "code",
            "execution_count": 106,
            "metadata": {},
            "outputs": [],
            "source": [
                "# Ordinary Least Squares\n",
                "lr = sm.OLS(y_train, X_train).fit()"
            ]
        },
        {
            "cell_type": "code",
            "execution_count": 108,
            "metadata": {},
            "outputs": [
                {
                    "name": "stdout",
                    "output_type": "stream",
                    "text": [
                        "                                   OLS Regression Results                                  \n",
                        "===========================================================================================\n",
                        "Dep. Variable:     Neighborhood Indicator   R-squared (uncentered):                   0.812\n",
                        "Model:                                OLS   Adj. R-squared (uncentered):              0.812\n",
                        "Method:                     Least Squares   F-statistic:                          1.134e+04\n",
                        "Date:                    Wed, 30 Mar 2022   Prob (F-statistic):                        0.00\n",
                        "Time:                            15:24:12   Log-Likelihood:                         -7965.6\n",
                        "No. Observations:                   10491   AIC:                                  1.594e+04\n",
                        "Df Residuals:                       10487   BIC:                                  1.597e+04\n",
                        "Df Model:                               4                                                  \n",
                        "Covariance Type:                nonrobust                                                  \n",
                        "=====================================================================================\n",
                        "                        coef    std err          t      P>|t|      [0.025      0.975]\n",
                        "-------------------------------------------------------------------------------------\n",
                        "total_restaurants    -0.0040      0.001     -7.084      0.000      -0.005      -0.003\n",
                        "total_reviews      3.291e-06   9.56e-07      3.441      0.001    1.42e-06    5.17e-06\n",
                        "avg_rating            0.2484      0.002    124.792      0.000       0.244       0.252\n",
                        "num_rest_types        0.0102      0.001     12.530      0.000       0.009       0.012\n",
                        "==============================================================================\n",
                        "Omnibus:                     7425.156   Durbin-Watson:                   2.034\n",
                        "Prob(Omnibus):                  0.000   Jarque-Bera (JB):           251691.410\n",
                        "Skew:                           2.981   Prob(JB):                         0.00\n",
                        "Kurtosis:                      26.243   Cond. No.                     3.02e+03\n",
                        "==============================================================================\n",
                        "\n",
                        "Notes:\n",
                        "[1] R² is computed without centering (uncentered) since the model does not contain a constant.\n",
                        "[2] Standard Errors assume that the covariance matrix of the errors is correctly specified.\n",
                        "[3] The condition number is large, 3.02e+03. This might indicate that there are\n",
                        "strong multicollinearity or other numerical problems.\n"
                    ]
                }
            ],
            "source": [
                "print(lr.summary())\n"
            ]
        },
        {
            "cell_type": "code",
            "execution_count": null,
            "metadata": {},
            "outputs": [],
            "source": []
        }
    ],
    "metadata": {
        "kernelspec": {
            "display_name": "mlenv",
            "language": "python",
            "name": "mlenv"
        },
        "language_info": {
            "codemirror_mode": {
                "name": "ipython",
                "version": 3
            },
            "file_extension": ".py",
            "mimetype": "text/x-python",
            "name": "python",
            "nbconvert_exporter": "python",
            "pygments_lexer": "ipython3",
            "version": "3.7.11"
        }
    },
    "nbformat": 4,
    "nbformat_minor": 4
}
