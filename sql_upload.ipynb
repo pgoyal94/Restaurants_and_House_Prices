{
 "cells": [
  {
   "cell_type": "code",
   "execution_count": null,
   "id": "d4a05208",
   "metadata": {},
   "outputs": [],
   "source": [
    "# this file created the table in postgres"
   ]
  },
  {
   "cell_type": "code",
   "execution_count": 1,
   "id": "ce844306",
   "metadata": {},
   "outputs": [],
   "source": [
    "import sqlalchemy as db\n",
    "import pandas as pd\n",
    "import numpy as np\n",
    "import psycopg2 as p"
   ]
  },
  {
   "cell_type": "code",
   "execution_count": 2,
   "id": "e39903f8",
   "metadata": {},
   "outputs": [],
   "source": [
    "df = pd.read_csv('resources/yelp_test1.csv')"
   ]
  },
  {
   "cell_type": "code",
   "execution_count": 3,
   "id": "18ce94ce",
   "metadata": {},
   "outputs": [],
   "source": [
    "df = df.rename(columns={'Diversity':'diversity'})"
   ]
  },
  {
   "cell_type": "code",
   "execution_count": 4,
   "id": "e8985574",
   "metadata": {},
   "outputs": [
    {
     "data": {
      "text/plain": [
       "business_id      object\n",
       "city             object\n",
       "state            object\n",
       "postal_code      object\n",
       "stars           float64\n",
       "review_count      int64\n",
       "diversity         int64\n",
       "dtype: object"
      ]
     },
     "execution_count": 4,
     "metadata": {},
     "output_type": "execute_result"
    }
   ],
   "source": [
    "#postal_code is the wrong dtype - dtype must be int\n",
    "df.dtypes"
   ]
  },
  {
   "cell_type": "code",
   "execution_count": 5,
   "id": "07947a1c",
   "metadata": {},
   "outputs": [
    {
     "data": {
      "text/plain": [
       "34984"
      ]
     },
     "execution_count": 5,
     "metadata": {},
     "output_type": "execute_result"
    }
   ],
   "source": [
    "#total number pre-change\n",
    "df.postal_code.count()"
   ]
  },
  {
   "cell_type": "code",
   "execution_count": 6,
   "id": "dd8428ad",
   "metadata": {},
   "outputs": [
    {
     "name": "stdout",
     "output_type": "stream",
     "text": [
      "22\n",
      "52\n",
      "3\n"
     ]
    }
   ],
   "source": [
    "#length of the columns in postgres\n",
    "print(df.business_id.map(len).max())\n",
    "print(df.city.map(len).max())\n",
    "print(df.state.map(len).max())"
   ]
  },
  {
   "cell_type": "code",
   "execution_count": 7,
   "id": "d47468ce",
   "metadata": {},
   "outputs": [
    {
     "data": {
      "text/plain": [
       "business_id     0\n",
       "city            0\n",
       "state           0\n",
       "postal_code     4\n",
       "stars           0\n",
       "review_count    0\n",
       "diversity       0\n",
       "dtype: int64"
      ]
     },
     "execution_count": 7,
     "metadata": {},
     "output_type": "execute_result"
    }
   ],
   "source": [
    "#number of nulls\n",
    "df.isna().sum()"
   ]
  },
  {
   "cell_type": "code",
   "execution_count": 8,
   "id": "111ba8bd",
   "metadata": {},
   "outputs": [
    {
     "data": {
      "text/plain": [
       "business_id     0\n",
       "city            0\n",
       "state           0\n",
       "postal_code     0\n",
       "stars           0\n",
       "review_count    0\n",
       "diversity       0\n",
       "dtype: int64"
      ]
     },
     "execution_count": 8,
     "metadata": {},
     "output_type": "execute_result"
    }
   ],
   "source": [
    "# filter out the non-null postal_codes\n",
    "df = df[pd.to_numeric(df['postal_code'], errors='coerce').notnull()]\n",
    "df[df['postal_code'].isnull()].count()"
   ]
  },
  {
   "cell_type": "code",
   "execution_count": 9,
   "id": "442bdc79",
   "metadata": {},
   "outputs": [],
   "source": [
    "def check_int(value):\n",
    "    try:\n",
    "        int(value)\n",
    "        return np.NaN\n",
    "    except ValueError:\n",
    "        return value"
   ]
  },
  {
   "cell_type": "code",
   "execution_count": 10,
   "id": "f479e38e",
   "metadata": {},
   "outputs": [],
   "source": [
    "# non-int postal codes = Canada\n",
    "df = df[df.postal_code.apply(check_int).isna()]"
   ]
  },
  {
   "cell_type": "code",
   "execution_count": 11,
   "id": "3dff0327",
   "metadata": {},
   "outputs": [
    {
     "data": {
      "text/plain": [
       "business_id      object\n",
       "city             object\n",
       "state            object\n",
       "postal_code       int32\n",
       "stars           float64\n",
       "review_count      int64\n",
       "diversity         int64\n",
       "dtype: object"
      ]
     },
     "execution_count": 11,
     "metadata": {},
     "output_type": "execute_result"
    }
   ],
   "source": [
    "df['postal_code'] = df['postal_code'].astype(int)\n",
    "df.dtypes"
   ]
  },
  {
   "cell_type": "code",
   "execution_count": 12,
   "id": "81f1e3af",
   "metadata": {},
   "outputs": [],
   "source": [
    "#replace all commas in a cell with nothing\n",
    "df.replace(',','', regex=True, inplace=True)"
   ]
  },
  {
   "cell_type": "code",
   "execution_count": 13,
   "id": "af8891a3",
   "metadata": {},
   "outputs": [],
   "source": [
    "df.to_csv('postgres_upload_file.csv', index=False)"
   ]
  },
  {
   "cell_type": "code",
   "execution_count": 16,
   "id": "bb2640da",
   "metadata": {},
   "outputs": [],
   "source": [
    "# Connecting to PostgreSQL server at localhost using psycopg2 DBAPI \n",
    "connection = p.connect(\n",
    "    host = \"restaurant-and-house-prices.cx3jpmtuzudq.us-west-1.rds.amazonaws.com\",\n",
    "    port = 5432,\n",
    "    user = \"postgres\",\n",
    "    password = \"\",\n",
    "    database = \"\"\n",
    ")\n",
    "cursor=connection.cursor()"
   ]
  },
  {
   "cell_type": "code",
   "execution_count": 17,
   "id": "fc0ea68b",
   "metadata": {},
   "outputs": [],
   "source": [
    "cursor.execute(\"\"\" CREATE TABLE yelp_test1(\n",
    "business_id text PRIMARY KEY,\n",
    "city text,\n",
    "state text,\n",
    "postal_code integer,\n",
    "stars float,\n",
    "reveiw_count integer,\n",
    "diversity integer)\"\"\")\n",
    "\n",
    "connection.commit()"
   ]
  },
  {
   "cell_type": "code",
   "execution_count": null,
   "id": "16c311e6",
   "metadata": {},
   "outputs": [],
   "source": [
    "with open('postgres_upload_file.csv', 'r') as row:\n",
    "    next(row)# Skip the header row\n",
    "    cursor.copy_from(row,'yelp_test1',sep=',')"
   ]
  },
  {
   "cell_type": "code",
   "execution_count": null,
   "id": "303eac4e",
   "metadata": {},
   "outputs": [],
   "source": []
  }
 ],
 "metadata": {
  "kernelspec": {
   "display_name": "Python 3 (ipykernel)",
   "language": "python",
   "name": "python3"
  },
  "language_info": {
   "codemirror_mode": {
    "name": "ipython",
    "version": 3
   },
   "file_extension": ".py",
   "mimetype": "text/x-python",
   "name": "python",
   "nbconvert_exporter": "python",
   "pygments_lexer": "ipython3",
   "version": "3.7.11"
  }
 },
 "nbformat": 4,
 "nbformat_minor": 5
}
